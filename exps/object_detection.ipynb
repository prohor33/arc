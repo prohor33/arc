{
 "cells": [
  {
   "cell_type": "code",
   "execution_count": 1,
   "outputs": [],
   "source": [
    "# libraries\n",
    "import numpy as np\n",
    "import pandas as pd\n",
    "import matplotlib.pyplot as plt\n",
    "from matplotlib import colors\n",
    "import os\n",
    "import pdb\n",
    "import json\n",
    "from os.path import join as path_join\n",
    "import cv2\n",
    "from skimage import measure"
   ],
   "metadata": {
    "collapsed": false,
    "pycharm": {
     "name": "#%%\n",
     "is_executing": false
    }
   }
  },
  {
   "cell_type": "code",
   "execution_count": 2,
   "metadata": {
    "collapsed": true,
    "pycharm": {
     "is_executing": false
    }
   },
   "outputs": [
    {
     "name": "stderr",
     "text": [
      "/Users/a18220706/.conda/envs/kaggle-arc/lib/python3.6/site-packages/ipykernel_launcher.py:3: DeprecationWarning: The default dtype for empty Series will be 'object' instead of 'float64' in a future version. Specify a dtype explicitly to silence this warning.\n  This is separate from the ipykernel package so we can avoid doing imports until\n"
     ],
     "output_type": "stream"
    }
   ],
   "source": [
    "# load data\n",
    "def load_data(path):\n",
    "    tasks = pd.Series()\n",
    "    for file_path in os.listdir(path):\n",
    "        task_file = path_join(path, file_path)\n",
    "        with open(task_file, 'r') as f:\n",
    "            task = json.load(f)\n",
    "        tasks[file_path[:-5]] = task\n",
    "    return tasks\n",
    "\n",
    "train_tasks = load_data('../ARC-master/data/training/')"
   ]
  },
  {
   "cell_type": "code",
   "execution_count": 14,
   "outputs": [
    {
     "data": {
      "text/plain": "'a85d4709'"
     },
     "metadata": {},
     "output_type": "execute_result",
     "execution_count": 14
    }
   ],
   "source": [
    "train_tasks.keys()[0]"
   ],
   "metadata": {
    "collapsed": false,
    "pycharm": {
     "name": "#%%\n",
     "is_executing": false
    }
   }
  },
  {
   "cell_type": "code",
   "execution_count": 6,
   "outputs": [
    {
     "data": {
      "text/plain": "[[0, 0, 5], [0, 5, 0], [5, 0, 0]]"
     },
     "metadata": {},
     "output_type": "execute_result",
     "execution_count": 6
    }
   ],
   "source": [
    "train_tasks[0]['train'][0]['input']"
   ],
   "metadata": {
    "collapsed": false,
    "pycharm": {
     "name": "#%%\n",
     "is_executing": false
    }
   }
  },
  {
   "cell_type": "code",
   "execution_count": 30,
   "outputs": [
    {
     "data": {
      "text/plain": "<Figure size 1000x400 with 1 Axes>",
      "image/png": "[encoded data removed]"
     },
     "metadata": {
      "needs_background": "light"
     },
     "output_type": "display_data"
    }
   ],
   "source": [
    "# standardize plotting colors\n",
    "cmap = colors.ListedColormap(['#000000', '#0074D9','#FF4136','#2ECC40','#FFDC00',\n",
    "                             '#AAAAAA', '#F012BE', '#FF851B', '#7FDBFF', '#870C25', '#004d00'])\n",
    "BACKGROUND_COLOR = 10\n",
    "norm = colors.Normalize(vmin = 0, vmax = 9)\n",
    "# 0:black, 1:blue, 2:red, 3:greed, 4:yellow,\n",
    "# 5:gray, 6:magenta, 7:orange, 8:sky, 9:brown\n",
    "# 10:darkgeen\n",
    "plt.figure(figsize=(5, 2), dpi=200)\n",
    "plt.imshow([list(range(10))], cmap=cmap, norm=norm)\n",
    "plt.xticks(list(range(10)))\n",
    "plt.yticks([])\n",
    "plt.show()\n",
    "        "
   ],
   "metadata": {
    "collapsed": false,
    "pycharm": {
     "name": "#%%\n",
     "is_executing": false
    }
   }
  },
  {
   "cell_type": "code",
   "execution_count": 38,
   "outputs": [],
   "source": [
    "class DetectedObject:\n",
    "    def __init__(self, pos):\n",
    "        self.pos = pos\n",
    "        \n",
    "        \n",
    "class ARCSolver:\n",
    "    def __init__(self, task_num):\n",
    "        self.task_num = task_num\n",
    "        # initialize objects-related things\n",
    "        self.identified_objects = []\n",
    "        self.io_inx = [] # the original index of the identified objects (io)\n",
    "        self.io_height = [] # height of io\n",
    "        self.io_width = [] # width of io\n",
    "        self.io_pixel_count = [] # count of non-background pixels\n",
    "        self.io_size = [] # overall grid size\n",
    "        self.io_unique_colors = [] # number of unique colors\n",
    "        self.io_main_color = [] # the dominating color\n",
    "        \n",
    "    def reset(self):\n",
    "        self.identified_objects = []\n",
    "        self.io_inx = [] \n",
    "        self.io_height = [] \n",
    "        self.io_width = [] \n",
    "        self.io_pixel_count = [] \n",
    "        self.io_size = [] \n",
    "        self.io_unique_colors = [] \n",
    "        self.io_main_color = []\n",
    "        \n",
    "    \n",
    "    def plot_one(self, task, ax, i, train_or_test, input_or_output):\n",
    "        cmap = colors.ListedColormap(\n",
    "            ['#000000', '#0074D9','#FF4136','#2ECC40','#FFDC00',\n",
    "             '#AAAAAA', '#F012BE', '#FF851B', '#7FDBFF', '#870C25'])\n",
    "        norm = colors.Normalize(vmin=0, vmax=9)\n",
    "        \n",
    "        input_matrix = task[train_or_test][i][input_or_output]\n",
    "        ax.imshow(input_matrix, cmap=cmap, norm=norm)\n",
    "        ax.grid(True,which='both',color='lightgrey', linewidth=0.5)    \n",
    "        ax.set_yticks([x-0.5 for x in range(1+len(input_matrix))])\n",
    "        ax.set_xticks([x-0.5 for x in range(1+len(input_matrix[0]))])     \n",
    "        ax.set_xticklabels([])\n",
    "        ax.set_yticklabels([])\n",
    "        ax.set_title(train_or_test + ' '+input_or_output)\n",
    "        \n",
    "    \n",
    "    def plot_task(self):\n",
    "        \"\"\"\n",
    "        Plots the first train and test pairs of a specified task,\n",
    "        using same color scheme as the ARC app\n",
    "        \"\"\"    \n",
    "        task = train_tasks[self.task_num]\n",
    "        name = train_tasks.keys()[self.task_num]\n",
    "        print('task:', name)\n",
    "        num_train = len(task['train'])\n",
    "        fig, axs = plt.subplots(2, num_train, figsize=(3*num_train,3*2))\n",
    "        for i in range(num_train):     \n",
    "            self.plot_one(task, axs[0,i],i,'train','input')\n",
    "            self.plot_one(task, axs[1,i],i,'train','output')        \n",
    "        plt.tight_layout()\n",
    "        plt.show()        \n",
    "            \n",
    "        num_test = len(task['test'])\n",
    "        fig, axs = plt.subplots(2, num_test, figsize=(3*num_test,3*2))\n",
    "        if num_test==1: \n",
    "            self.plot_one(task, axs[0],0,'test','input')\n",
    "            self.plot_one(task, axs[1],0,'test','output')     \n",
    "        else:\n",
    "            for i in range(num_test):      \n",
    "                self.plot_one(task, axs[0,i],i,'test','input')\n",
    "                self.plot_one(task, axs[1,i],i,'test','output')  \n",
    "        plt.tight_layout()\n",
    "        plt.show() \n",
    "        \n",
    "    \n",
    "    def plot_identified_objects(self, identified_objects, title = 'objects'):\n",
    "        # do not plot anything in the following situations\n",
    "        if len(identified_objects) == 0:\n",
    "            print('No objects were identified.')\n",
    "            return\n",
    "        # if len(identified_objects) > 10:\n",
    "        #     print('Way too many objects (>10). Not gonna plot them.')\n",
    "        #     return\n",
    "        \n",
    "        fig, axs = plt.subplots(1, len(identified_objects) + 1, figsize = (8,2))\n",
    "        for i in range(len(identified_objects) + 1):\n",
    "            if i == 0:\n",
    "                axs[0].text(0.5, 0.5, title, horizontalalignment = 'center', verticalalignment = 'center', fontsize = 15)\n",
    "                axs[0].get_xaxis().set_visible(False)\n",
    "                axs[0].get_yaxis().set_visible(False)\n",
    "                axs[0].axis('off')\n",
    "            else:\n",
    "                obj = identified_objects[i-1]\n",
    "                axs[i].imshow(obj, cmap = cmap, norm = norm)\n",
    "                axs[i].axis('off')\n",
    "                axs[i].set_title('object{}'.format(i))\n",
    "        plt.tight_layout()\n",
    "        plt.show()\n",
    "    \n",
    "    \n",
    "    def get_background(self, image):\n",
    "        # if image contains 0 \n",
    "        if 0 in image:\n",
    "          background = 0\n",
    "        # else use the most frequent pixel color\n",
    "        else: \n",
    "          unique_colors, counts = np.unique(image, return_counts=True)\n",
    "          background = unique_colors[np.argmax(counts)]\n",
    "        return background\n",
    "    \n",
    "    \n",
    "    def check_pairs(self, inx_pairs, this_pair, return_inx = False):\n",
    "        # check if this_pair is in inx_pairs\n",
    "        match = []\n",
    "        for pair in inx_pairs:\n",
    "          if pair[0] == this_pair[0] and pair[1] == this_pair[1]:\n",
    "            match.append(True)\n",
    "          else:\n",
    "            match.append(False)\n",
    "        if return_inx:\n",
    "          return any(match), np.where(match)\n",
    "        else:\n",
    "          return any(match)\n",
    "    \n",
    "    \n",
    "    def check_neighbors(self, all_pairs, this_pair, objectness, this_object):\n",
    "        # all_pairs: an array of index pairs for all nonzero/colored pixels\n",
    "        # this_pair: the index pair whose neighbors will be checked\n",
    "        # objectness: an array with the shape of original image, storage for how much objectness has been identified\n",
    "        # this_object: the current object we are looking at\n",
    "        row_inx = this_pair[0]\n",
    "        col_inx = this_pair[1]\n",
    "        objectness[row_inx, col_inx] = this_object\n",
    "        # find if any neighboring pixels contain color\n",
    "        if self.check_pairs(all_pairs, [row_inx-1, col_inx-1]): # up-left\n",
    "          objectness[row_inx-1, col_inx-1] = this_object\n",
    "        if self.check_pairs(all_pairs, [row_inx-1, col_inx]): # up\n",
    "          objectness[row_inx-1, col_inx] = this_object \n",
    "        if self.check_pairs(all_pairs, [row_inx-1, col_inx+1]): # up-right\n",
    "          objectness[row_inx-1, col_inx+1] = this_object\n",
    "        if self.check_pairs(all_pairs, [row_inx, col_inx-1]): # left\n",
    "          objectness[row_inx, col_inx-1] = this_object\n",
    "        if self.check_pairs(all_pairs, [row_inx, col_inx+1]): # right\n",
    "          objectness[row_inx, col_inx+1] = this_object\n",
    "        if self.check_pairs(all_pairs, [row_inx+1, col_inx-1]): # down-left\n",
    "          objectness[row_inx+1, col_inx-1] = this_object\n",
    "        if self.check_pairs(all_pairs, [row_inx+1, col_inx]): # down\n",
    "          objectness[row_inx+1, col_inx] = this_object\n",
    "        if self.check_pairs(all_pairs, [row_inx+1, col_inx+1]): # down-right\n",
    "          objectness[row_inx+1, col_inx+1] = this_object\n",
    "        return objectness\n",
    "    \n",
    "    \n",
    "    def identify_object_by_color(self, true_image, background = 0):\n",
    "        # identify object by the color only \n",
    "        unique_colors = np.unique(true_image)\n",
    "        for i, color in enumerate(unique_colors):\n",
    "          image = np.copy(true_image) # make a copy from original first\n",
    "          if color == background: \n",
    "            continue\n",
    "          image[image != color] = BACKGROUND_COLOR\n",
    "          inx = np.where(image == color)\n",
    "          obj = image[np.min(inx[0]):np.max(inx[0])+1, np.min(inx[1]):np.max(inx[1])+1]\n",
    "          # append the object attributes\n",
    "          self.identified_objects.append(obj)\n",
    "          self.io_inx.append(inx)\n",
    "          self.io_height.append(obj.shape[0])\n",
    "          self.io_width.append(obj.shape[1])\n",
    "          self.io_pixel_count.append(obj[obj != background].shape[0])\n",
    "          self.io_size.append(obj.size)\n",
    "          nc, c = np.unique(obj, return_counts = True)\n",
    "          self.io_unique_colors.append(nc)\n",
    "          self.io_main_color.append(nc[np.argmax(c)])\n",
    "    \n",
    "    \n",
    "    def identify_object_by_isolation(self, image, background = 0):\n",
    "        # identify all objects by physical isolation on the given image\n",
    "        all_pairs = np.array(np.where(image != background)).T\n",
    "        objectness = np.zeros(image.shape)\n",
    "        this_object = 1\n",
    "        while len(all_pairs) >= 1:\n",
    "          init_pair = all_pairs[0] # start with the first pair\n",
    "          objectness = self.check_neighbors(all_pairs, init_pair, objectness, this_object)\n",
    "          # get a list of index pairs whose neghbors haven't been checked\n",
    "          unchecked_pairs = np.array(np.where(objectness == this_object)).T\n",
    "          checked_pairs = np.zeros((0,2)) \n",
    "          # check all the index pairs in the expanding unchecked_pairs untill all have been checked\n",
    "          while len(unchecked_pairs) != 0:\n",
    "            this_pair = unchecked_pairs[0]\n",
    "            objectness = self.check_neighbors(all_pairs, this_pair, objectness, this_object)\n",
    "            # append the checked_pairs\n",
    "            checked_pairs = np.vstack((checked_pairs, this_pair))\n",
    "            # get all index pairs for the currently identified object\n",
    "            current_object_pairs = np.array(np.where(objectness == this_object)).T\n",
    "            # delete the checked pairs from current object pairs\n",
    "            checked_inx = []\n",
    "            for pair in checked_pairs:\n",
    "              _, inx = self.check_pairs(current_object_pairs, pair, return_inx = True)\n",
    "              checked_inx.append(inx[0][0])\n",
    "            unchecked_pairs = np.delete(current_object_pairs, checked_inx, axis = 0)\n",
    "    \n",
    "          # store this object to identified_objects\n",
    "          current_object_pairs = np.array(np.where(objectness == this_object)).T\n",
    "          cop = current_object_pairs.T\n",
    "          obj = image[np.min(cop[0]):np.max(cop[0])+1, np.min(cop[1]):np.max(cop[1])+1]\n",
    "          obj[obj == background] = BACKGROUND_COLOR\n",
    "          # delete the current object pairs from all_pairs \n",
    "          cop_inx = []\n",
    "          for pair in current_object_pairs:\n",
    "            _, this_cop_inx = self.check_pairs(all_pairs, pair, return_inx = True)\n",
    "            cop_inx.append(this_cop_inx[0][0])\n",
    "          all_pairs = np.delete(all_pairs, cop_inx, axis = 0)\n",
    "          # append the object attributes\n",
    "          self.identified_objects.append(obj)\n",
    "          self.io_inx.append(inx)\n",
    "          self.io_height.append(obj.shape[0])\n",
    "          self.io_width.append(obj.shape[1])\n",
    "          self.io_pixel_count.append(obj[obj != background].shape[0])\n",
    "          self.io_size.append(obj.size)\n",
    "          nc, c = np.unique(obj, return_counts = True)\n",
    "          self.io_unique_colors.append(nc)\n",
    "          self.io_main_color.append(nc[np.argmax(c)])\n",
    "          # start identifying a new object\n",
    "          this_object += 1\n",
    "        return objectness\n",
    "    \n",
    "    \n",
    "    def identify_object_by_color_isolation(self, true_image, background = 0):\n",
    "        # identify objects first by color then by physical isolation\n",
    "        unique_colors = np.unique(true_image)\n",
    "        for i, color in enumerate(unique_colors):\n",
    "          image = np.copy(true_image) # make a copy from the original first\n",
    "          if color == background:\n",
    "            continue\n",
    "          # identify objects by isolation in this color only \n",
    "          image[image != color] = BACKGROUND_COLOR\n",
    "          self.identify_object_by_isolation(image, background = BACKGROUND_COLOR)\n",
    "    \n",
    "    \n",
    "    def identify_object(self, image, method):\n",
    "        # a wrapper of different methods\n",
    "        # in the future method can be a parameter to be learned\n",
    "        # 1 = by_color, 2 = by_isolation, 3 = by_color_isolation\n",
    "        background = self.get_background(image)\n",
    "        if method == 1:\n",
    "          self.identify_object_by_color(image, background)\n",
    "        elif method == 2:\n",
    "          self.identify_object_by_isolation(image, background)\n",
    "        elif method == 3:\n",
    "          self.identify_object_by_color_isolation(image, background)\n",
    "    \n",
    "    \n",
    "    def extract_object_pairs(self, method):\n",
    "        # extract all objects from input and output\n",
    "        num_examples = len(train_tasks[self.task_num]['train'])\n",
    "        self.input_objects = []\n",
    "        self.input_objects_inx = []\n",
    "        self.input_objects_attr = {\"height\": [],\n",
    "                                   \"width\": [],\n",
    "                                   \"pixel_count\": [],\n",
    "                                   \"size\": [],\n",
    "                                   \"unique_colors\": [],\n",
    "                                   \"main_color\": []} \n",
    "        self.output_objects = []\n",
    "        self.output_objects_inx = []\n",
    "        self.output_objects_attr = {\"height\": [],\n",
    "                                   \"width\": [],\n",
    "                                   \"pixel_count\": [],\n",
    "                                   \"size\": [],\n",
    "                                   \"unique_colors\": [],\n",
    "                                   \"main_color\": []} \n",
    "    \n",
    "        # iterate through training examples \n",
    "        for i in range(num_examples):\n",
    "          this_input = np.array(train_tasks[self.task_num]['train'][i]['input'])\n",
    "          this_output = np.array(train_tasks[self.task_num]['train'][i]['output'])\n",
    "          # identify all objects in inputs\n",
    "          self.reset()\n",
    "          self.identify_object(this_input, method = method)\n",
    "          self.input_objects.append(self.identified_objects)\n",
    "          self.input_objects_inx.append(self.io_inx)\n",
    "          self.input_objects_attr['height'].append(self.io_height)\n",
    "          self.input_objects_attr['width'].append(self.io_width)\n",
    "          self.input_objects_attr['pixel_count'].append(self.io_pixel_count)\n",
    "          self.input_objects_attr['size'].append(self.io_size)\n",
    "          self.input_objects_attr['unique_colors'].append(self.io_unique_colors)\n",
    "          self.input_objects_attr['main_color'].append(self.io_main_color)\n",
    "          # identify all objects in outputs\n",
    "          self.reset()\n",
    "          self.identify_object(this_output, method = method)\n",
    "          self.output_objects.append(self.identified_objects)\n",
    "          self.output_objects_inx.append(self.io_inx)\n",
    "          self.output_objects_attr['height'].append(self.io_height)\n",
    "          self.output_objects_attr['width'].append(self.io_width)\n",
    "          self.output_objects_attr['pixel_count'].append(self.io_pixel_count)\n",
    "          self.output_objects_attr['size'].append(self.io_size)\n",
    "          self.output_objects_attr['unique_colors'].append(self.io_unique_colors)\n",
    "          self.output_objects_attr['main_color'].append(self.io_main_color)"
   ],
   "metadata": {
    "collapsed": false,
    "pycharm": {
     "name": "#%%\n",
     "is_executing": false
    }
   }
  },
  {
   "cell_type": "markdown",
   "source": [
    "## Let's have a look at the identified objects"
   ],
   "metadata": {
    "collapsed": false
   }
  },
  {
   "cell_type": "code",
   "execution_count": 39,
   "outputs": [
    {
     "name": "stdout",
     "text": [
      "task: c8cbb738\n"
     ],
     "output_type": "stream"
    },
    {
     "data": {
      "text/plain": "<Figure size 648x432 with 6 Axes>",
      "image/png": "[encoded data removed]"
     },
     "metadata": {
      "needs_background": "light"
     },
     "output_type": "display_data"
    },
    {
     "data": {
      "text/plain": "<Figure size 216x432 with 2 Axes>",
      "image/png": "[encoded data removed]"
     },
     "metadata": {
      "needs_background": "light"
     },
     "output_type": "display_data"
    },
    {
     "data": {
      "text/plain": "<Figure size 576x144 with 5 Axes>",
      "image/png": "[encoded data removed]"
     },
     "metadata": {
      "needs_background": "light"
     },
     "output_type": "display_data"
    },
    {
     "name": "stderr",
     "text": [
      "/Users/a18220706/.conda/envs/kaggle-arc/lib/python3.6/site-packages/ipykernel_launcher.py:96: UserWarning: Tight layout not applied. tight_layout cannot make axes width small enough to accommodate all axes decorations\n"
     ],
     "output_type": "stream"
    },
    {
     "data": {
      "text/plain": "<Figure size 576x144 with 16 Axes>",
      "image/png": "[encoded data removed]"
     },
     "metadata": {
      "needs_background": "light"
     },
     "output_type": "display_data"
    },
    {
     "data": {
      "text/plain": "<Figure size 576x144 with 17 Axes>",
      "image/png": "[encoded data removed]"
     },
     "metadata": {
      "needs_background": "light"
     },
     "output_type": "display_data"
    }
   ],
   "source": [
    "# randomly select 20 task numbers\n",
    "TASK_NUM = np.random.randint(1,400, size = 20)\n",
    "TASK_NUM = [1]\n",
    "for task_num in TASK_NUM:\n",
    "    arc = ARCSolver(task_num)\n",
    "    arc.plot_task()\n",
    "    # select an image for object identification\n",
    "    # WE USE TRAIN INPUT\n",
    "    image = np.array(train_tasks[task_num]['train'][0]['input'])\n",
    "\n",
    "    # identify objects only by color\n",
    "    arc.reset()\n",
    "    arc.identify_object(image, method = 1)\n",
    "    arc.plot_identified_objects(arc.identified_objects, title = 'by color')\n",
    "\n",
    "    # identify objects only by isolation\n",
    "    arc.reset()\n",
    "    arc.identify_object(image, method = 2)\n",
    "    arc.plot_identified_objects(arc.identified_objects, title = 'by isolation')\n",
    "\n",
    "    # identify objects by color and isolation\n",
    "    arc.reset()\n",
    "    arc.identify_object(image, method = 3)\n",
    "    arc.plot_identified_objects(arc.identified_objects, title = 'by both')"
   ],
   "metadata": {
    "collapsed": false,
    "pycharm": {
     "name": "#%%\n",
     "is_executing": false
    }
   }
  },
  {
   "cell_type": "code",
   "execution_count": null,
   "outputs": [],
   "source": [
    "\n"
   ],
   "metadata": {
    "collapsed": false,
    "pycharm": {
     "name": "#%%\n"
    }
   }
  }
 ],
 "metadata": {
  "language_info": {
   "codemirror_mode": {
    "name": "ipython",
    "version": 2
   },
   "file_extension": ".py",
   "mimetype": "text/x-python",
   "name": "python",
   "nbconvert_exporter": "python",
   "pygments_lexer": "ipython2",
   "version": "2.7.6"
  },
  "kernelspec": {
   "name": "python3",
   "language": "python",
   "display_name": "Python 3"
  },
  "pycharm": {
   "stem_cell": {
    "cell_type": "raw",
    "source": [],
    "metadata": {
     "collapsed": false
    }
   }
  }
 },
 "nbformat": 4,
 "nbformat_minor": 0
}
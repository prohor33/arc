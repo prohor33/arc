{
 "cells": [
  {
   "cell_type": "code",
   "execution_count": 7,
   "outputs": [],
   "source": [
    "# libraries\n",
    "import numpy as np\n",
    "import pandas as pd\n",
    "import matplotlib.pyplot as plt\n",
    "from matplotlib import colors\n",
    "import os\n",
    "import pdb\n",
    "import json\n",
    "from os.path import join as path_join\n",
    "import cv2\n",
    "from skimage import measure"
   ],
   "metadata": {
    "collapsed": false,
    "pycharm": {
     "name": "#%%\n",
     "is_executing": false
    }
   }
  },
  {
   "cell_type": "code",
   "execution_count": 8,
   "metadata": {
    "collapsed": true,
    "pycharm": {
     "is_executing": false
    }
   },
   "outputs": [
    {
     "name": "stderr",
     "text": [
      "/Users/a18220706/.conda/envs/kaggle-arc/lib/python3.6/site-packages/ipykernel_launcher.py:3: DeprecationWarning: The default dtype for empty Series will be 'object' instead of 'float64' in a future version. Specify a dtype explicitly to silence this warning.\n  This is separate from the ipykernel package so we can avoid doing imports until\n"
     ],
     "output_type": "stream"
    }
   ],
   "source": [
    "# load data\n",
    "def load_data(path):\n",
    "    tasks = pd.Series()\n",
    "    for file_path in os.listdir(path):\n",
    "        task_file = path_join(path, file_path)\n",
    "        with open(task_file, 'r') as f:\n",
    "            task = json.load(f)\n",
    "        tasks[file_path[:-5]] = task\n",
    "    return tasks\n",
    "\n",
    "train_tasks = load_data('../ARC-master/data/training/')"
   ]
  },
  {
   "cell_type": "code",
   "execution_count": 9,
   "outputs": [
    {
     "data": {
      "text/plain": "<Figure size 1000x400 with 1 Axes>",
      "image/png": "[encoded data removed]"
     },
     "metadata": {
      "needs_background": "light"
     },
     "output_type": "display_data"
    }
   ],
   "source": [
    "# standardize plotting colors\n",
    "cmap = colors.ListedColormap(['#000000', '#0074D9','#FF4136','#2ECC40','#FFDC00',\n",
    "                             '#AAAAAA', '#F012BE', '#FF851B', '#7FDBFF', '#870C25', '#004d00'])\n",
    "BACKGROUND_COLOR = 10\n",
    "norm = colors.Normalize(vmin = 0, vmax = 10)\n",
    "# 0:black, 1:blue, 2:red, 3:greed, 4:yellow,\n",
    "# 5:gray, 6:magenta, 7:orange, 8:sky, 9:brown\n",
    "# 10:darkgeen\n",
    "plt.figure(figsize=(5, 2), dpi=200)\n",
    "plt.imshow([list(range(11))], cmap=cmap, norm=norm)\n",
    "plt.xticks(list(range(11)))\n",
    "plt.yticks([])\n",
    "plt.show()\n",
    "        "
   ],
   "metadata": {
    "collapsed": false,
    "pycharm": {
     "name": "#%%\n",
     "is_executing": false
    }
   }
  },
  {
   "cell_type": "code",
   "execution_count": 13,
   "outputs": [],
   "source": [
    "from enum import Enum\n",
    "\n",
    "class ObjectDetectionMethod(Enum):\n",
    "    BY_COLOR = 0\n",
    "    BY_ISOLATION = 1\n",
    "    BY_COLOR_AND_ISOLATION = 2\n",
    "\n",
    "class DetectedObject:\n",
    "    def __init__(self, img, inx, pos):\n",
    "        self.img = img\n",
    "        self.inx = inx # the original index of the identified objects (io)\n",
    "        self.pos = pos        \n",
    "        self.height = img.shape[0] # height of io\n",
    "        self.width = img.shape[1] # width of io\n",
    "        # count of non-background pixels\n",
    "        self.pixel_count = img[img != BACKGROUND_COLOR].shape[0]\n",
    "        # overall grid size\n",
    "        self.size = img.size\n",
    "        nc, c = np.unique(img, return_counts = True)\n",
    "        # number of unique colors\n",
    "        self.unique_colors = nc\n",
    "        # the dominating color\n",
    "        self.color = nc[np.argmax(c)]\n",
    "        \n",
    "    # attributes to sort objects\n",
    "    def attrs(self):\n",
    "        return {\n",
    "            'color': self.color,\n",
    "            'size': self.height * self.width,\n",
    "            'pos_y': self.pos[0],\n",
    "            'pos_x': self.pos[1],\n",
    "            'pixel_count': self.pixel_count,\n",
    "            'height': self.height,\n",
    "            'width': self.width\n",
    "            #TODO: number of shared sides with other objects\n",
    "        }\n",
    "        \n",
    "    def change_color(self, color):\n",
    "        self.color = color\n",
    "        self.img[self.img != BACKGROUND_COLOR] = color\n",
    "        \n",
    "    def move(self, pos):\n",
    "        self.pos = pos\n",
    "        \n",
    "    def move_till(self, pos, direction):\n",
    "        if direction == MoveDirection.UP:\n",
    "            self.pos[0] = pos\n",
    "        elif direction == MoveDirection.DOWN:\n",
    "            self.pos[0] = pos - self.height\n",
    "        elif direction == MoveDirection.LEFT:\n",
    "            self.pos[1] = pos\n",
    "        elif direction == MoveDirection.RIGHT:\n",
    "            self.pos[1] = pos - self.width\n",
    "        else:\n",
    "            raise RuntimeError('Wrong MoveDirection')\n",
    "        \n",
    "        \n",
    "        \n",
    "class TargetObject(Enum):\n",
    "    ALL_OBJECTS = 0\n",
    "    TOP_OBJECT = 1\n",
    "    BOTTOM_OBJECT = 2\n",
    "    \n",
    "    @staticmethod\n",
    "    def by_name(name):        \n",
    "        return list(TargetObject.names.keys())[list(TargetObject.names.values()).index(name)]\n",
    "    \n",
    "    @staticmethod\n",
    "    def get_objects(target_object, objects):\n",
    "        if target_object == TargetObject.ALL_OBJECTS:\n",
    "            return objects\n",
    "        if target_object == TargetObject.TOP_OBJECT:\n",
    "            return objects[-1]\n",
    "        if target_object == TargetObject.BOTTOM_OBJECT:\n",
    "            return objects[0]\n",
    "        raise RuntimeError('Wrong target object')\n",
    " \n",
    "TargetObject.names = {\n",
    "    TargetObject.ALL_OBJECTS: 'all',\n",
    "    TargetObject.TOP_OBJECT: 'top',\n",
    "    TargetObject.BOTTOM_OBJECT: 'bottom'\n",
    "}\n",
    "\n",
    "\n",
    "class MoveDirection(Enum):\n",
    "    UP = 0\n",
    "    DOWN = 1\n",
    "    RIGHT = 2\n",
    "    LEFT = 3\n",
    "    \n",
    "    @staticmethod\n",
    "    def by_name(name):        \n",
    "        return list(MoveDirection.names.keys())[list(MoveDirection.names.values()).index(name)]\n",
    " \n",
    "MoveDirection.names = {\n",
    "    MoveDirection.UP: 'up',\n",
    "    MoveDirection.DOWN: 'down',\n",
    "    MoveDirection.RIGHT: 'right',\n",
    "    MoveDirection.LEFT: 'left'\n",
    "}\n",
    "\n",
    "\n",
    "class MoveTarget(Enum):\n",
    "    TILL_OBJECT_OR_EDGE = 0\n",
    "    TILL_EDGE = 1\n",
    "    \n",
    "    @staticmethod\n",
    "    def by_name(name):        \n",
    "        return list(MoveTarget.names.keys())[list(MoveTarget.names.values()).index(name)]\n",
    " \n",
    "MoveTarget.names = {\n",
    "    MoveTarget.TILL_OBJECT_OR_EDGE: 'till_object_or_edge',\n",
    "    MoveTarget.TILL_EDGE: 'till_edge'\n",
    "}\n",
    "\n",
    "\n",
    "class TargetColor(Enum):\n",
    "    COLOR0 = 0,\n",
    "    COLOR1 = 1,\n",
    "    COLOR2 = 2,\n",
    "    COLOR3 = 3,\n",
    "    COLOR4 = 4,\n",
    "    COLOR5 = 5,\n",
    "    COLOR6 = 6,\n",
    "    COLOR7 = 7,\n",
    "    COLOR8 = 8,\n",
    "    COLOR9 = 9,\n",
    "    COLOR10 = 10,\n",
    "    TOP_OBJECT = 11,\n",
    "    BOTTOM_OBJECT = 12\n",
    "    \n",
    "    @staticmethod\n",
    "    def to_color(target_color, objects):\n",
    "        if target_color == TargetColor.TOP_OBJECT:\n",
    "            return objects[-1].color\n",
    "        if target_color == TargetColor.BOTTOM_OBJECT:\n",
    "            return objects[0].color\n",
    "        return cmap[target_color.value]\n",
    "\n",
    "        \n",
    "class OutputGrid:\n",
    "    def __init__(self, name, shape, background_color):\n",
    "        self.name = name\n",
    "        self.shape = shape\n",
    "        self.objects = []\n",
    "        self.background_color = background_color\n",
    "        \n",
    "    def add_object(self, obj):\n",
    "        self.objects.append(obj)\n",
    "        \n",
    "    def sort_with_attr(self, attr):\n",
    "        self.objects.sort(lambda x: x.attrs[attr])\n",
    "        \n",
    "    def change_background_color(self, background_color):\n",
    "        self.background_color = background_color\n",
    "        \n",
    "    def get_target_objects(self, target_object):\n",
    "        assert self.objects\n",
    "        if target_object == TargetObject.ALL_OBJECTS:\n",
    "            return self.objects\n",
    "        elif target_object == TargetObject.TOP_OBJECT:\n",
    "            return self.objects[0]\n",
    "        elif target_object == TargetObject.BOTTOM_OBJECT:\n",
    "            return self.objects[-1]\n",
    "        \n",
    "    def change_objects_color(self, target_object, color):\n",
    "        objects = self.get_target_objects(target_object)\n",
    "        for obj in objects:\n",
    "            obj.change_color(color)\n",
    "            \n",
    "    def move_objects(self, target_object, move_direction, move_target):\n",
    "        objects = self.get_target_objects(target_object)\n",
    "        \n",
    "        for obj in objects:\n",
    "            self.move_object(obj, move_direction, move_target)\n",
    "            \n",
    "    def get_edge(self, direction):\n",
    "        if direction == MoveDirection.UP:\n",
    "            return 0\n",
    "        elif direction == MoveDirection.DOWN:\n",
    "            return self.shape[0]\n",
    "        elif direction == MoveDirection.LEFT:\n",
    "            return 0\n",
    "        elif direction == MoveDirection.RIGHT:\n",
    "            return self.shape[1]\n",
    "        else:\n",
    "            raise RuntimeError('Wrong MoveDirection')\n",
    "\n",
    "    def move_object(self, obj, direction, target):\n",
    "        if target == MoveTarget.TILL_EDGE:\n",
    "            obj.move_till(self.get_edge(direction), direction)\n",
    "        elif target == MoveTarget.TILL_OBJECT_OR_EDGE:\n",
    "            # TODO: to implement\n",
    "            return\n",
    "        \n",
    "    def plot(self):\n",
    "        img = np.full(self.shape, BACKGROUND_COLOR)\n",
    "        for obj in self.objects:\n",
    "            shape = obj.img.shape\n",
    "            img[obj.pos[0]:obj.pos[0]+shape[0], obj.pos[1]:obj.pos[1]+shape[1]] = obj.img\n",
    "        \n",
    "        fig, ax = plt.subplots()\n",
    "        plt.figure(figsize=(5, 5), dpi=200)\n",
    "        ax.imshow(img, cmap=cmap, norm=norm)\n",
    "        ax.grid(True, which='both',color='lightgrey', linewidth=0.5)    \n",
    "        ax.set_yticks([x-0.5 for x in range(1+len(img))])\n",
    "        ax.set_xticks([x-0.5 for x in range(1+len(img[0]))])     \n",
    "        ax.set_xticklabels([])\n",
    "        ax.set_yticklabels([])\n",
    "        ax.set_title(self.name)\n",
    "        plt.tight_layout()\n",
    "        plt.show()\n",
    "\n",
    "\n",
    "class ActionType(Enum):\n",
    "    CHANGE_BACKGROUND_COLOR = 0\n",
    "    ADD_OBJECT = 1\n",
    "    MOVE_OBJECT = 2\n",
    "    CHANGE_OBJECT_COLOR = 3\n",
    "    SORT_OBJECTS = 4\n",
    "    \n",
    "    @staticmethod\n",
    "    def by_name(name):        \n",
    "        return list(ActionType.names.keys())[list(ActionType.names.values()).index(name)]\n",
    " \n",
    "ActionType.names = {\n",
    "    ActionType.CHANGE_BACKGROUND_COLOR: 'set_back',\n",
    "    ActionType.ADD_OBJECT: 'add_obj',\n",
    "    ActionType.MOVE_OBJECT: 'mv_obj',\n",
    "    ActionType.CHANGE_OBJECT_COLOR: 'set_obj_clr'\n",
    "}\n",
    "\n",
    "\n",
    "ACTIONS_ARGUMENT_TYPES = {\n",
    "    ActionType.CHANGE_BACKGROUND_COLOR: TargetColor,\n",
    "    ActionType.ADD_OBJECT: TargetObject,\n",
    "    ActionType.MOVE_OBJECT: (TargetObject, MoveDirection, MoveTarget),\n",
    "    ActionType.CHANGE_OBJECT_COLOR: (TargetObject, TargetColor)\n",
    "}\n",
    "\n",
    "\n",
    "class Action:\n",
    "    def __init__(self, type, target):\n",
    "        self.type = type\n",
    "        self.target = target\n",
    "        \n",
    "    def __call__(self, grid):\n",
    "        if self.type == ActionType.CHANGE_BACKGROUND_COLOR:\n",
    "            grid.change_background_color(self.target)\n",
    "        elif self.type == ActionType.MOVE_OBJECT:\n",
    "            grid.move_objects(*self.target)\n",
    "        elif self.type == ActionType.CHANGE_OBJECT_COLOR:\n",
    "            grid.change_objects_color(*self.target)\n",
    "        elif self.type == ActionType.SORT_OBJECTS:\n",
    "            grid.sort_with_attr(self.target)\n",
    "        else:\n",
    "            raise RuntimeError('Wrong ActionType')\n",
    "        \n",
    "        \n",
    "class ARCSolver:\n",
    "    def __init__(self, task_num):\n",
    "        self.task_num = task_num\n",
    "        # initialize objects-related things\n",
    "        self.identified_objects = {}\n",
    "        \n",
    "    def reset(self):\n",
    "        self.identified_objects = {}\n",
    "        \n",
    "    \n",
    "    def plot_one(self, task, ax, i, train_or_test, input_or_output):\n",
    "        input_matrix = task[train_or_test][i][input_or_output]\n",
    "        ax.imshow(input_matrix, cmap=cmap, norm=norm)\n",
    "        ax.grid(True,which='both',color='lightgrey', linewidth=0.5)    \n",
    "        ax.set_yticks([x-0.5 for x in range(1+len(input_matrix))])\n",
    "        ax.set_xticks([x-0.5 for x in range(1+len(input_matrix[0]))])     \n",
    "        ax.set_xticklabels([])\n",
    "        ax.set_yticklabels([])\n",
    "        ax.set_title(train_or_test + ' '+input_or_output)\n",
    "        \n",
    "    \n",
    "    def plot_task(self):\n",
    "        \"\"\"\n",
    "        Plots the first train and test pairs of a specified task,\n",
    "        using same color scheme as the ARC app\n",
    "        \"\"\"    \n",
    "        task = train_tasks[self.task_num]\n",
    "        name = train_tasks.keys()[self.task_num]\n",
    "        print('task:', name)\n",
    "        num_train = len(task['train'])\n",
    "        fig, axs = plt.subplots(2, num_train, figsize=(3*num_train,3*2))\n",
    "        for i in range(num_train):     \n",
    "            self.plot_one(task, axs[0,i],i,'train','input')\n",
    "            self.plot_one(task, axs[1,i],i,'train','output')        \n",
    "        plt.tight_layout()\n",
    "        plt.show()        \n",
    "            \n",
    "        num_test = len(task['test'])\n",
    "        fig, axs = plt.subplots(2, num_test, figsize=(3*num_test,3*2))\n",
    "        if num_test==1: \n",
    "            self.plot_one(task, axs[0],0,'test','input')\n",
    "            self.plot_one(task, axs[1],0,'test','output')     \n",
    "        else:\n",
    "            for i in range(num_test):      \n",
    "                self.plot_one(task, axs[0,i],i,'test','input')\n",
    "                self.plot_one(task, axs[1,i],i,'test','output')  \n",
    "        plt.tight_layout()\n",
    "        plt.show() \n",
    "        \n",
    "    \n",
    "    def plot_identified_objects(self, identified_objects, title = 'objects'):\n",
    "        # do not plot anything in the following situations\n",
    "        if len(identified_objects) == 0:\n",
    "            print('No objects were identified.')\n",
    "            return\n",
    "        # if len(identified_objects) > 10:\n",
    "        #     print('Way too many objects (>10). Not gonna plot them.')\n",
    "        #     return\n",
    "        \n",
    "        fig, axs = plt.subplots(1, len(identified_objects) + 1, figsize = (8,2))\n",
    "        for i in range(len(identified_objects) + 1):\n",
    "            if i == 0:\n",
    "                axs[0].text(0.5, 0.5, title, horizontalalignment = 'center', verticalalignment = 'center', fontsize = 15)\n",
    "                axs[0].get_xaxis().set_visible(False)\n",
    "                axs[0].get_yaxis().set_visible(False)\n",
    "                axs[0].axis('off')\n",
    "            else:\n",
    "                obj = identified_objects[i-1]\n",
    "                axs[i].imshow(obj.img, cmap = cmap, norm = norm)\n",
    "                axs[i].axis('off')\n",
    "                axs[i].set_title('object{}'.format(i))\n",
    "        plt.tight_layout()\n",
    "        plt.show()\n",
    "    \n",
    "    \n",
    "    @staticmethod\n",
    "    def get_background(image):\n",
    "        # if image contains 0 \n",
    "        if 0 in image:\n",
    "          background = 0\n",
    "        # else use the most frequent pixel color\n",
    "        else: \n",
    "          unique_colors, counts = np.unique(image, return_counts=True)\n",
    "          background = unique_colors[np.argmax(counts)]\n",
    "        return background\n",
    "    \n",
    "    \n",
    "    def check_pairs(self, inx_pairs, this_pair, return_inx = False):\n",
    "        # check if this_pair is in inx_pairs\n",
    "        match = []\n",
    "        for pair in inx_pairs:\n",
    "          if pair[0] == this_pair[0] and pair[1] == this_pair[1]:\n",
    "            match.append(True)\n",
    "          else:\n",
    "            match.append(False)\n",
    "        if return_inx:\n",
    "          return any(match), np.where(match)\n",
    "        else:\n",
    "          return any(match)\n",
    "    \n",
    "    \n",
    "    def check_neighbors(self, all_pairs, this_pair, objectness, this_object):\n",
    "        # all_pairs: an array of index pairs for all nonzero/colored pixels\n",
    "        # this_pair: the index pair whose neighbors will be checked\n",
    "        # objectness: an array with the shape of original image, storage for how much objectness has been identified\n",
    "        # this_object: the current object we are looking at\n",
    "        row_inx = this_pair[0]\n",
    "        col_inx = this_pair[1]\n",
    "        objectness[row_inx, col_inx] = this_object\n",
    "        # find if any neighboring pixels contain color\n",
    "        if self.check_pairs(all_pairs, [row_inx-1, col_inx-1]): # up-left\n",
    "          objectness[row_inx-1, col_inx-1] = this_object\n",
    "        if self.check_pairs(all_pairs, [row_inx-1, col_inx]): # up\n",
    "          objectness[row_inx-1, col_inx] = this_object \n",
    "        if self.check_pairs(all_pairs, [row_inx-1, col_inx+1]): # up-right\n",
    "          objectness[row_inx-1, col_inx+1] = this_object\n",
    "        if self.check_pairs(all_pairs, [row_inx, col_inx-1]): # left\n",
    "          objectness[row_inx, col_inx-1] = this_object\n",
    "        if self.check_pairs(all_pairs, [row_inx, col_inx+1]): # right\n",
    "          objectness[row_inx, col_inx+1] = this_object\n",
    "        if self.check_pairs(all_pairs, [row_inx+1, col_inx-1]): # down-left\n",
    "          objectness[row_inx+1, col_inx-1] = this_object\n",
    "        if self.check_pairs(all_pairs, [row_inx+1, col_inx]): # down\n",
    "          objectness[row_inx+1, col_inx] = this_object\n",
    "        if self.check_pairs(all_pairs, [row_inx+1, col_inx+1]): # down-right\n",
    "          objectness[row_inx+1, col_inx+1] = this_object\n",
    "        return objectness\n",
    "    \n",
    "    \n",
    "    def identify_object_by_color(self, true_image, background = 0):\n",
    "        # identify object by the color only \n",
    "        unique_colors = np.unique(true_image)\n",
    "        identified_objects = []\n",
    "        for i, color in enumerate(unique_colors):\n",
    "          image = np.copy(true_image) # make a copy from original first\n",
    "          if color == background: \n",
    "            continue\n",
    "          image[image != color] = BACKGROUND_COLOR\n",
    "          inx = np.where(image == color)\n",
    "          pos = np.min(inx[0]), np.min(inx[1])\n",
    "          img = image[np.min(inx[0]):np.max(inx[0])+1, np.min(inx[1]):np.max(inx[1])+1]\n",
    "          obj = DetectedObject(img, len(identified_objects), pos)\n",
    "          # append the object attributes\n",
    "          identified_objects.append(obj)\n",
    "        return identified_objects\n",
    "    \n",
    "    \n",
    "    def identify_object_by_isolation(self, image, background = 0):\n",
    "        # identify all objects by physical isolation on the given image\n",
    "        all_pairs = np.array(np.where(image != background)).T\n",
    "        objectness = np.zeros(image.shape)\n",
    "        identified_objects = []\n",
    "        this_object = 1\n",
    "        while len(all_pairs) >= 1:\n",
    "          init_pair = all_pairs[0] # start with the first pair\n",
    "          objectness = self.check_neighbors(all_pairs, init_pair, objectness, this_object)\n",
    "          # get a list of index pairs whose neghbors haven't been checked\n",
    "          unchecked_pairs = np.array(np.where(objectness == this_object)).T\n",
    "          checked_pairs = np.zeros((0,2)) \n",
    "          # check all the index pairs in the expanding unchecked_pairs untill all have been checked\n",
    "          while len(unchecked_pairs) != 0:\n",
    "            this_pair = unchecked_pairs[0]\n",
    "            objectness = self.check_neighbors(all_pairs, this_pair, objectness, this_object)\n",
    "            # append the checked_pairs\n",
    "            checked_pairs = np.vstack((checked_pairs, this_pair))\n",
    "            # get all index pairs for the currently identified object\n",
    "            current_object_pairs = np.array(np.where(objectness == this_object)).T\n",
    "            # delete the checked pairs from current object pairs\n",
    "            checked_inx = []\n",
    "            for pair in checked_pairs:\n",
    "              _, inx = self.check_pairs(current_object_pairs, pair, return_inx = True)\n",
    "              checked_inx.append(inx[0][0])\n",
    "            unchecked_pairs = np.delete(current_object_pairs, checked_inx, axis = 0)\n",
    "    \n",
    "          # store this object to identified_objects\n",
    "          current_object_pairs = np.array(np.where(objectness == this_object)).T\n",
    "          cop = current_object_pairs.T\n",
    "          pos = np.min(cop[0]), np.min(cop[1])\n",
    "          img = image[np.min(cop[0]):np.max(cop[0])+1, np.min(cop[1]):np.max(cop[1])+1]\n",
    "          img[img == background] = BACKGROUND_COLOR\n",
    "          # delete the current object pairs from all_pairs \n",
    "          cop_inx = []\n",
    "          for pair in current_object_pairs:\n",
    "            _, this_cop_inx = self.check_pairs(all_pairs, pair, return_inx = True)\n",
    "            cop_inx.append(this_cop_inx[0][0])\n",
    "          all_pairs = np.delete(all_pairs, cop_inx, axis = 0)\n",
    "          # append the object attributes\n",
    "          obj = DetectedObject(img, len(identified_objects), pos)\n",
    "          identified_objects.append(obj)          \n",
    "          # start identifying a new object\n",
    "          this_object += 1\n",
    "        return identified_objects\n",
    "    \n",
    "    \n",
    "    def identify_object_by_color_isolation(self, true_image, background = 0):\n",
    "        # identify objects first by color then by physical isolation\n",
    "        unique_colors = np.unique(true_image)\n",
    "        for i, color in enumerate(unique_colors):\n",
    "          image = np.copy(true_image) # make a copy from the original first\n",
    "          if color == background:\n",
    "            continue\n",
    "          # identify objects by isolation in this color only \n",
    "          image[image != color] = BACKGROUND_COLOR\n",
    "          return self.identify_object_by_isolation(image, background = BACKGROUND_COLOR)\n",
    "    \n",
    "    \n",
    "    def identify_object(self, image, method):\n",
    "        # a wrapper of different methods\n",
    "        # in the future method can be a parameter to be learned\n",
    "        # 1 = by_color, 2 = by_isolation, 3 = by_color_isolation\n",
    "        background = self.get_background(image)\n",
    "        res = None\n",
    "        if method == ObjectDetectionMethod.BY_COLOR:\n",
    "            res = self.identify_object_by_color(image, background)\n",
    "        elif method == ObjectDetectionMethod.BY_ISOLATION:\n",
    "            res = self.identify_object_by_isolation(image, background)\n",
    "        elif method == ObjectDetectionMethod.BY_COLOR_AND_ISOLATION:\n",
    "            res = self.identify_object_by_color_isolation(image, background)\n",
    "        else:\n",
    "            raise RuntimeError('Wrong ObjectDetectionMethod')\n",
    "        self.identified_objects[method] = res\n",
    "        \n",
    "        \n",
    "    def solve(self):\n",
    "        self.plot_task()\n",
    "        # select an image for object identification\n",
    "        # WE USE TRAIN INPUT\n",
    "        image = np.array(train_tasks[task_num]['train'][0]['input'])\n",
    "        background = self.get_background(image)\n",
    "    \n",
    "        for object_detection_method in ObjectDetectionMethod:\n",
    "            self.identify_object(image, object_detection_method)\n",
    "            self.plot_identified_objects(arc.identified_objects[object_detection_method], title = object_detection_method.name)\n",
    "            \n",
    "        grid0 = OutputGrid('grid 0', image.shape, background)\n",
    "        for obj in self.identified_objects[ObjectDetectionMethod.BY_COLOR]:\n",
    "            grid0.add_object(obj)\n",
    "        grid0.plot()\n"
   ],
   "metadata": {
    "collapsed": false,
    "pycharm": {
     "name": "#%%\n",
     "is_executing": false
    }
   }
  },
  {
   "cell_type": "markdown",
   "source": [
    "## Let's have a look at the identified objects"
   ],
   "metadata": {
    "collapsed": false
   }
  },
  {
   "cell_type": "code",
   "execution_count": 33,
   "outputs": [
    {
     "name": "stdout",
     "text": [
      "task: c8cbb738\n"
     ],
     "output_type": "stream"
    },
    {
     "data": {
      "text/plain": "<Figure size 648x432 with 6 Axes>",
      "image/png": "[encoded data removed]"
     },
     "metadata": {
      "needs_background": "light"
     },
     "output_type": "display_data"
    },
    {
     "data": {
      "text/plain": "<Figure size 216x432 with 2 Axes>",
      "image/png": "[encoded data removed]"
     },
     "metadata": {
      "needs_background": "light"
     },
     "output_type": "display_data"
    },
    {
     "data": {
      "text/plain": "<Figure size 576x144 with 5 Axes>",
      "image/png": "[encoded data removed]"
     },
     "metadata": {
      "needs_background": "light"
     },
     "output_type": "display_data"
    },
    {
     "name": "stderr",
     "text": [
      "/Users/a18220706/.conda/envs/kaggle-arc/lib/python3.6/site-packages/ipykernel_launcher.py:247: UserWarning: Tight layout not applied. tight_layout cannot make axes width small enough to accommodate all axes decorations\n"
     ],
     "output_type": "stream"
    },
    {
     "data": {
      "text/plain": "<Figure size 576x144 with 16 Axes>",
      "image/png": "[encoded data removed]"
     },
     "metadata": {
      "needs_background": "light"
     },
     "output_type": "display_data"
    },
    {
     "data": {
      "text/plain": "<Figure size 576x144 with 5 Axes>",
      "image/png": "[encoded data removed]"
     },
     "metadata": {
      "needs_background": "light"
     },
     "output_type": "display_data"
    },
    {
     "data": {
      "text/plain": "<Figure size 432x288 with 1 Axes>",
      "image/png": "[encoded data removed]"
     },
     "metadata": {
      "needs_background": "light"
     },
     "output_type": "display_data"
    },
    {
     "data": {
      "text/plain": "<Figure size 1000x1000 with 0 Axes>"
     },
     "metadata": {},
     "output_type": "display_data"
    }
   ],
   "source": [
    "# randomly select 20 task numbers\n",
    "TASK_NUM = np.random.randint(1,400, size = 20)\n",
    "TASK_NUM = [1]\n",
    "for task_num in TASK_NUM:\n",
    "    arc = ARCSolver(task_num)\n",
    "    arc.solve()"
   ],
   "metadata": {
    "collapsed": false,
    "pycharm": {
     "name": "#%%\n",
     "is_executing": false
    }
   }
  },
  {
   "cell_type": "code",
   "execution_count": 7,
   "outputs": [],
   "source": [
    "image = np.array(train_tasks[0]['train'][0]['input'])"
   ],
   "metadata": {
    "collapsed": false,
    "pycharm": {
     "name": "#%%\n",
     "is_executing": false
    }
   }
  },
  {
   "cell_type": "code",
   "execution_count": 15,
   "outputs": [
    {
     "data": {
      "text/plain": "<ActionType.CHANGE_BACKGROUND_COLOR: 0>"
     },
     "metadata": {},
     "output_type": "execute_result",
     "execution_count": 15
    }
   ],
   "source": [
    "\n",
    "list(ActionType.names.keys())[list(ActionType.names.values()).index('set_back')]"
   ],
   "metadata": {
    "collapsed": false,
    "pycharm": {
     "name": "#%%\n",
     "is_executing": false
    }
   }
  },
  {
   "cell_type": "code",
   "execution_count": 14,
   "outputs": [
    {
     "data": {
      "text/plain": "{<ActionType.CHANGE_BACKGROUND_COLOR: 0>: 'set_back',\n <ActionType.ADD_OBJECT: 1>: 'add_obj',\n <ActionType.MOVE_OBJECT: 2>: 'mv_obj',\n <ActionType.CHANGE_OBJECT_COLOR: 3>: 'set_obj_clr'}"
     },
     "metadata": {},
     "output_type": "execute_result",
     "execution_count": 14
    }
   ],
   "source": [
    "ActionType.names\n"
   ],
   "metadata": {
    "collapsed": false,
    "pycharm": {
     "name": "#%%\n",
     "is_executing": false
    }
   }
  },
  {
   "cell_type": "code",
   "execution_count": 18,
   "outputs": [
    {
     "data": {
      "text/plain": "'#0074D9'"
     },
     "metadata": {},
     "output_type": "execute_result",
     "execution_count": 18
    }
   ],
   "source": [
    "cmap.colors[1]"
   ],
   "metadata": {
    "collapsed": false,
    "pycharm": {
     "name": "#%%\n",
     "is_executing": false
    }
   }
  },
  {
   "cell_type": "code",
   "execution_count": null,
   "outputs": [],
   "source": [
    "\n"
   ],
   "metadata": {
    "collapsed": false,
    "pycharm": {
     "name": "#%%\n"
    }
   }
  }
 ],
 "metadata": {
  "language_info": {
   "codemirror_mode": {
    "name": "ipython",
    "version": 2
   },
   "file_extension": ".py",
   "mimetype": "text/x-python",
   "name": "python",
   "nbconvert_exporter": "python",
   "pygments_lexer": "ipython2",
   "version": "2.7.6"
  },
  "kernelspec": {
   "name": "python3",
   "language": "python",
   "display_name": "Python 3"
  },
  "pycharm": {
   "stem_cell": {
    "cell_type": "raw",
    "source": [],
    "metadata": {
     "collapsed": false
    }
   }
  }
 },
 "nbformat": 4,
 "nbformat_minor": 0
}
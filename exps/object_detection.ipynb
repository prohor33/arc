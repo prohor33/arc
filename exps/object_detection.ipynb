{
 "cells": [
  {
   "cell_type": "code",
   "execution_count": 12,
   "outputs": [],
   "source": [
    "# libraries\n",
    "import copy\n",
    "from itertools import tee\n",
    "import numpy as np\n",
    "import pandas as pd\n",
    "import matplotlib.pyplot as plt\n",
    "from matplotlib import colors\n",
    "import os\n",
    "import pdb\n",
    "import json\n",
    "from os.path import join as path_join\n",
    "import cv2\n",
    "from skimage import measure"
   ],
   "metadata": {
    "collapsed": false,
    "pycharm": {
     "name": "#%%\n",
     "is_executing": false
    }
   }
  },
  {
   "cell_type": "code",
   "execution_count": 13,
   "metadata": {
    "collapsed": true,
    "pycharm": {
     "is_executing": false
    }
   },
   "outputs": [
    {
     "name": "stderr",
     "text": [
      "/Users/a18220706/.conda/envs/kaggle-arc/lib/python3.6/site-packages/ipykernel_launcher.py:3: DeprecationWarning: The default dtype for empty Series will be 'object' instead of 'float64' in a future version. Specify a dtype explicitly to silence this warning.\n  This is separate from the ipykernel package so we can avoid doing imports until\n"
     ],
     "output_type": "stream"
    }
   ],
   "source": [
    "# load data\n",
    "def load_data(path):\n",
    "    tasks = pd.Series()\n",
    "    for file_path in os.listdir(path):\n",
    "        task_file = path_join(path, file_path)\n",
    "        with open(task_file, 'r') as f:\n",
    "            task = json.load(f)\n",
    "        tasks[file_path[:-5]] = task\n",
    "    return tasks\n",
    "\n",
    "train_tasks = load_data('../ARC-master/data/training/')"
   ]
  },
  {
   "cell_type": "code",
   "execution_count": 14,
   "outputs": [
    {
     "data": {
      "text/plain": "<Figure size 1000x400 with 1 Axes>",
      "image/png": "[encoded data removed]"
     },
     "metadata": {
      "needs_background": "light"
     },
     "output_type": "display_data"
    }
   ],
   "source": [
    "# standardize plotting colors\n",
    "cmap = colors.ListedColormap(['#000000', '#0074D9','#FF4136','#2ECC40','#FFDC00',\n",
    "                             '#AAAAAA', '#F012BE', '#FF851B', '#7FDBFF', '#870C25', '#004d00'])\n",
    "BACKGROUND_COLOR = 10\n",
    "norm = colors.Normalize(vmin = 0, vmax = 10)\n",
    "# 0:black, 1:blue, 2:red, 3:greed, 4:yellow,\n",
    "# 5:gray, 6:magenta, 7:orange, 8:sky, 9:brown\n",
    "# 10:darkgeen\n",
    "plt.figure(figsize=(5, 2), dpi=200)\n",
    "plt.imshow([list(range(11))], cmap=cmap, norm=norm)\n",
    "plt.xticks(list(range(11)))\n",
    "plt.yticks([])\n",
    "plt.show()\n",
    "        "
   ],
   "metadata": {
    "collapsed": false,
    "pycharm": {
     "name": "#%%\n",
     "is_executing": false
    }
   }
  },
  {
   "cell_type": "code",
   "execution_count": 51,
   "outputs": [
    {
     "data": {
      "text/plain": "<Figure size 432x288 with 1 Axes>",
      "image/png": "[encoded data removed]"
     },
     "metadata": {
      "needs_background": "light"
     },
     "output_type": "display_data"
    },
    {
     "data": {
      "text/plain": "<Figure size 1000x1000 with 0 Axes>"
     },
     "metadata": {},
     "output_type": "display_data"
    },
    {
     "name": "stdout",
     "text": [
      "checked dsl: [<ActionType.SET_BACK: 0>, [<TargetColor.COLOR0: (0,)>], <ActionType.ADD_OBJ: 1>, [<ObjectDetectionMethod.BY_COLOR: 0>, <TargetObject.ALL: 0>], <ActionType.SORT: 4>, [<ObjectParam.COLOR: 0>, <SortOrder.NORMAL: 0>], <ActionType.MV_OBJ: 2>, [<TargetObject.ALL: 0>, <MoveDirection.UP: 0>, <MoveTarget.TILL_EDGE: 0>], <ActionType.SORT: 4>, [<ObjectParam.COLOR: 0>, <SortOrder.NORMAL: 0>], <ActionType.SET_OBJ_CLR: 3>, [<TargetObject.ALL: 0>, <TargetColor.COLOR0: (0,)>], <ActionType.RESIZE_GRID: 5>, [<ResizeGridType.CUT_TO_OBJECTS: 0>]]\nvariants_checked: 1\n",
      "checked dsl: [<ActionType.SET_BACK: 0>, [<TargetColor.COLOR0: (0,)>], <ActionType.ADD_OBJ: 1>, [<ObjectDetectionMethod.BY_COLOR: 0>, <TargetObject.ALL: 0>], <ActionType.SORT: 4>, [<ObjectParam.COLOR: 0>, <SortOrder.NORMAL: 0>], <ActionType.MV_OBJ: 2>, [<TargetObject.ALL: 0>, <MoveDirection.UP: 0>, <MoveTarget.TILL_EDGE: 0>], <ActionType.SORT: 4>, [<ObjectParam.COLOR: 0>, <SortOrder.NORMAL: 0>], <ActionType.SET_OBJ_CLR: 3>, [<TargetObject.ALL: 0>, <TargetColor.COLOR1: (1,)>], <ActionType.RESIZE_GRID: 5>, [<ResizeGridType.CUT_TO_OBJECTS: 0>]]\nvariants_checked: 2\n",
      "checked dsl: [<ActionType.SET_BACK: 0>, [<TargetColor.COLOR0: (0,)>], <ActionType.ADD_OBJ: 1>, [<ObjectDetectionMethod.BY_COLOR: 0>, <TargetObject.ALL: 0>], <ActionType.SORT: 4>, [<ObjectParam.COLOR: 0>, <SortOrder.NORMAL: 0>], <ActionType.MV_OBJ: 2>, [<TargetObject.ALL: 0>, <MoveDirection.UP: 0>, <MoveTarget.TILL_EDGE: 0>], <ActionType.SORT: 4>, [<ObjectParam.COLOR: 0>, <SortOrder.NORMAL: 0>], <ActionType.SET_OBJ_CLR: 3>, [<TargetObject.ALL: 0>, <TargetColor.COLOR2: (2,)>], <ActionType.RESIZE_GRID: 5>, [<ResizeGridType.CUT_TO_OBJECTS: 0>]]\nvariants_checked: 3\n",
      "checked dsl: [<ActionType.SET_BACK: 0>, [<TargetColor.COLOR0: (0,)>], <ActionType.ADD_OBJ: 1>, [<ObjectDetectionMethod.BY_COLOR: 0>, <TargetObject.ALL: 0>], <ActionType.SORT: 4>, [<ObjectParam.COLOR: 0>, <SortOrder.NORMAL: 0>], <ActionType.MV_OBJ: 2>, [<TargetObject.ALL: 0>, <MoveDirection.UP: 0>, <MoveTarget.TILL_EDGE: 0>], <ActionType.SORT: 4>, [<ObjectParam.COLOR: 0>, <SortOrder.NORMAL: 0>], <ActionType.SET_OBJ_CLR: 3>, [<TargetObject.ALL: 0>, <TargetColor.COLOR3: (3,)>], <ActionType.RESIZE_GRID: 5>, [<ResizeGridType.CUT_TO_OBJECTS: 0>]]\nvariants_checked: 4\n",
      "checked dsl: [<ActionType.SET_BACK: 0>, [<TargetColor.COLOR0: (0,)>], <ActionType.ADD_OBJ: 1>, [<ObjectDetectionMethod.BY_COLOR: 0>, <TargetObject.ALL: 0>], <ActionType.SORT: 4>, [<ObjectParam.COLOR: 0>, <SortOrder.NORMAL: 0>], <ActionType.MV_OBJ: 2>, [<TargetObject.ALL: 0>, <MoveDirection.UP: 0>, <MoveTarget.TILL_EDGE: 0>], <ActionType.SORT: 4>, [<ObjectParam.COLOR: 0>, <SortOrder.NORMAL: 0>], <ActionType.SET_OBJ_CLR: 3>, [<TargetObject.ALL: 0>, <TargetColor.COLOR4: (4,)>], <ActionType.RESIZE_GRID: 5>, [<ResizeGridType.CUT_TO_OBJECTS: 0>]]\nvariants_checked: 5\n",
      "checked dsl: [<ActionType.SET_BACK: 0>, [<TargetColor.COLOR0: (0,)>], <ActionType.ADD_OBJ: 1>, [<ObjectDetectionMethod.BY_COLOR: 0>, <TargetObject.ALL: 0>], <ActionType.SORT: 4>, [<ObjectParam.COLOR: 0>, <SortOrder.NORMAL: 0>], <ActionType.MV_OBJ: 2>, [<TargetObject.ALL: 0>, <MoveDirection.UP: 0>, <MoveTarget.TILL_EDGE: 0>], <ActionType.SORT: 4>, [<ObjectParam.COLOR: 0>, <SortOrder.NORMAL: 0>], <ActionType.SET_OBJ_CLR: 3>, [<TargetObject.ALL: 0>, <TargetColor.COLOR5: (5,)>], <ActionType.RESIZE_GRID: 5>, [<ResizeGridType.CUT_TO_OBJECTS: 0>]]\nvariants_checked: 6\n",
      "checked dsl: [<ActionType.SET_BACK: 0>, [<TargetColor.COLOR0: (0,)>], <ActionType.ADD_OBJ: 1>, [<ObjectDetectionMethod.BY_COLOR: 0>, <TargetObject.ALL: 0>], <ActionType.SORT: 4>, [<ObjectParam.COLOR: 0>, <SortOrder.NORMAL: 0>], <ActionType.MV_OBJ: 2>, [<TargetObject.ALL: 0>, <MoveDirection.UP: 0>, <MoveTarget.TILL_EDGE: 0>], <ActionType.SORT: 4>, [<ObjectParam.COLOR: 0>, <SortOrder.NORMAL: 0>], <ActionType.SET_OBJ_CLR: 3>, [<TargetObject.ALL: 0>, <TargetColor.COLOR6: (6,)>], <ActionType.RESIZE_GRID: 5>, [<ResizeGridType.CUT_TO_OBJECTS: 0>]]\nvariants_checked: 7\n",
      "checked dsl: [<ActionType.SET_BACK: 0>, [<TargetColor.COLOR0: (0,)>], <ActionType.ADD_OBJ: 1>, [<ObjectDetectionMethod.BY_COLOR: 0>, <TargetObject.ALL: 0>], <ActionType.SORT: 4>, [<ObjectParam.COLOR: 0>, <SortOrder.NORMAL: 0>], <ActionType.MV_OBJ: 2>, [<TargetObject.ALL: 0>, <MoveDirection.UP: 0>, <MoveTarget.TILL_EDGE: 0>], <ActionType.SORT: 4>, [<ObjectParam.COLOR: 0>, <SortOrder.NORMAL: 0>], <ActionType.SET_OBJ_CLR: 3>, [<TargetObject.ALL: 0>, <TargetColor.COLOR7: (7,)>], <ActionType.RESIZE_GRID: 5>, [<ResizeGridType.CUT_TO_OBJECTS: 0>]]\nvariants_checked: 8\n",
      "checked dsl: [<ActionType.SET_BACK: 0>, [<TargetColor.COLOR0: (0,)>], <ActionType.ADD_OBJ: 1>, [<ObjectDetectionMethod.BY_COLOR: 0>, <TargetObject.ALL: 0>], <ActionType.SORT: 4>, [<ObjectParam.COLOR: 0>, <SortOrder.NORMAL: 0>], <ActionType.MV_OBJ: 2>, [<TargetObject.ALL: 0>, <MoveDirection.UP: 0>, <MoveTarget.TILL_EDGE: 0>], <ActionType.SORT: 4>, [<ObjectParam.COLOR: 0>, <SortOrder.NORMAL: 0>], <ActionType.SET_OBJ_CLR: 3>, [<TargetObject.ALL: 0>, <TargetColor.COLOR8: (8,)>], <ActionType.RESIZE_GRID: 5>, [<ResizeGridType.CUT_TO_OBJECTS: 0>]]\nvariants_checked: 9\n",
      "checked dsl: [<ActionType.SET_BACK: 0>, [<TargetColor.COLOR0: (0,)>], <ActionType.ADD_OBJ: 1>, [<ObjectDetectionMethod.BY_COLOR: 0>, <TargetObject.ALL: 0>], <ActionType.SORT: 4>, [<ObjectParam.COLOR: 0>, <SortOrder.NORMAL: 0>], <ActionType.MV_OBJ: 2>, [<TargetObject.ALL: 0>, <MoveDirection.UP: 0>, <MoveTarget.TILL_EDGE: 0>], <ActionType.SORT: 4>, [<ObjectParam.COLOR: 0>, <SortOrder.NORMAL: 0>], <ActionType.SET_OBJ_CLR: 3>, [<TargetObject.ALL: 0>, <TargetColor.COLOR9: (9,)>], <ActionType.RESIZE_GRID: 5>, [<ResizeGridType.CUT_TO_OBJECTS: 0>]]\nvariants_checked: 10\n",
      "checked dsl: [<ActionType.SET_BACK: 0>, [<TargetColor.COLOR0: (0,)>], <ActionType.ADD_OBJ: 1>, [<ObjectDetectionMethod.BY_COLOR: 0>, <TargetObject.ALL: 0>], <ActionType.SORT: 4>, [<ObjectParam.COLOR: 0>, <SortOrder.NORMAL: 0>], <ActionType.MV_OBJ: 2>, [<TargetObject.ALL: 0>, <MoveDirection.UP: 0>, <MoveTarget.TILL_EDGE: 0>], <ActionType.SORT: 4>, [<ObjectParam.COLOR: 0>, <SortOrder.NORMAL: 0>], <ActionType.SET_OBJ_CLR: 3>, [<TargetObject.ALL: 0>, <TargetColor.COLOR10: (10,)>], <ActionType.RESIZE_GRID: 5>, [<ResizeGridType.CUT_TO_OBJECTS: 0>]]\nvariants_checked: 11\n",
      "checked dsl: [<ActionType.SET_BACK: 0>, [<TargetColor.COLOR0: (0,)>], <ActionType.ADD_OBJ: 1>, [<ObjectDetectionMethod.BY_COLOR: 0>, <TargetObject.ALL: 0>], <ActionType.SORT: 4>, [<ObjectParam.COLOR: 0>, <SortOrder.NORMAL: 0>], <ActionType.MV_OBJ: 2>, [<TargetObject.ALL: 0>, <MoveDirection.UP: 0>, <MoveTarget.TILL_EDGE: 0>], <ActionType.SORT: 4>, [<ObjectParam.COLOR: 0>, <SortOrder.NORMAL: 0>], <ActionType.SET_OBJ_CLR: 3>, [<TargetObject.ALL: 0>, <TargetColor.TOP_OBJECT: (11,)>], <ActionType.RESIZE_GRID: 5>, [<ResizeGridType.CUT_TO_OBJECTS: 0>]]\nvariants_checked: 12\n",
      "checked dsl: [<ActionType.SET_BACK: 0>, [<TargetColor.COLOR0: (0,)>], <ActionType.ADD_OBJ: 1>, [<ObjectDetectionMethod.BY_COLOR: 0>, <TargetObject.ALL: 0>], <ActionType.SORT: 4>, [<ObjectParam.COLOR: 0>, <SortOrder.NORMAL: 0>], <ActionType.MV_OBJ: 2>, [<TargetObject.ALL: 0>, <MoveDirection.UP: 0>, <MoveTarget.TILL_EDGE: 0>], <ActionType.SORT: 4>, [<ObjectParam.COLOR: 0>, <SortOrder.NORMAL: 0>], <ActionType.SET_OBJ_CLR: 3>, [<TargetObject.ALL: 0>, <TargetColor.BOTTOM_OBJECT: 12>], <ActionType.RESIZE_GRID: 5>, [<ResizeGridType.CUT_TO_OBJECTS: 0>]]\nvariants_checked: 13\n",
      "checked dsl: [<ActionType.SET_BACK: 0>, [<TargetColor.COLOR0: (0,)>], <ActionType.ADD_OBJ: 1>, [<ObjectDetectionMethod.BY_COLOR: 0>, <TargetObject.ALL: 0>], <ActionType.SORT: 4>, [<ObjectParam.COLOR: 0>, <SortOrder.NORMAL: 0>], <ActionType.MV_OBJ: 2>, [<TargetObject.ALL: 0>, <MoveDirection.UP: 0>, <MoveTarget.TILL_EDGE: 0>], <ActionType.SORT: 4>, [<ObjectParam.COLOR: 0>, <SortOrder.NORMAL: 0>], <ActionType.SET_OBJ_CLR: 3>, [<TargetObject.TOP: 1>, <TargetColor.COLOR0: (0,)>], <ActionType.RESIZE_GRID: 5>, [<ResizeGridType.CUT_TO_OBJECTS: 0>]]\nvariants_checked: 14\n",
      "checked dsl: [<ActionType.SET_BACK: 0>, [<TargetColor.COLOR0: (0,)>], <ActionType.ADD_OBJ: 1>, [<ObjectDetectionMethod.BY_COLOR: 0>, <TargetObject.ALL: 0>], <ActionType.SORT: 4>, [<ObjectParam.COLOR: 0>, <SortOrder.NORMAL: 0>], <ActionType.MV_OBJ: 2>, [<TargetObject.ALL: 0>, <MoveDirection.UP: 0>, <MoveTarget.TILL_EDGE: 0>], <ActionType.SORT: 4>, [<ObjectParam.COLOR: 0>, <SortOrder.NORMAL: 0>], <ActionType.SET_OBJ_CLR: 3>, [<TargetObject.TOP: 1>, <TargetColor.COLOR1: (1,)>], <ActionType.RESIZE_GRID: 5>, [<ResizeGridType.CUT_TO_OBJECTS: 0>]]\nvariants_checked: 15\n",
      "checked dsl: [<ActionType.SET_BACK: 0>, [<TargetColor.COLOR0: (0,)>], <ActionType.ADD_OBJ: 1>, [<ObjectDetectionMethod.BY_COLOR: 0>, <TargetObject.ALL: 0>], <ActionType.SORT: 4>, [<ObjectParam.COLOR: 0>, <SortOrder.NORMAL: 0>], <ActionType.MV_OBJ: 2>, [<TargetObject.ALL: 0>, <MoveDirection.UP: 0>, <MoveTarget.TILL_EDGE: 0>], <ActionType.SORT: 4>, [<ObjectParam.COLOR: 0>, <SortOrder.NORMAL: 0>], <ActionType.SET_OBJ_CLR: 3>, [<TargetObject.TOP: 1>, <TargetColor.COLOR2: (2,)>], <ActionType.RESIZE_GRID: 5>, [<ResizeGridType.CUT_TO_OBJECTS: 0>]]\nvariants_checked: 16\n",
      "checked dsl: [<ActionType.SET_BACK: 0>, [<TargetColor.COLOR0: (0,)>], <ActionType.ADD_OBJ: 1>, [<ObjectDetectionMethod.BY_COLOR: 0>, <TargetObject.ALL: 0>], <ActionType.SORT: 4>, [<ObjectParam.COLOR: 0>, <SortOrder.NORMAL: 0>], <ActionType.MV_OBJ: 2>, [<TargetObject.ALL: 0>, <MoveDirection.UP: 0>, <MoveTarget.TILL_EDGE: 0>], <ActionType.SORT: 4>, [<ObjectParam.COLOR: 0>, <SortOrder.NORMAL: 0>], <ActionType.SET_OBJ_CLR: 3>, [<TargetObject.TOP: 1>, <TargetColor.COLOR3: (3,)>], <ActionType.RESIZE_GRID: 5>, [<ResizeGridType.CUT_TO_OBJECTS: 0>]]\nvariants_checked: 17\n",
      "checked dsl: [<ActionType.SET_BACK: 0>, [<TargetColor.COLOR0: (0,)>], <ActionType.ADD_OBJ: 1>, [<ObjectDetectionMethod.BY_COLOR: 0>, <TargetObject.ALL: 0>], <ActionType.SORT: 4>, [<ObjectParam.COLOR: 0>, <SortOrder.NORMAL: 0>], <ActionType.MV_OBJ: 2>, [<TargetObject.ALL: 0>, <MoveDirection.UP: 0>, <MoveTarget.TILL_EDGE: 0>], <ActionType.SORT: 4>, [<ObjectParam.COLOR: 0>, <SortOrder.NORMAL: 0>], <ActionType.SET_OBJ_CLR: 3>, [<TargetObject.TOP: 1>, <TargetColor.COLOR4: (4,)>], <ActionType.RESIZE_GRID: 5>, [<ResizeGridType.CUT_TO_OBJECTS: 0>]]\nvariants_checked: 18\n",
      "checked dsl: [<ActionType.SET_BACK: 0>, [<TargetColor.COLOR0: (0,)>], <ActionType.ADD_OBJ: 1>, [<ObjectDetectionMethod.BY_COLOR: 0>, <TargetObject.ALL: 0>], <ActionType.SORT: 4>, [<ObjectParam.COLOR: 0>, <SortOrder.NORMAL: 0>], <ActionType.MV_OBJ: 2>, [<TargetObject.ALL: 0>, <MoveDirection.UP: 0>, <MoveTarget.TILL_EDGE: 0>], <ActionType.SORT: 4>, [<ObjectParam.COLOR: 0>, <SortOrder.NORMAL: 0>], <ActionType.SET_OBJ_CLR: 3>, [<TargetObject.TOP: 1>, <TargetColor.COLOR5: (5,)>], <ActionType.RESIZE_GRID: 5>, [<ResizeGridType.CUT_TO_OBJECTS: 0>]]\nvariants_checked: 19\n",
      "checked dsl: [<ActionType.SET_BACK: 0>, [<TargetColor.COLOR0: (0,)>], <ActionType.ADD_OBJ: 1>, [<ObjectDetectionMethod.BY_COLOR: 0>, <TargetObject.ALL: 0>], <ActionType.SORT: 4>, [<ObjectParam.COLOR: 0>, <SortOrder.NORMAL: 0>], <ActionType.MV_OBJ: 2>, [<TargetObject.ALL: 0>, <MoveDirection.UP: 0>, <MoveTarget.TILL_EDGE: 0>], <ActionType.SORT: 4>, [<ObjectParam.COLOR: 0>, <SortOrder.NORMAL: 0>], <ActionType.SET_OBJ_CLR: 3>, [<TargetObject.TOP: 1>, <TargetColor.COLOR6: (6,)>], <ActionType.RESIZE_GRID: 5>, [<ResizeGridType.CUT_TO_OBJECTS: 0>]]\nvariants_checked: 20\n",
      "checked dsl: [<ActionType.SET_BACK: 0>, [<TargetColor.COLOR0: (0,)>], <ActionType.ADD_OBJ: 1>, [<ObjectDetectionMethod.BY_COLOR: 0>, <TargetObject.ALL: 0>], <ActionType.SORT: 4>, [<ObjectParam.COLOR: 0>, <SortOrder.NORMAL: 0>], <ActionType.MV_OBJ: 2>, [<TargetObject.ALL: 0>, <MoveDirection.UP: 0>, <MoveTarget.TILL_EDGE: 0>], <ActionType.SORT: 4>, [<ObjectParam.COLOR: 0>, <SortOrder.NORMAL: 0>], <ActionType.SET_OBJ_CLR: 3>, [<TargetObject.TOP: 1>, <TargetColor.COLOR7: (7,)>], <ActionType.RESIZE_GRID: 5>, [<ResizeGridType.CUT_TO_OBJECTS: 0>]]\nvariants_checked: 21\n",
      "checked dsl: [<ActionType.SET_BACK: 0>, [<TargetColor.COLOR0: (0,)>], <ActionType.ADD_OBJ: 1>, [<ObjectDetectionMethod.BY_COLOR: 0>, <TargetObject.ALL: 0>], <ActionType.SORT: 4>, [<ObjectParam.COLOR: 0>, <SortOrder.NORMAL: 0>], <ActionType.MV_OBJ: 2>, [<TargetObject.ALL: 0>, <MoveDirection.UP: 0>, <MoveTarget.TILL_EDGE: 0>], <ActionType.SORT: 4>, [<ObjectParam.COLOR: 0>, <SortOrder.NORMAL: 0>], <ActionType.SET_OBJ_CLR: 3>, [<TargetObject.TOP: 1>, <TargetColor.COLOR8: (8,)>], <ActionType.RESIZE_GRID: 5>, [<ResizeGridType.CUT_TO_OBJECTS: 0>]]\nvariants_checked: 22\n",
      "checked dsl: [<ActionType.SET_BACK: 0>, [<TargetColor.COLOR0: (0,)>], <ActionType.ADD_OBJ: 1>, [<ObjectDetectionMethod.BY_COLOR: 0>, <TargetObject.ALL: 0>], <ActionType.SORT: 4>, [<ObjectParam.COLOR: 0>, <SortOrder.NORMAL: 0>], <ActionType.MV_OBJ: 2>, [<TargetObject.ALL: 0>, <MoveDirection.UP: 0>, <MoveTarget.TILL_EDGE: 0>], <ActionType.SORT: 4>, [<ObjectParam.COLOR: 0>, <SortOrder.NORMAL: 0>], <ActionType.SET_OBJ_CLR: 3>, [<TargetObject.TOP: 1>, <TargetColor.COLOR9: (9,)>], <ActionType.RESIZE_GRID: 5>, [<ResizeGridType.CUT_TO_OBJECTS: 0>]]\nvariants_checked: 23\n",
      "checked dsl: [<ActionType.SET_BACK: 0>, [<TargetColor.COLOR0: (0,)>], <ActionType.ADD_OBJ: 1>, [<ObjectDetectionMethod.BY_COLOR: 0>, <TargetObject.ALL: 0>], <ActionType.SORT: 4>, [<ObjectParam.COLOR: 0>, <SortOrder.NORMAL: 0>], <ActionType.MV_OBJ: 2>, [<TargetObject.ALL: 0>, <MoveDirection.UP: 0>, <MoveTarget.TILL_EDGE: 0>], <ActionType.SORT: 4>, [<ObjectParam.COLOR: 0>, <SortOrder.NORMAL: 0>], <ActionType.SET_OBJ_CLR: 3>, [<TargetObject.TOP: 1>, <TargetColor.COLOR10: (10,)>], <ActionType.RESIZE_GRID: 5>, [<ResizeGridType.CUT_TO_OBJECTS: 0>]]\nvariants_checked: 24\n",
      "checked dsl: [<ActionType.SET_BACK: 0>, [<TargetColor.COLOR0: (0,)>], <ActionType.ADD_OBJ: 1>, [<ObjectDetectionMethod.BY_COLOR: 0>, <TargetObject.ALL: 0>], <ActionType.SORT: 4>, [<ObjectParam.COLOR: 0>, <SortOrder.NORMAL: 0>], <ActionType.MV_OBJ: 2>, [<TargetObject.ALL: 0>, <MoveDirection.UP: 0>, <MoveTarget.TILL_EDGE: 0>], <ActionType.SORT: 4>, [<ObjectParam.COLOR: 0>, <SortOrder.NORMAL: 0>], <ActionType.SET_OBJ_CLR: 3>, [<TargetObject.TOP: 1>, <TargetColor.TOP_OBJECT: (11,)>], <ActionType.RESIZE_GRID: 5>, [<ResizeGridType.CUT_TO_OBJECTS: 0>]]\nvariants_checked: 25\n",
      "checked dsl: [<ActionType.SET_BACK: 0>, [<TargetColor.COLOR0: (0,)>], <ActionType.ADD_OBJ: 1>, [<ObjectDetectionMethod.BY_COLOR: 0>, <TargetObject.ALL: 0>], <ActionType.SORT: 4>, [<ObjectParam.COLOR: 0>, <SortOrder.NORMAL: 0>], <ActionType.MV_OBJ: 2>, [<TargetObject.ALL: 0>, <MoveDirection.UP: 0>, <MoveTarget.TILL_EDGE: 0>], <ActionType.SORT: 4>, [<ObjectParam.COLOR: 0>, <SortOrder.NORMAL: 0>], <ActionType.SET_OBJ_CLR: 3>, [<TargetObject.TOP: 1>, <TargetColor.BOTTOM_OBJECT: 12>], <ActionType.RESIZE_GRID: 5>, [<ResizeGridType.CUT_TO_OBJECTS: 0>]]\nvariants_checked: 26\n",
      "checked dsl: [<ActionType.SET_BACK: 0>, [<TargetColor.COLOR0: (0,)>], <ActionType.ADD_OBJ: 1>, [<ObjectDetectionMethod.BY_COLOR: 0>, <TargetObject.ALL: 0>], <ActionType.SORT: 4>, [<ObjectParam.COLOR: 0>, <SortOrder.NORMAL: 0>], <ActionType.MV_OBJ: 2>, [<TargetObject.ALL: 0>, <MoveDirection.UP: 0>, <MoveTarget.TILL_EDGE: 0>], <ActionType.SORT: 4>, [<ObjectParam.COLOR: 0>, <SortOrder.NORMAL: 0>], <ActionType.SET_OBJ_CLR: 3>, [<TargetObject.BOTTOM: 2>, <TargetColor.COLOR0: (0,)>], <ActionType.RESIZE_GRID: 5>, [<ResizeGridType.CUT_TO_OBJECTS: 0>]]\nvariants_checked: 27\n",
      "checked dsl: [<ActionType.SET_BACK: 0>, [<TargetColor.COLOR0: (0,)>], <ActionType.ADD_OBJ: 1>, [<ObjectDetectionMethod.BY_COLOR: 0>, <TargetObject.ALL: 0>], <ActionType.SORT: 4>, [<ObjectParam.COLOR: 0>, <SortOrder.NORMAL: 0>], <ActionType.MV_OBJ: 2>, [<TargetObject.ALL: 0>, <MoveDirection.UP: 0>, <MoveTarget.TILL_EDGE: 0>], <ActionType.SORT: 4>, [<ObjectParam.COLOR: 0>, <SortOrder.NORMAL: 0>], <ActionType.SET_OBJ_CLR: 3>, [<TargetObject.BOTTOM: 2>, <TargetColor.COLOR1: (1,)>], <ActionType.RESIZE_GRID: 5>, [<ResizeGridType.CUT_TO_OBJECTS: 0>]]\nvariants_checked: 28\n",
      "checked dsl: [<ActionType.SET_BACK: 0>, [<TargetColor.COLOR0: (0,)>], <ActionType.ADD_OBJ: 1>, [<ObjectDetectionMethod.BY_COLOR: 0>, <TargetObject.ALL: 0>], <ActionType.SORT: 4>, [<ObjectParam.COLOR: 0>, <SortOrder.NORMAL: 0>], <ActionType.MV_OBJ: 2>, [<TargetObject.ALL: 0>, <MoveDirection.UP: 0>, <MoveTarget.TILL_EDGE: 0>], <ActionType.SORT: 4>, [<ObjectParam.COLOR: 0>, <SortOrder.NORMAL: 0>], <ActionType.SET_OBJ_CLR: 3>, [<TargetObject.BOTTOM: 2>, <TargetColor.COLOR2: (2,)>], <ActionType.RESIZE_GRID: 5>, [<ResizeGridType.CUT_TO_OBJECTS: 0>]]\nvariants_checked: 29\n",
      "checked dsl: [<ActionType.SET_BACK: 0>, [<TargetColor.COLOR0: (0,)>], <ActionType.ADD_OBJ: 1>, [<ObjectDetectionMethod.BY_COLOR: 0>, <TargetObject.ALL: 0>], <ActionType.SORT: 4>, [<ObjectParam.COLOR: 0>, <SortOrder.NORMAL: 0>], <ActionType.MV_OBJ: 2>, [<TargetObject.ALL: 0>, <MoveDirection.UP: 0>, <MoveTarget.TILL_EDGE: 0>], <ActionType.SORT: 4>, [<ObjectParam.COLOR: 0>, <SortOrder.NORMAL: 0>], <ActionType.SET_OBJ_CLR: 3>, [<TargetObject.BOTTOM: 2>, <TargetColor.COLOR3: (3,)>], <ActionType.RESIZE_GRID: 5>, [<ResizeGridType.CUT_TO_OBJECTS: 0>]]\nvariants_checked: 30\n",
      "checked dsl: [<ActionType.SET_BACK: 0>, [<TargetColor.COLOR0: (0,)>], <ActionType.ADD_OBJ: 1>, [<ObjectDetectionMethod.BY_COLOR: 0>, <TargetObject.ALL: 0>], <ActionType.SORT: 4>, [<ObjectParam.COLOR: 0>, <SortOrder.NORMAL: 0>], <ActionType.MV_OBJ: 2>, [<TargetObject.ALL: 0>, <MoveDirection.UP: 0>, <MoveTarget.TILL_EDGE: 0>], <ActionType.SORT: 4>, [<ObjectParam.COLOR: 0>, <SortOrder.NORMAL: 0>], <ActionType.SET_OBJ_CLR: 3>, [<TargetObject.BOTTOM: 2>, <TargetColor.COLOR4: (4,)>], <ActionType.RESIZE_GRID: 5>, [<ResizeGridType.CUT_TO_OBJECTS: 0>]]\nvariants_checked: 31\n",
      "checked dsl: [<ActionType.SET_BACK: 0>, [<TargetColor.COLOR0: (0,)>], <ActionType.ADD_OBJ: 1>, [<ObjectDetectionMethod.BY_COLOR: 0>, <TargetObject.ALL: 0>], <ActionType.SORT: 4>, [<ObjectParam.COLOR: 0>, <SortOrder.NORMAL: 0>], <ActionType.MV_OBJ: 2>, [<TargetObject.ALL: 0>, <MoveDirection.UP: 0>, <MoveTarget.TILL_EDGE: 0>], <ActionType.SORT: 4>, [<ObjectParam.COLOR: 0>, <SortOrder.NORMAL: 0>], <ActionType.SET_OBJ_CLR: 3>, [<TargetObject.BOTTOM: 2>, <TargetColor.COLOR5: (5,)>], <ActionType.RESIZE_GRID: 5>, [<ResizeGridType.CUT_TO_OBJECTS: 0>]]\nvariants_checked: 32\n",
      "checked dsl: [<ActionType.SET_BACK: 0>, [<TargetColor.COLOR0: (0,)>], <ActionType.ADD_OBJ: 1>, [<ObjectDetectionMethod.BY_COLOR: 0>, <TargetObject.ALL: 0>], <ActionType.SORT: 4>, [<ObjectParam.COLOR: 0>, <SortOrder.NORMAL: 0>], <ActionType.MV_OBJ: 2>, [<TargetObject.ALL: 0>, <MoveDirection.UP: 0>, <MoveTarget.TILL_EDGE: 0>], <ActionType.SORT: 4>, [<ObjectParam.COLOR: 0>, <SortOrder.NORMAL: 0>], <ActionType.SET_OBJ_CLR: 3>, [<TargetObject.BOTTOM: 2>, <TargetColor.COLOR6: (6,)>], <ActionType.RESIZE_GRID: 5>, [<ResizeGridType.CUT_TO_OBJECTS: 0>]]\nvariants_checked: 33\n",
      "checked dsl: [<ActionType.SET_BACK: 0>, [<TargetColor.COLOR0: (0,)>], <ActionType.ADD_OBJ: 1>, [<ObjectDetectionMethod.BY_COLOR: 0>, <TargetObject.ALL: 0>], <ActionType.SORT: 4>, [<ObjectParam.COLOR: 0>, <SortOrder.NORMAL: 0>], <ActionType.MV_OBJ: 2>, [<TargetObject.ALL: 0>, <MoveDirection.UP: 0>, <MoveTarget.TILL_EDGE: 0>], <ActionType.SORT: 4>, [<ObjectParam.COLOR: 0>, <SortOrder.NORMAL: 0>], <ActionType.SET_OBJ_CLR: 3>, [<TargetObject.BOTTOM: 2>, <TargetColor.COLOR7: (7,)>], <ActionType.RESIZE_GRID: 5>, [<ResizeGridType.CUT_TO_OBJECTS: 0>]]\nvariants_checked: 34\n",
      "checked dsl: [<ActionType.SET_BACK: 0>, [<TargetColor.COLOR0: (0,)>], <ActionType.ADD_OBJ: 1>, [<ObjectDetectionMethod.BY_COLOR: 0>, <TargetObject.ALL: 0>], <ActionType.SORT: 4>, [<ObjectParam.COLOR: 0>, <SortOrder.NORMAL: 0>], <ActionType.MV_OBJ: 2>, [<TargetObject.ALL: 0>, <MoveDirection.UP: 0>, <MoveTarget.TILL_EDGE: 0>], <ActionType.SORT: 4>, [<ObjectParam.COLOR: 0>, <SortOrder.NORMAL: 0>], <ActionType.SET_OBJ_CLR: 3>, [<TargetObject.BOTTOM: 2>, <TargetColor.COLOR8: (8,)>], <ActionType.RESIZE_GRID: 5>, [<ResizeGridType.CUT_TO_OBJECTS: 0>]]\nvariants_checked: 35\n",
      "checked dsl: [<ActionType.SET_BACK: 0>, [<TargetColor.COLOR0: (0,)>], <ActionType.ADD_OBJ: 1>, [<ObjectDetectionMethod.BY_COLOR: 0>, <TargetObject.ALL: 0>], <ActionType.SORT: 4>, [<ObjectParam.COLOR: 0>, <SortOrder.NORMAL: 0>], <ActionType.MV_OBJ: 2>, [<TargetObject.ALL: 0>, <MoveDirection.UP: 0>, <MoveTarget.TILL_EDGE: 0>], <ActionType.SORT: 4>, [<ObjectParam.COLOR: 0>, <SortOrder.NORMAL: 0>], <ActionType.SET_OBJ_CLR: 3>, [<TargetObject.BOTTOM: 2>, <TargetColor.COLOR9: (9,)>], <ActionType.RESIZE_GRID: 5>, [<ResizeGridType.CUT_TO_OBJECTS: 0>]]\nvariants_checked: 36\n",
      "checked dsl: [<ActionType.SET_BACK: 0>, [<TargetColor.COLOR0: (0,)>], <ActionType.ADD_OBJ: 1>, [<ObjectDetectionMethod.BY_COLOR: 0>, <TargetObject.ALL: 0>], <ActionType.SORT: 4>, [<ObjectParam.COLOR: 0>, <SortOrder.NORMAL: 0>], <ActionType.MV_OBJ: 2>, [<TargetObject.ALL: 0>, <MoveDirection.UP: 0>, <MoveTarget.TILL_EDGE: 0>], <ActionType.SORT: 4>, [<ObjectParam.COLOR: 0>, <SortOrder.NORMAL: 0>], <ActionType.SET_OBJ_CLR: 3>, [<TargetObject.BOTTOM: 2>, <TargetColor.COLOR10: (10,)>], <ActionType.RESIZE_GRID: 5>, [<ResizeGridType.CUT_TO_OBJECTS: 0>]]\nvariants_checked: 37\n",
      "checked dsl: [<ActionType.SET_BACK: 0>, [<TargetColor.COLOR0: (0,)>], <ActionType.ADD_OBJ: 1>, [<ObjectDetectionMethod.BY_COLOR: 0>, <TargetObject.ALL: 0>], <ActionType.SORT: 4>, [<ObjectParam.COLOR: 0>, <SortOrder.NORMAL: 0>], <ActionType.MV_OBJ: 2>, [<TargetObject.ALL: 0>, <MoveDirection.UP: 0>, <MoveTarget.TILL_EDGE: 0>], <ActionType.SORT: 4>, [<ObjectParam.COLOR: 0>, <SortOrder.NORMAL: 0>], <ActionType.SET_OBJ_CLR: 3>, [<TargetObject.BOTTOM: 2>, <TargetColor.TOP_OBJECT: (11,)>], <ActionType.RESIZE_GRID: 5>, [<ResizeGridType.CUT_TO_OBJECTS: 0>]]\nvariants_checked: 38\n",
      "checked dsl: [<ActionType.SET_BACK: 0>, [<TargetColor.COLOR0: (0,)>], <ActionType.ADD_OBJ: 1>, [<ObjectDetectionMethod.BY_COLOR: 0>, <TargetObject.ALL: 0>], <ActionType.SORT: 4>, [<ObjectParam.COLOR: 0>, <SortOrder.NORMAL: 0>], <ActionType.MV_OBJ: 2>, [<TargetObject.ALL: 0>, <MoveDirection.UP: 0>, <MoveTarget.TILL_EDGE: 0>], <ActionType.SORT: 4>, [<ObjectParam.COLOR: 0>, <SortOrder.NORMAL: 0>], <ActionType.SET_OBJ_CLR: 3>, [<TargetObject.BOTTOM: 2>, <TargetColor.BOTTOM_OBJECT: 12>], <ActionType.RESIZE_GRID: 5>, [<ResizeGridType.CUT_TO_OBJECTS: 0>]]\nvariants_checked: 39\n",
      "checked dsl: [<ActionType.SET_BACK: 0>, [<TargetColor.COLOR0: (0,)>], <ActionType.ADD_OBJ: 1>, [<ObjectDetectionMethod.BY_COLOR: 0>, <TargetObject.ALL: 0>], <ActionType.SORT: 4>, [<ObjectParam.COLOR: 0>, <SortOrder.NORMAL: 0>], <ActionType.MV_OBJ: 2>, [<TargetObject.ALL: 0>, <MoveDirection.UP: 0>, <MoveTarget.TILL_EDGE: 0>], <ActionType.SORT: 4>, [<ObjectParam.COLOR: 0>, <SortOrder.REVERSE: 1>], <ActionType.SET_OBJ_CLR: 3>, [<TargetObject.ALL: 0>, <TargetColor.COLOR0: (0,)>], <ActionType.RESIZE_GRID: 5>, [<ResizeGridType.CUT_TO_OBJECTS: 0>]]\nvariants_checked: 40\n",
      "checked dsl: [<ActionType.SET_BACK: 0>, [<TargetColor.COLOR0: (0,)>], <ActionType.ADD_OBJ: 1>, [<ObjectDetectionMethod.BY_COLOR: 0>, <TargetObject.ALL: 0>], <ActionType.SORT: 4>, [<ObjectParam.COLOR: 0>, <SortOrder.NORMAL: 0>], <ActionType.MV_OBJ: 2>, [<TargetObject.ALL: 0>, <MoveDirection.UP: 0>, <MoveTarget.TILL_EDGE: 0>], <ActionType.SORT: 4>, [<ObjectParam.COLOR: 0>, <SortOrder.REVERSE: 1>], <ActionType.SET_OBJ_CLR: 3>, [<TargetObject.ALL: 0>, <TargetColor.COLOR1: (1,)>], <ActionType.RESIZE_GRID: 5>, [<ResizeGridType.CUT_TO_OBJECTS: 0>]]\nvariants_checked: 41\n",
      "checked dsl: [<ActionType.SET_BACK: 0>, [<TargetColor.COLOR0: (0,)>], <ActionType.ADD_OBJ: 1>, [<ObjectDetectionMethod.BY_COLOR: 0>, <TargetObject.ALL: 0>], <ActionType.SORT: 4>, [<ObjectParam.COLOR: 0>, <SortOrder.NORMAL: 0>], <ActionType.MV_OBJ: 2>, [<TargetObject.ALL: 0>, <MoveDirection.UP: 0>, <MoveTarget.TILL_EDGE: 0>], <ActionType.SORT: 4>, [<ObjectParam.COLOR: 0>, <SortOrder.REVERSE: 1>], <ActionType.SET_OBJ_CLR: 3>, [<TargetObject.ALL: 0>, <TargetColor.COLOR2: (2,)>], <ActionType.RESIZE_GRID: 5>, [<ResizeGridType.CUT_TO_OBJECTS: 0>]]\nvariants_checked: 42\n",
      "checked dsl: [<ActionType.SET_BACK: 0>, [<TargetColor.COLOR0: (0,)>], <ActionType.ADD_OBJ: 1>, [<ObjectDetectionMethod.BY_COLOR: 0>, <TargetObject.ALL: 0>], <ActionType.SORT: 4>, [<ObjectParam.COLOR: 0>, <SortOrder.NORMAL: 0>], <ActionType.MV_OBJ: 2>, [<TargetObject.ALL: 0>, <MoveDirection.UP: 0>, <MoveTarget.TILL_EDGE: 0>], <ActionType.SORT: 4>, [<ObjectParam.COLOR: 0>, <SortOrder.REVERSE: 1>], <ActionType.SET_OBJ_CLR: 3>, [<TargetObject.ALL: 0>, <TargetColor.COLOR3: (3,)>], <ActionType.RESIZE_GRID: 5>, [<ResizeGridType.CUT_TO_OBJECTS: 0>]]\nvariants_checked: 43\n",
      "checked dsl: [<ActionType.SET_BACK: 0>, [<TargetColor.COLOR0: (0,)>], <ActionType.ADD_OBJ: 1>, [<ObjectDetectionMethod.BY_COLOR: 0>, <TargetObject.ALL: 0>], <ActionType.SORT: 4>, [<ObjectParam.COLOR: 0>, <SortOrder.NORMAL: 0>], <ActionType.MV_OBJ: 2>, [<TargetObject.ALL: 0>, <MoveDirection.UP: 0>, <MoveTarget.TILL_EDGE: 0>], <ActionType.SORT: 4>, [<ObjectParam.COLOR: 0>, <SortOrder.REVERSE: 1>], <ActionType.SET_OBJ_CLR: 3>, [<TargetObject.ALL: 0>, <TargetColor.COLOR4: (4,)>], <ActionType.RESIZE_GRID: 5>, [<ResizeGridType.CUT_TO_OBJECTS: 0>]]\nvariants_checked: 44\n",
      "checked dsl: [<ActionType.SET_BACK: 0>, [<TargetColor.COLOR0: (0,)>], <ActionType.ADD_OBJ: 1>, [<ObjectDetectionMethod.BY_COLOR: 0>, <TargetObject.ALL: 0>], <ActionType.SORT: 4>, [<ObjectParam.COLOR: 0>, <SortOrder.NORMAL: 0>], <ActionType.MV_OBJ: 2>, [<TargetObject.ALL: 0>, <MoveDirection.UP: 0>, <MoveTarget.TILL_EDGE: 0>], <ActionType.SORT: 4>, [<ObjectParam.COLOR: 0>, <SortOrder.REVERSE: 1>], <ActionType.SET_OBJ_CLR: 3>, [<TargetObject.ALL: 0>, <TargetColor.COLOR5: (5,)>], <ActionType.RESIZE_GRID: 5>, [<ResizeGridType.CUT_TO_OBJECTS: 0>]]\nvariants_checked: 45\n",
      "checked dsl: [<ActionType.SET_BACK: 0>, [<TargetColor.COLOR0: (0,)>], <ActionType.ADD_OBJ: 1>, [<ObjectDetectionMethod.BY_COLOR: 0>, <TargetObject.ALL: 0>], <ActionType.SORT: 4>, [<ObjectParam.COLOR: 0>, <SortOrder.NORMAL: 0>], <ActionType.MV_OBJ: 2>, [<TargetObject.ALL: 0>, <MoveDirection.UP: 0>, <MoveTarget.TILL_EDGE: 0>], <ActionType.SORT: 4>, [<ObjectParam.COLOR: 0>, <SortOrder.REVERSE: 1>], <ActionType.SET_OBJ_CLR: 3>, [<TargetObject.ALL: 0>, <TargetColor.COLOR6: (6,)>], <ActionType.RESIZE_GRID: 5>, [<ResizeGridType.CUT_TO_OBJECTS: 0>]]\nvariants_checked: 46\n",
      "checked dsl: [<ActionType.SET_BACK: 0>, [<TargetColor.COLOR0: (0,)>], <ActionType.ADD_OBJ: 1>, [<ObjectDetectionMethod.BY_COLOR: 0>, <TargetObject.ALL: 0>], <ActionType.SORT: 4>, [<ObjectParam.COLOR: 0>, <SortOrder.NORMAL: 0>], <ActionType.MV_OBJ: 2>, [<TargetObject.ALL: 0>, <MoveDirection.UP: 0>, <MoveTarget.TILL_EDGE: 0>], <ActionType.SORT: 4>, [<ObjectParam.COLOR: 0>, <SortOrder.REVERSE: 1>], <ActionType.SET_OBJ_CLR: 3>, [<TargetObject.ALL: 0>, <TargetColor.COLOR7: (7,)>], <ActionType.RESIZE_GRID: 5>, [<ResizeGridType.CUT_TO_OBJECTS: 0>]]\nvariants_checked: 47\n",
      "checked dsl: [<ActionType.SET_BACK: 0>, [<TargetColor.COLOR0: (0,)>], <ActionType.ADD_OBJ: 1>, [<ObjectDetectionMethod.BY_COLOR: 0>, <TargetObject.ALL: 0>], <ActionType.SORT: 4>, [<ObjectParam.COLOR: 0>, <SortOrder.NORMAL: 0>], <ActionType.MV_OBJ: 2>, [<TargetObject.ALL: 0>, <MoveDirection.UP: 0>, <MoveTarget.TILL_EDGE: 0>], <ActionType.SORT: 4>, [<ObjectParam.COLOR: 0>, <SortOrder.REVERSE: 1>], <ActionType.SET_OBJ_CLR: 3>, [<TargetObject.ALL: 0>, <TargetColor.COLOR8: (8,)>], <ActionType.RESIZE_GRID: 5>, [<ResizeGridType.CUT_TO_OBJECTS: 0>]]\nvariants_checked: 48\n",
      "checked dsl: [<ActionType.SET_BACK: 0>, [<TargetColor.COLOR0: (0,)>], <ActionType.ADD_OBJ: 1>, [<ObjectDetectionMethod.BY_COLOR: 0>, <TargetObject.ALL: 0>], <ActionType.SORT: 4>, [<ObjectParam.COLOR: 0>, <SortOrder.NORMAL: 0>], <ActionType.MV_OBJ: 2>, [<TargetObject.ALL: 0>, <MoveDirection.UP: 0>, <MoveTarget.TILL_EDGE: 0>], <ActionType.SORT: 4>, [<ObjectParam.COLOR: 0>, <SortOrder.REVERSE: 1>], <ActionType.SET_OBJ_CLR: 3>, [<TargetObject.ALL: 0>, <TargetColor.COLOR9: (9,)>], <ActionType.RESIZE_GRID: 5>, [<ResizeGridType.CUT_TO_OBJECTS: 0>]]\nvariants_checked: 49\n",
      "checked dsl: [<ActionType.SET_BACK: 0>, [<TargetColor.COLOR0: (0,)>], <ActionType.ADD_OBJ: 1>, [<ObjectDetectionMethod.BY_COLOR: 0>, <TargetObject.ALL: 0>], <ActionType.SORT: 4>, [<ObjectParam.COLOR: 0>, <SortOrder.NORMAL: 0>], <ActionType.MV_OBJ: 2>, [<TargetObject.ALL: 0>, <MoveDirection.UP: 0>, <MoveTarget.TILL_EDGE: 0>], <ActionType.SORT: 4>, [<ObjectParam.COLOR: 0>, <SortOrder.REVERSE: 1>], <ActionType.SET_OBJ_CLR: 3>, [<TargetObject.ALL: 0>, <TargetColor.COLOR10: (10,)>], <ActionType.RESIZE_GRID: 5>, [<ResizeGridType.CUT_TO_OBJECTS: 0>]]\nvariants_checked: 50\n",
      "checked dsl: [<ActionType.SET_BACK: 0>, [<TargetColor.COLOR0: (0,)>], <ActionType.ADD_OBJ: 1>, [<ObjectDetectionMethod.BY_COLOR: 0>, <TargetObject.ALL: 0>], <ActionType.SORT: 4>, [<ObjectParam.COLOR: 0>, <SortOrder.NORMAL: 0>], <ActionType.MV_OBJ: 2>, [<TargetObject.ALL: 0>, <MoveDirection.UP: 0>, <MoveTarget.TILL_EDGE: 0>], <ActionType.SORT: 4>, [<ObjectParam.COLOR: 0>, <SortOrder.REVERSE: 1>], <ActionType.SET_OBJ_CLR: 3>, [<TargetObject.ALL: 0>, <TargetColor.TOP_OBJECT: (11,)>], <ActionType.RESIZE_GRID: 5>, [<ResizeGridType.CUT_TO_OBJECTS: 0>]]\nvariants_checked: 51\n",
      "checked dsl: [<ActionType.SET_BACK: 0>, [<TargetColor.COLOR0: (0,)>], <ActionType.ADD_OBJ: 1>, [<ObjectDetectionMethod.BY_COLOR: 0>, <TargetObject.ALL: 0>], <ActionType.SORT: 4>, [<ObjectParam.COLOR: 0>, <SortOrder.NORMAL: 0>], <ActionType.MV_OBJ: 2>, [<TargetObject.ALL: 0>, <MoveDirection.UP: 0>, <MoveTarget.TILL_EDGE: 0>], <ActionType.SORT: 4>, [<ObjectParam.COLOR: 0>, <SortOrder.REVERSE: 1>], <ActionType.SET_OBJ_CLR: 3>, [<TargetObject.ALL: 0>, <TargetColor.BOTTOM_OBJECT: 12>], <ActionType.RESIZE_GRID: 5>, [<ResizeGridType.CUT_TO_OBJECTS: 0>]]\nvariants_checked: 52\n",
      "checked dsl: [<ActionType.SET_BACK: 0>, [<TargetColor.COLOR0: (0,)>], <ActionType.ADD_OBJ: 1>, [<ObjectDetectionMethod.BY_COLOR: 0>, <TargetObject.ALL: 0>], <ActionType.SORT: 4>, [<ObjectParam.COLOR: 0>, <SortOrder.NORMAL: 0>], <ActionType.MV_OBJ: 2>, [<TargetObject.ALL: 0>, <MoveDirection.UP: 0>, <MoveTarget.TILL_EDGE: 0>], <ActionType.SORT: 4>, [<ObjectParam.COLOR: 0>, <SortOrder.REVERSE: 1>], <ActionType.SET_OBJ_CLR: 3>, [<TargetObject.TOP: 1>, <TargetColor.COLOR0: (0,)>], <ActionType.RESIZE_GRID: 5>, [<ResizeGridType.CUT_TO_OBJECTS: 0>]]\nvariants_checked: 53\n",
      "checked dsl: [<ActionType.SET_BACK: 0>, [<TargetColor.COLOR0: (0,)>], <ActionType.ADD_OBJ: 1>, [<ObjectDetectionMethod.BY_COLOR: 0>, <TargetObject.ALL: 0>], <ActionType.SORT: 4>, [<ObjectParam.COLOR: 0>, <SortOrder.NORMAL: 0>], <ActionType.MV_OBJ: 2>, [<TargetObject.ALL: 0>, <MoveDirection.UP: 0>, <MoveTarget.TILL_EDGE: 0>], <ActionType.SORT: 4>, [<ObjectParam.COLOR: 0>, <SortOrder.REVERSE: 1>], <ActionType.SET_OBJ_CLR: 3>, [<TargetObject.TOP: 1>, <TargetColor.COLOR1: (1,)>], <ActionType.RESIZE_GRID: 5>, [<ResizeGridType.CUT_TO_OBJECTS: 0>]]\nvariants_checked: 54\n"
     ],
     "output_type": "stream"
    },
    {
     "name": "stderr",
     "text": [
      "/Users/a18220706/.conda/envs/kaggle-arc/lib/python3.6/site-packages/ipykernel_launcher.py:428: DeprecationWarning: elementwise comparison failed; this will raise an error in the future.\n"
     ],
     "output_type": "stream"
    },
    {
     "data": {
      "text/plain": "<Figure size 432x288 with 1 Axes>",
      "image/png": "[encoded data removed]"
     },
     "metadata": {
      "needs_background": "light"
     },
     "output_type": "display_data"
    },
    {
     "data": {
      "text/plain": "<Figure size 1000x1000 with 0 Axes>"
     },
     "metadata": {},
     "output_type": "display_data"
    },
    {
     "data": {
      "text/plain": "<Figure size 432x288 with 1 Axes>",
      "image/png": "[encoded data removed]"
     },
     "metadata": {
      "needs_background": "light"
     },
     "output_type": "display_data"
    },
    {
     "data": {
      "text/plain": "<Figure size 1000x1000 with 0 Axes>"
     },
     "metadata": {},
     "output_type": "display_data"
    },
    {
     "data": {
      "text/plain": "<Figure size 432x288 with 1 Axes>",
      "image/png": "[encoded data removed]"
     },
     "metadata": {
      "needs_background": "light"
     },
     "output_type": "display_data"
    },
    {
     "data": {
      "text/plain": "<Figure size 1000x1000 with 0 Axes>"
     },
     "metadata": {},
     "output_type": "display_data"
    },
    {
     "data": {
      "text/plain": "<Figure size 432x288 with 1 Axes>",
      "image/png": "[encoded data removed]"
     },
     "metadata": {
      "needs_background": "light"
     },
     "output_type": "display_data"
    },
    {
     "data": {
      "text/plain": "<Figure size 1000x1000 with 0 Axes>"
     },
     "metadata": {},
     "output_type": "display_data"
    },
    {
     "data": {
      "text/plain": "<Figure size 432x288 with 1 Axes>",
      "image/png": "[encoded data removed]"
     },
     "metadata": {
      "needs_background": "light"
     },
     "output_type": "display_data"
    },
    {
     "data": {
      "text/plain": "<Figure size 1000x1000 with 0 Axes>"
     },
     "metadata": {},
     "output_type": "display_data"
    },
    {
     "data": {
      "text/plain": "<Figure size 432x288 with 1 Axes>",
      "image/png": "[encoded data removed]"
     },
     "metadata": {
      "needs_background": "light"
     },
     "output_type": "display_data"
    },
    {
     "data": {
      "text/plain": "<Figure size 1000x1000 with 0 Axes>"
     },
     "metadata": {},
     "output_type": "display_data"
    },
    {
     "data": {
      "text/plain": "<Figure size 432x288 with 1 Axes>",
      "image/png": "[encoded data removed]"
     },
     "metadata": {
      "needs_background": "light"
     },
     "output_type": "display_data"
    },
    {
     "data": {
      "text/plain": "<Figure size 1000x1000 with 0 Axes>"
     },
     "metadata": {},
     "output_type": "display_data"
    },
    {
     "data": {
      "text/plain": "<Figure size 432x288 with 1 Axes>",
      "image/png": "[encoded data removed]"
     },
     "metadata": {
      "needs_background": "light"
     },
     "output_type": "display_data"
    },
    {
     "data": {
      "text/plain": "<Figure size 1000x1000 with 0 Axes>"
     },
     "metadata": {},
     "output_type": "display_data"
    },
    {
     "data": {
      "text/plain": "<Figure size 432x288 with 1 Axes>",
      "image/png": "[encoded data removed]"
     },
     "metadata": {
      "needs_background": "light"
     },
     "output_type": "display_data"
    },
    {
     "data": {
      "text/plain": "<Figure size 1000x1000 with 0 Axes>"
     },
     "metadata": {},
     "output_type": "display_data"
    },
    {
     "data": {
      "text/plain": "<Figure size 432x288 with 1 Axes>",
      "image/png": "[encoded data removed]"
     },
     "metadata": {
      "needs_background": "light"
     },
     "output_type": "display_data"
    },
    {
     "data": {
      "text/plain": "<Figure size 1000x1000 with 0 Axes>"
     },
     "metadata": {},
     "output_type": "display_data"
    },
    {
     "data": {
      "text/plain": "<Figure size 432x288 with 1 Axes>",
      "image/png": "[encoded data removed]"
     },
     "metadata": {
      "needs_background": "light"
     },
     "output_type": "display_data"
    },
    {
     "data": {
      "text/plain": "<Figure size 1000x1000 with 0 Axes>"
     },
     "metadata": {},
     "output_type": "display_data"
    },
    {
     "data": {
      "text/plain": "<Figure size 432x288 with 1 Axes>",
      "image/png": "[encoded data removed]"
     },
     "metadata": {
      "needs_background": "light"
     },
     "output_type": "display_data"
    },
    {
     "data": {
      "text/plain": "<Figure size 1000x1000 with 0 Axes>"
     },
     "metadata": {},
     "output_type": "display_data"
    },
    {
     "data": {
      "text/plain": "<Figure size 432x288 with 1 Axes>",
      "image/png": "[encoded data removed]"
     },
     "metadata": {
      "needs_background": "light"
     },
     "output_type": "display_data"
    },
    {
     "data": {
      "text/plain": "<Figure size 1000x1000 with 0 Axes>"
     },
     "metadata": {},
     "output_type": "display_data"
    },
    {
     "data": {
      "text/plain": "<Figure size 432x288 with 1 Axes>",
      "image/png": "[encoded data removed]"
     },
     "metadata": {
      "needs_background": "light"
     },
     "output_type": "display_data"
    },
    {
     "data": {
      "text/plain": "<Figure size 1000x1000 with 0 Axes>"
     },
     "metadata": {},
     "output_type": "display_data"
    },
    {
     "data": {
      "text/plain": "<Figure size 432x288 with 1 Axes>",
      "image/png": "[encoded data removed]"
     },
     "metadata": {
      "needs_background": "light"
     },
     "output_type": "display_data"
    },
    {
     "data": {
      "text/plain": "<Figure size 1000x1000 with 0 Axes>"
     },
     "metadata": {},
     "output_type": "display_data"
    },
    {
     "data": {
      "text/plain": "<Figure size 432x288 with 1 Axes>",
      "image/png": "[encoded data removed]"
     },
     "metadata": {
      "needs_background": "light"
     },
     "output_type": "display_data"
    },
    {
     "data": {
      "text/plain": "<Figure size 1000x1000 with 0 Axes>"
     },
     "metadata": {},
     "output_type": "display_data"
    },
    {
     "data": {
      "text/plain": "<Figure size 432x288 with 1 Axes>",
      "image/png": "[encoded data removed]"
     },
     "metadata": {
      "needs_background": "light"
     },
     "output_type": "display_data"
    },
    {
     "data": {
      "text/plain": "<Figure size 1000x1000 with 0 Axes>"
     },
     "metadata": {},
     "output_type": "display_data"
    },
    {
     "data": {
      "text/plain": "<Figure size 432x288 with 1 Axes>",
      "image/png": "[encoded data removed]"
     },
     "metadata": {
      "needs_background": "light"
     },
     "output_type": "display_data"
    },
    {
     "data": {
      "text/plain": "<Figure size 1000x1000 with 0 Axes>"
     },
     "metadata": {},
     "output_type": "display_data"
    },
    {
     "data": {
      "text/plain": "<Figure size 432x288 with 1 Axes>",
      "image/png": "[encoded data removed]"
     },
     "metadata": {
      "needs_background": "light"
     },
     "output_type": "display_data"
    },
    {
     "data": {
      "text/plain": "<Figure size 1000x1000 with 0 Axes>"
     },
     "metadata": {},
     "output_type": "display_data"
    },
    {
     "data": {
      "text/plain": "<Figure size 432x288 with 1 Axes>",
      "image/png": "[encoded data removed]"
     },
     "metadata": {
      "needs_background": "light"
     },
     "output_type": "display_data"
    },
    {
     "data": {
      "text/plain": "<Figure size 1000x1000 with 0 Axes>"
     },
     "metadata": {},
     "output_type": "display_data"
    },
    {
     "data": {
      "text/plain": "<Figure size 432x288 with 1 Axes>",
      "image/png": "[encoded data removed]"
     },
     "metadata": {
      "needs_background": "light"
     },
     "output_type": "display_data"
    },
    {
     "data": {
      "text/plain": "<Figure size 1000x1000 with 0 Axes>"
     },
     "metadata": {},
     "output_type": "display_data"
    },
    {
     "data": {
      "text/plain": "<Figure size 432x288 with 1 Axes>",
      "image/png": "[encoded data removed]"
     },
     "metadata": {
      "needs_background": "light"
     },
     "output_type": "display_data"
    },
    {
     "data": {
      "text/plain": "<Figure size 1000x1000 with 0 Axes>"
     },
     "metadata": {},
     "output_type": "display_data"
    },
    {
     "data": {
      "text/plain": "<Figure size 432x288 with 1 Axes>",
      "image/png": "[encoded data removed]"
     },
     "metadata": {
      "needs_background": "light"
     },
     "output_type": "display_data"
    },
    {
     "data": {
      "text/plain": "<Figure size 1000x1000 with 0 Axes>"
     },
     "metadata": {},
     "output_type": "display_data"
    },
    {
     "data": {
      "text/plain": "<Figure size 432x288 with 1 Axes>",
      "image/png": "[encoded data removed]"
     },
     "metadata": {
      "needs_background": "light"
     },
     "output_type": "display_data"
    },
    {
     "data": {
      "text/plain": "<Figure size 1000x1000 with 0 Axes>"
     },
     "metadata": {},
     "output_type": "display_data"
    },
    {
     "data": {
      "text/plain": "<Figure size 432x288 with 1 Axes>",
      "image/png": "[encoded data removed]"
     },
     "metadata": {
      "needs_background": "light"
     },
     "output_type": "display_data"
    },
    {
     "data": {
      "text/plain": "<Figure size 1000x1000 with 0 Axes>"
     },
     "metadata": {},
     "output_type": "display_data"
    },
    {
     "data": {
      "text/plain": "<Figure size 432x288 with 1 Axes>",
      "image/png": "[encoded data removed]"
     },
     "metadata": {
      "needs_background": "light"
     },
     "output_type": "display_data"
    },
    {
     "data": {
      "text/plain": "<Figure size 1000x1000 with 0 Axes>"
     },
     "metadata": {},
     "output_type": "display_data"
    },
    {
     "data": {
      "text/plain": "<Figure size 432x288 with 1 Axes>",
      "image/png": "[encoded data removed]"
     },
     "metadata": {
      "needs_background": "light"
     },
     "output_type": "display_data"
    },
    {
     "data": {
      "text/plain": "<Figure size 1000x1000 with 0 Axes>"
     },
     "metadata": {},
     "output_type": "display_data"
    },
    {
     "data": {
      "text/plain": "<Figure size 432x288 with 1 Axes>",
      "image/png": "[encoded data removed]"
     },
     "metadata": {
      "needs_background": "light"
     },
     "output_type": "display_data"
    },
    {
     "data": {
      "text/plain": "<Figure size 1000x1000 with 0 Axes>"
     },
     "metadata": {},
     "output_type": "display_data"
    },
    {
     "data": {
      "text/plain": "<Figure size 432x288 with 1 Axes>",
      "image/png": "[encoded data removed]"
     },
     "metadata": {
      "needs_background": "light"
     },
     "output_type": "display_data"
    },
    {
     "data": {
      "text/plain": "<Figure size 1000x1000 with 0 Axes>"
     },
     "metadata": {},
     "output_type": "display_data"
    },
    {
     "data": {
      "text/plain": "<Figure size 432x288 with 1 Axes>",
      "image/png": "[encoded data removed]"
     },
     "metadata": {
      "needs_background": "light"
     },
     "output_type": "display_data"
    },
    {
     "data": {
      "text/plain": "<Figure size 1000x1000 with 0 Axes>"
     },
     "metadata": {},
     "output_type": "display_data"
    },
    {
     "data": {
      "text/plain": "<Figure size 432x288 with 1 Axes>",
      "image/png": "[encoded data removed]"
     },
     "metadata": {
      "needs_background": "light"
     },
     "output_type": "display_data"
    },
    {
     "data": {
      "text/plain": "<Figure size 1000x1000 with 0 Axes>"
     },
     "metadata": {},
     "output_type": "display_data"
    },
    {
     "data": {
      "text/plain": "<Figure size 432x288 with 1 Axes>",
      "image/png": "[encoded data removed]"
     },
     "metadata": {
      "needs_background": "light"
     },
     "output_type": "display_data"
    },
    {
     "data": {
      "text/plain": "<Figure size 1000x1000 with 0 Axes>"
     },
     "metadata": {},
     "output_type": "display_data"
    },
    {
     "data": {
      "text/plain": "<Figure size 432x288 with 1 Axes>",
      "image/png": "[encoded data removed]"
     },
     "metadata": {
      "needs_background": "light"
     },
     "output_type": "display_data"
    },
    {
     "data": {
      "text/plain": "<Figure size 1000x1000 with 0 Axes>"
     },
     "metadata": {},
     "output_type": "display_data"
    },
    {
     "data": {
      "text/plain": "<Figure size 432x288 with 1 Axes>",
      "image/png": "[encoded data removed]"
     },
     "metadata": {
      "needs_background": "light"
     },
     "output_type": "display_data"
    },
    {
     "data": {
      "text/plain": "<Figure size 1000x1000 with 0 Axes>"
     },
     "metadata": {},
     "output_type": "display_data"
    },
    {
     "data": {
      "text/plain": "<Figure size 432x288 with 1 Axes>",
      "image/png": "[encoded data removed]"
     },
     "metadata": {
      "needs_background": "light"
     },
     "output_type": "display_data"
    },
    {
     "data": {
      "text/plain": "<Figure size 1000x1000 with 0 Axes>"
     },
     "metadata": {},
     "output_type": "display_data"
    },
    {
     "data": {
      "text/plain": "<Figure size 432x288 with 1 Axes>",
      "image/png": "[encoded data removed]"
     },
     "metadata": {
      "needs_background": "light"
     },
     "output_type": "display_data"
    },
    {
     "data": {
      "text/plain": "<Figure size 1000x1000 with 0 Axes>"
     },
     "metadata": {},
     "output_type": "display_data"
    },
    {
     "data": {
      "text/plain": "<Figure size 432x288 with 1 Axes>",
      "image/png": "[encoded data removed]"
     },
     "metadata": {
      "needs_background": "light"
     },
     "output_type": "display_data"
    },
    {
     "data": {
      "text/plain": "<Figure size 1000x1000 with 0 Axes>"
     },
     "metadata": {},
     "output_type": "display_data"
    },
    {
     "data": {
      "text/plain": "<Figure size 432x288 with 1 Axes>",
      "image/png": "[encoded data removed]"
     },
     "metadata": {
      "needs_background": "light"
     },
     "output_type": "display_data"
    },
    {
     "data": {
      "text/plain": "<Figure size 1000x1000 with 0 Axes>"
     },
     "metadata": {},
     "output_type": "display_data"
    },
    {
     "data": {
      "text/plain": "<Figure size 432x288 with 1 Axes>",
      "image/png": "[encoded data removed]"
     },
     "metadata": {
      "needs_background": "light"
     },
     "output_type": "display_data"
    },
    {
     "data": {
      "text/plain": "<Figure size 1000x1000 with 0 Axes>"
     },
     "metadata": {},
     "output_type": "display_data"
    },
    {
     "data": {
      "text/plain": "<Figure size 432x288 with 1 Axes>",
      "image/png": "[encoded data removed]"
     },
     "metadata": {
      "needs_background": "light"
     },
     "output_type": "display_data"
    },
    {
     "data": {
      "text/plain": "<Figure size 1000x1000 with 0 Axes>"
     },
     "metadata": {},
     "output_type": "display_data"
    },
    {
     "data": {
      "text/plain": "<Figure size 432x288 with 1 Axes>",
      "image/png": "[encoded data removed]"
     },
     "metadata": {
      "needs_background": "light"
     },
     "output_type": "display_data"
    },
    {
     "data": {
      "text/plain": "<Figure size 1000x1000 with 0 Axes>"
     },
     "metadata": {},
     "output_type": "display_data"
    },
    {
     "data": {
      "text/plain": "<Figure size 432x288 with 1 Axes>",
      "image/png": "[encoded data removed]"
     },
     "metadata": {
      "needs_background": "light"
     },
     "output_type": "display_data"
    },
    {
     "data": {
      "text/plain": "<Figure size 1000x1000 with 0 Axes>"
     },
     "metadata": {},
     "output_type": "display_data"
    },
    {
     "data": {
      "text/plain": "<Figure size 432x288 with 1 Axes>",
      "image/png": "[encoded data removed]"
     },
     "metadata": {
      "needs_background": "light"
     },
     "output_type": "display_data"
    },
    {
     "data": {
      "text/plain": "<Figure size 1000x1000 with 0 Axes>"
     },
     "metadata": {},
     "output_type": "display_data"
    },
    {
     "data": {
      "text/plain": "<Figure size 432x288 with 1 Axes>",
      "image/png": "[encoded data removed]"
     },
     "metadata": {
      "needs_background": "light"
     },
     "output_type": "display_data"
    },
    {
     "data": {
      "text/plain": "<Figure size 1000x1000 with 0 Axes>"
     },
     "metadata": {},
     "output_type": "display_data"
    },
    {
     "data": {
      "text/plain": "<Figure size 432x288 with 1 Axes>",
      "image/png": "[encoded data removed]"
     },
     "metadata": {
      "needs_background": "light"
     },
     "output_type": "display_data"
    },
    {
     "data": {
      "text/plain": "<Figure size 1000x1000 with 0 Axes>"
     },
     "metadata": {},
     "output_type": "display_data"
    },
    {
     "data": {
      "text/plain": "<Figure size 432x288 with 1 Axes>",
      "image/png": "[encoded data removed]"
     },
     "metadata": {
      "needs_background": "light"
     },
     "output_type": "display_data"
    },
    {
     "data": {
      "text/plain": "<Figure size 1000x1000 with 0 Axes>"
     },
     "metadata": {},
     "output_type": "display_data"
    },
    {
     "data": {
      "text/plain": "<Figure size 432x288 with 1 Axes>",
      "image/png": "[encoded data removed]"
     },
     "metadata": {
      "needs_background": "light"
     },
     "output_type": "display_data"
    },
    {
     "data": {
      "text/plain": "<Figure size 1000x1000 with 0 Axes>"
     },
     "metadata": {},
     "output_type": "display_data"
    },
    {
     "data": {
      "text/plain": "<Figure size 432x288 with 1 Axes>",
      "image/png": "[encoded data removed]"
     },
     "metadata": {
      "needs_background": "light"
     },
     "output_type": "display_data"
    },
    {
     "data": {
      "text/plain": "<Figure size 1000x1000 with 0 Axes>"
     },
     "metadata": {},
     "output_type": "display_data"
    },
    {
     "data": {
      "text/plain": "<Figure size 432x288 with 1 Axes>",
      "image/png": "[encoded data removed]"
     },
     "metadata": {
      "needs_background": "light"
     },
     "output_type": "display_data"
    },
    {
     "data": {
      "text/plain": "<Figure size 1000x1000 with 0 Axes>"
     },
     "metadata": {},
     "output_type": "display_data"
    },
    {
     "data": {
      "text/plain": "<Figure size 432x288 with 1 Axes>",
      "image/png": "[encoded data removed]"
     },
     "metadata": {
      "needs_background": "light"
     },
     "output_type": "display_data"
    },
    {
     "data": {
      "text/plain": "<Figure size 1000x1000 with 0 Axes>"
     },
     "metadata": {},
     "output_type": "display_data"
    },
    {
     "data": {
      "text/plain": "<Figure size 432x288 with 1 Axes>",
      "image/png": "[encoded data removed]"
     },
     "metadata": {
      "needs_background": "light"
     },
     "output_type": "display_data"
    },
    {
     "data": {
      "text/plain": "<Figure size 1000x1000 with 0 Axes>"
     },
     "metadata": {},
     "output_type": "display_data"
    },
    {
     "data": {
      "text/plain": "<Figure size 432x288 with 1 Axes>",
      "image/png": "[encoded data removed]"
     },
     "metadata": {
      "needs_background": "light"
     },
     "output_type": "display_data"
    },
    {
     "data": {
      "text/plain": "<Figure size 1000x1000 with 0 Axes>"
     },
     "metadata": {},
     "output_type": "display_data"
    },
    {
     "data": {
      "text/plain": "<Figure size 432x288 with 1 Axes>",
      "image/png": "[encoded data removed]"
     },
     "metadata": {
      "needs_background": "light"
     },
     "output_type": "display_data"
    },
    {
     "data": {
      "text/plain": "<Figure size 1000x1000 with 0 Axes>"
     },
     "metadata": {},
     "output_type": "display_data"
    },
    {
     "traceback": [
      "\u001b[0;31m---------------------------------------------------------------------------\u001b[0m",
      "\u001b[0;31mKeyboardInterrupt\u001b[0m                         Traceback (most recent call last)",
      "\u001b[0;32m<ipython-input-51-4c16b126e588>\u001b[0m in \u001b[0;36m<module>\u001b[0;34m\u001b[0m\n\u001b[1;32m    768\u001b[0m \u001b[0;34m\u001b[0m\u001b[0m\n\u001b[1;32m    769\u001b[0m     \u001b[0mgenerator\u001b[0m \u001b[0;34m=\u001b[0m \u001b[0mDSLGenerator\u001b[0m\u001b[0;34m(\u001b[0m\u001b[0mtrain_tasks\u001b[0m\u001b[0;34m[\u001b[0m\u001b[0mtask_num\u001b[0m\u001b[0;34m]\u001b[0m\u001b[0;34m[\u001b[0m\u001b[0;34m'train'\u001b[0m\u001b[0;34m]\u001b[0m\u001b[0;34m)\u001b[0m\u001b[0;34m\u001b[0m\u001b[0;34m\u001b[0m\u001b[0m\n\u001b[0;32m--> 770\u001b[0;31m     \u001b[0mdsls\u001b[0m \u001b[0;34m=\u001b[0m \u001b[0mgenerator\u001b[0m\u001b[0;34m.\u001b[0m\u001b[0mgenerate\u001b[0m\u001b[0;34m(\u001b[0m\u001b[0marc\u001b[0m\u001b[0;34m)\u001b[0m\u001b[0;34m\u001b[0m\u001b[0;34m\u001b[0m\u001b[0m\n\u001b[0m\u001b[1;32m    771\u001b[0m     \u001b[0mprint\u001b[0m\u001b[0;34m(\u001b[0m\u001b[0;34m'results dsls:'\u001b[0m\u001b[0;34m,\u001b[0m \u001b[0mdsls\u001b[0m\u001b[0;34m)\u001b[0m\u001b[0;34m\u001b[0m\u001b[0;34m\u001b[0m\u001b[0m\n\u001b[1;32m    772\u001b[0m \u001b[0;34m\u001b[0m\u001b[0m\n",
      "\u001b[0;32m<ipython-input-51-4c16b126e588>\u001b[0m in \u001b[0;36mgenerate\u001b[0;34m(self, arc)\u001b[0m\n\u001b[1;32m    382\u001b[0m \u001b[0;34m\u001b[0m\u001b[0m\n\u001b[1;32m    383\u001b[0m             \u001b[0;32mif\u001b[0m \u001b[0msuitable_dsl\u001b[0m \u001b[0;32mis\u001b[0m \u001b[0;32mNone\u001b[0m\u001b[0;34m:\u001b[0m\u001b[0;34m\u001b[0m\u001b[0;34m\u001b[0m\u001b[0m\n\u001b[0;32m--> 384\u001b[0;31m                 \u001b[0msuitable_dsl\u001b[0m \u001b[0;34m=\u001b[0m \u001b[0mself\u001b[0m\u001b[0;34m.\u001b[0m\u001b[0mfind_suitable_dsl\u001b[0m\u001b[0;34m(\u001b[0m\u001b[0marc\u001b[0m\u001b[0;34m,\u001b[0m \u001b[0minput\u001b[0m\u001b[0;34m)\u001b[0m\u001b[0;34m\u001b[0m\u001b[0;34m\u001b[0m\u001b[0m\n\u001b[0m\u001b[1;32m    385\u001b[0m \u001b[0;34m\u001b[0m\u001b[0m\n\u001b[1;32m    386\u001b[0m             \u001b[0;32mif\u001b[0m \u001b[0;32mnot\u001b[0m \u001b[0msuitable_dsl\u001b[0m\u001b[0;34m:\u001b[0m\u001b[0;34m\u001b[0m\u001b[0;34m\u001b[0m\u001b[0m\n",
      "\u001b[0;32m<ipython-input-51-4c16b126e588>\u001b[0m in \u001b[0;36mfind_suitable_dsl\u001b[0;34m(self, arc, input)\u001b[0m\n\u001b[1;32m    417\u001b[0m         \u001b[0mself\u001b[0m\u001b[0;34m.\u001b[0m\u001b[0mvariants_checked\u001b[0m \u001b[0;34m=\u001b[0m \u001b[0;36m0\u001b[0m\u001b[0;34m\u001b[0m\u001b[0;34m\u001b[0m\u001b[0m\n\u001b[1;32m    418\u001b[0m         \u001b[0maction_logs\u001b[0m \u001b[0;34m=\u001b[0m \u001b[0;34m[\u001b[0m\u001b[0;34m]\u001b[0m\u001b[0;34m\u001b[0m\u001b[0;34m\u001b[0m\u001b[0m\n\u001b[0;32m--> 419\u001b[0;31m         \u001b[0mself\u001b[0m\u001b[0;34m.\u001b[0m\u001b[0mstep_action_calls\u001b[0m\u001b[0;34m(\u001b[0m\u001b[0mgrid\u001b[0m\u001b[0;34m,\u001b[0m \u001b[0miter\u001b[0m\u001b[0;34m(\u001b[0m\u001b[0mGENERATOR_VARIANTS\u001b[0m\u001b[0;34m)\u001b[0m\u001b[0;34m,\u001b[0m \u001b[0maction_logs\u001b[0m\u001b[0;34m)\u001b[0m\u001b[0;34m\u001b[0m\u001b[0;34m\u001b[0m\u001b[0m\n\u001b[0m\u001b[1;32m    420\u001b[0m         \u001b[0;32mreturn\u001b[0m \u001b[0mself\u001b[0m\u001b[0;34m.\u001b[0m\u001b[0mresults\u001b[0m\u001b[0;34m\u001b[0m\u001b[0;34m\u001b[0m\u001b[0m\n\u001b[1;32m    421\u001b[0m \u001b[0;34m\u001b[0m\u001b[0m\n",
      "\u001b[0;32m<ipython-input-51-4c16b126e588>\u001b[0m in \u001b[0;36mstep_action_calls\u001b[0;34m(self, grid, gen_variants, actions_log)\u001b[0m\n\u001b[1;32m    442\u001b[0m                 \u001b[0mgen_variants\u001b[0m\u001b[0;34m,\u001b[0m \u001b[0mgen_variants_tmp\u001b[0m \u001b[0;34m=\u001b[0m \u001b[0mtee\u001b[0m\u001b[0;34m(\u001b[0m\u001b[0mgen_variants\u001b[0m\u001b[0;34m)\u001b[0m\u001b[0;34m\u001b[0m\u001b[0;34m\u001b[0m\u001b[0m\n\u001b[1;32m    443\u001b[0m                 \u001b[0mactions_log_tmp\u001b[0m \u001b[0;34m=\u001b[0m \u001b[0mactions_log\u001b[0m\u001b[0;34m.\u001b[0m\u001b[0mcopy\u001b[0m\u001b[0;34m(\u001b[0m\u001b[0;34m)\u001b[0m\u001b[0;34m\u001b[0m\u001b[0;34m\u001b[0m\u001b[0m\n\u001b[0;32m--> 444\u001b[0;31m                 \u001b[0mself\u001b[0m\u001b[0;34m.\u001b[0m\u001b[0mstep_action\u001b[0m\u001b[0;34m(\u001b[0m\u001b[0mgrid_tmp\u001b[0m\u001b[0;34m,\u001b[0m \u001b[0mgen_variants_tmp\u001b[0m\u001b[0;34m,\u001b[0m \u001b[0mactions_log_tmp\u001b[0m\u001b[0;34m,\u001b[0m \u001b[0maction_type\u001b[0m\u001b[0;34m)\u001b[0m\u001b[0;34m\u001b[0m\u001b[0;34m\u001b[0m\u001b[0m\n\u001b[0m\u001b[1;32m    445\u001b[0m \u001b[0;34m\u001b[0m\u001b[0m\n\u001b[1;32m    446\u001b[0m     \u001b[0;32mdef\u001b[0m \u001b[0mstep_action\u001b[0m\u001b[0;34m(\u001b[0m\u001b[0mself\u001b[0m\u001b[0;34m,\u001b[0m \u001b[0mgrid\u001b[0m\u001b[0;34m,\u001b[0m \u001b[0mgen_variants\u001b[0m\u001b[0;34m,\u001b[0m \u001b[0mactions_log\u001b[0m\u001b[0;34m,\u001b[0m \u001b[0maction_type\u001b[0m\u001b[0;34m)\u001b[0m\u001b[0;34m:\u001b[0m\u001b[0;34m\u001b[0m\u001b[0;34m\u001b[0m\u001b[0m\n",
      "\u001b[0;32m<ipython-input-51-4c16b126e588>\u001b[0m in \u001b[0;36mstep_action\u001b[0;34m(self, grid, gen_variants, actions_log, action_type)\u001b[0m\n\u001b[1;32m    449\u001b[0m             \u001b[0mgen_variants\u001b[0m\u001b[0;34m,\u001b[0m \u001b[0mgen_variants_tmp\u001b[0m \u001b[0;34m=\u001b[0m \u001b[0mtee\u001b[0m\u001b[0;34m(\u001b[0m\u001b[0mgen_variants\u001b[0m\u001b[0;34m)\u001b[0m\u001b[0;34m\u001b[0m\u001b[0;34m\u001b[0m\u001b[0m\n\u001b[1;32m    450\u001b[0m             \u001b[0mactions_log_tmp\u001b[0m \u001b[0;34m=\u001b[0m \u001b[0mactions_log\u001b[0m\u001b[0;34m.\u001b[0m\u001b[0mcopy\u001b[0m\u001b[0;34m(\u001b[0m\u001b[0;34m)\u001b[0m\u001b[0;34m\u001b[0m\u001b[0;34m\u001b[0m\u001b[0m\n\u001b[0;32m--> 451\u001b[0;31m             \u001b[0mself\u001b[0m\u001b[0;34m.\u001b[0m\u001b[0mstep_action_args\u001b[0m\u001b[0;34m(\u001b[0m\u001b[0mtmp_grid\u001b[0m\u001b[0;34m,\u001b[0m \u001b[0mgen_variants_tmp\u001b[0m\u001b[0;34m,\u001b[0m \u001b[0mactions_log_tmp\u001b[0m\u001b[0;34m,\u001b[0m \u001b[0maction_type\u001b[0m\u001b[0;34m,\u001b[0m \u001b[0margs\u001b[0m\u001b[0;34m)\u001b[0m\u001b[0;34m\u001b[0m\u001b[0;34m\u001b[0m\u001b[0m\n\u001b[0m\u001b[1;32m    452\u001b[0m \u001b[0;34m\u001b[0m\u001b[0m\n\u001b[1;32m    453\u001b[0m \u001b[0;34m\u001b[0m\u001b[0m\n",
      "\u001b[0;32m<ipython-input-51-4c16b126e588>\u001b[0m in \u001b[0;36mstep_action_args\u001b[0;34m(self, grid, gen_variants, actions_log, action_type, args)\u001b[0m\n\u001b[1;32m    458\u001b[0m \u001b[0;34m\u001b[0m\u001b[0m\n\u001b[1;32m    459\u001b[0m         \u001b[0;31m# And go further on action list\u001b[0m\u001b[0;34m\u001b[0m\u001b[0;34m\u001b[0m\u001b[0;34m\u001b[0m\u001b[0m\n\u001b[0;32m--> 460\u001b[0;31m         \u001b[0mself\u001b[0m\u001b[0;34m.\u001b[0m\u001b[0mstep_action_calls\u001b[0m\u001b[0;34m(\u001b[0m\u001b[0mgrid\u001b[0m\u001b[0;34m,\u001b[0m \u001b[0mgen_variants\u001b[0m\u001b[0;34m,\u001b[0m \u001b[0mactions_log\u001b[0m\u001b[0;34m)\u001b[0m\u001b[0;34m\u001b[0m\u001b[0;34m\u001b[0m\u001b[0m\n\u001b[0m\u001b[1;32m    461\u001b[0m \u001b[0;34m\u001b[0m\u001b[0m\n\u001b[1;32m    462\u001b[0m \u001b[0;34m\u001b[0m\u001b[0m\n",
      "\u001b[0;32m<ipython-input-51-4c16b126e588>\u001b[0m in \u001b[0;36mstep_action_calls\u001b[0;34m(self, grid, gen_variants, actions_log)\u001b[0m\n\u001b[1;32m    442\u001b[0m                 \u001b[0mgen_variants\u001b[0m\u001b[0;34m,\u001b[0m \u001b[0mgen_variants_tmp\u001b[0m \u001b[0;34m=\u001b[0m \u001b[0mtee\u001b[0m\u001b[0;34m(\u001b[0m\u001b[0mgen_variants\u001b[0m\u001b[0;34m)\u001b[0m\u001b[0;34m\u001b[0m\u001b[0;34m\u001b[0m\u001b[0m\n\u001b[1;32m    443\u001b[0m                 \u001b[0mactions_log_tmp\u001b[0m \u001b[0;34m=\u001b[0m \u001b[0mactions_log\u001b[0m\u001b[0;34m.\u001b[0m\u001b[0mcopy\u001b[0m\u001b[0;34m(\u001b[0m\u001b[0;34m)\u001b[0m\u001b[0;34m\u001b[0m\u001b[0;34m\u001b[0m\u001b[0m\n\u001b[0;32m--> 444\u001b[0;31m                 \u001b[0mself\u001b[0m\u001b[0;34m.\u001b[0m\u001b[0mstep_action\u001b[0m\u001b[0;34m(\u001b[0m\u001b[0mgrid_tmp\u001b[0m\u001b[0;34m,\u001b[0m \u001b[0mgen_variants_tmp\u001b[0m\u001b[0;34m,\u001b[0m \u001b[0mactions_log_tmp\u001b[0m\u001b[0;34m,\u001b[0m \u001b[0maction_type\u001b[0m\u001b[0;34m)\u001b[0m\u001b[0;34m\u001b[0m\u001b[0;34m\u001b[0m\u001b[0m\n\u001b[0m\u001b[1;32m    445\u001b[0m \u001b[0;34m\u001b[0m\u001b[0m\n\u001b[1;32m    446\u001b[0m     \u001b[0;32mdef\u001b[0m \u001b[0mstep_action\u001b[0m\u001b[0;34m(\u001b[0m\u001b[0mself\u001b[0m\u001b[0;34m,\u001b[0m \u001b[0mgrid\u001b[0m\u001b[0;34m,\u001b[0m \u001b[0mgen_variants\u001b[0m\u001b[0;34m,\u001b[0m \u001b[0mactions_log\u001b[0m\u001b[0;34m,\u001b[0m \u001b[0maction_type\u001b[0m\u001b[0;34m)\u001b[0m\u001b[0;34m:\u001b[0m\u001b[0;34m\u001b[0m\u001b[0;34m\u001b[0m\u001b[0m\n",
      "\u001b[0;32m<ipython-input-51-4c16b126e588>\u001b[0m in \u001b[0;36mstep_action\u001b[0;34m(self, grid, gen_variants, actions_log, action_type)\u001b[0m\n\u001b[1;32m    449\u001b[0m             \u001b[0mgen_variants\u001b[0m\u001b[0;34m,\u001b[0m \u001b[0mgen_variants_tmp\u001b[0m \u001b[0;34m=\u001b[0m \u001b[0mtee\u001b[0m\u001b[0;34m(\u001b[0m\u001b[0mgen_variants\u001b[0m\u001b[0;34m)\u001b[0m\u001b[0;34m\u001b[0m\u001b[0;34m\u001b[0m\u001b[0m\n\u001b[1;32m    450\u001b[0m             \u001b[0mactions_log_tmp\u001b[0m \u001b[0;34m=\u001b[0m \u001b[0mactions_log\u001b[0m\u001b[0;34m.\u001b[0m\u001b[0mcopy\u001b[0m\u001b[0;34m(\u001b[0m\u001b[0;34m)\u001b[0m\u001b[0;34m\u001b[0m\u001b[0;34m\u001b[0m\u001b[0m\n\u001b[0;32m--> 451\u001b[0;31m             \u001b[0mself\u001b[0m\u001b[0;34m.\u001b[0m\u001b[0mstep_action_args\u001b[0m\u001b[0;34m(\u001b[0m\u001b[0mtmp_grid\u001b[0m\u001b[0;34m,\u001b[0m \u001b[0mgen_variants_tmp\u001b[0m\u001b[0;34m,\u001b[0m \u001b[0mactions_log_tmp\u001b[0m\u001b[0;34m,\u001b[0m \u001b[0maction_type\u001b[0m\u001b[0;34m,\u001b[0m \u001b[0margs\u001b[0m\u001b[0;34m)\u001b[0m\u001b[0;34m\u001b[0m\u001b[0;34m\u001b[0m\u001b[0m\n\u001b[0m\u001b[1;32m    452\u001b[0m \u001b[0;34m\u001b[0m\u001b[0m\n\u001b[1;32m    453\u001b[0m \u001b[0;34m\u001b[0m\u001b[0m\n",
      "\u001b[0;32m<ipython-input-51-4c16b126e588>\u001b[0m in \u001b[0;36mstep_action_args\u001b[0;34m(self, grid, gen_variants, actions_log, action_type, args)\u001b[0m\n\u001b[1;32m    458\u001b[0m \u001b[0;34m\u001b[0m\u001b[0m\n\u001b[1;32m    459\u001b[0m         \u001b[0;31m# And go further on action list\u001b[0m\u001b[0;34m\u001b[0m\u001b[0;34m\u001b[0m\u001b[0;34m\u001b[0m\u001b[0m\n\u001b[0;32m--> 460\u001b[0;31m         \u001b[0mself\u001b[0m\u001b[0;34m.\u001b[0m\u001b[0mstep_action_calls\u001b[0m\u001b[0;34m(\u001b[0m\u001b[0mgrid\u001b[0m\u001b[0;34m,\u001b[0m \u001b[0mgen_variants\u001b[0m\u001b[0;34m,\u001b[0m \u001b[0mactions_log\u001b[0m\u001b[0;34m)\u001b[0m\u001b[0;34m\u001b[0m\u001b[0;34m\u001b[0m\u001b[0m\n\u001b[0m\u001b[1;32m    461\u001b[0m \u001b[0;34m\u001b[0m\u001b[0m\n\u001b[1;32m    462\u001b[0m \u001b[0;34m\u001b[0m\u001b[0m\n",
      "\u001b[0;32m<ipython-input-51-4c16b126e588>\u001b[0m in \u001b[0;36mstep_action_calls\u001b[0;34m(self, grid, gen_variants, actions_log)\u001b[0m\n\u001b[1;32m    442\u001b[0m                 \u001b[0mgen_variants\u001b[0m\u001b[0;34m,\u001b[0m \u001b[0mgen_variants_tmp\u001b[0m \u001b[0;34m=\u001b[0m \u001b[0mtee\u001b[0m\u001b[0;34m(\u001b[0m\u001b[0mgen_variants\u001b[0m\u001b[0;34m)\u001b[0m\u001b[0;34m\u001b[0m\u001b[0;34m\u001b[0m\u001b[0m\n\u001b[1;32m    443\u001b[0m                 \u001b[0mactions_log_tmp\u001b[0m \u001b[0;34m=\u001b[0m \u001b[0mactions_log\u001b[0m\u001b[0;34m.\u001b[0m\u001b[0mcopy\u001b[0m\u001b[0;34m(\u001b[0m\u001b[0;34m)\u001b[0m\u001b[0;34m\u001b[0m\u001b[0;34m\u001b[0m\u001b[0m\n\u001b[0;32m--> 444\u001b[0;31m                 \u001b[0mself\u001b[0m\u001b[0;34m.\u001b[0m\u001b[0mstep_action\u001b[0m\u001b[0;34m(\u001b[0m\u001b[0mgrid_tmp\u001b[0m\u001b[0;34m,\u001b[0m \u001b[0mgen_variants_tmp\u001b[0m\u001b[0;34m,\u001b[0m \u001b[0mactions_log_tmp\u001b[0m\u001b[0;34m,\u001b[0m \u001b[0maction_type\u001b[0m\u001b[0;34m)\u001b[0m\u001b[0;34m\u001b[0m\u001b[0;34m\u001b[0m\u001b[0m\n\u001b[0m\u001b[1;32m    445\u001b[0m \u001b[0;34m\u001b[0m\u001b[0m\n\u001b[1;32m    446\u001b[0m     \u001b[0;32mdef\u001b[0m \u001b[0mstep_action\u001b[0m\u001b[0;34m(\u001b[0m\u001b[0mself\u001b[0m\u001b[0;34m,\u001b[0m \u001b[0mgrid\u001b[0m\u001b[0;34m,\u001b[0m \u001b[0mgen_variants\u001b[0m\u001b[0;34m,\u001b[0m \u001b[0mactions_log\u001b[0m\u001b[0;34m,\u001b[0m \u001b[0maction_type\u001b[0m\u001b[0;34m)\u001b[0m\u001b[0;34m:\u001b[0m\u001b[0;34m\u001b[0m\u001b[0;34m\u001b[0m\u001b[0m\n",
      "\u001b[0;32m<ipython-input-51-4c16b126e588>\u001b[0m in \u001b[0;36mstep_action\u001b[0;34m(self, grid, gen_variants, actions_log, action_type)\u001b[0m\n\u001b[1;32m    449\u001b[0m             \u001b[0mgen_variants\u001b[0m\u001b[0;34m,\u001b[0m \u001b[0mgen_variants_tmp\u001b[0m \u001b[0;34m=\u001b[0m \u001b[0mtee\u001b[0m\u001b[0;34m(\u001b[0m\u001b[0mgen_variants\u001b[0m\u001b[0;34m)\u001b[0m\u001b[0;34m\u001b[0m\u001b[0;34m\u001b[0m\u001b[0m\n\u001b[1;32m    450\u001b[0m             \u001b[0mactions_log_tmp\u001b[0m \u001b[0;34m=\u001b[0m \u001b[0mactions_log\u001b[0m\u001b[0;34m.\u001b[0m\u001b[0mcopy\u001b[0m\u001b[0;34m(\u001b[0m\u001b[0;34m)\u001b[0m\u001b[0;34m\u001b[0m\u001b[0;34m\u001b[0m\u001b[0m\n\u001b[0;32m--> 451\u001b[0;31m             \u001b[0mself\u001b[0m\u001b[0;34m.\u001b[0m\u001b[0mstep_action_args\u001b[0m\u001b[0;34m(\u001b[0m\u001b[0mtmp_grid\u001b[0m\u001b[0;34m,\u001b[0m \u001b[0mgen_variants_tmp\u001b[0m\u001b[0;34m,\u001b[0m \u001b[0mactions_log_tmp\u001b[0m\u001b[0;34m,\u001b[0m \u001b[0maction_type\u001b[0m\u001b[0;34m,\u001b[0m \u001b[0margs\u001b[0m\u001b[0;34m)\u001b[0m\u001b[0;34m\u001b[0m\u001b[0;34m\u001b[0m\u001b[0m\n\u001b[0m\u001b[1;32m    452\u001b[0m \u001b[0;34m\u001b[0m\u001b[0m\n\u001b[1;32m    453\u001b[0m \u001b[0;34m\u001b[0m\u001b[0m\n",
      "\u001b[0;32m<ipython-input-51-4c16b126e588>\u001b[0m in \u001b[0;36mstep_action_args\u001b[0;34m(self, grid, gen_variants, actions_log, action_type, args)\u001b[0m\n\u001b[1;32m    458\u001b[0m \u001b[0;34m\u001b[0m\u001b[0m\n\u001b[1;32m    459\u001b[0m         \u001b[0;31m# And go further on action list\u001b[0m\u001b[0;34m\u001b[0m\u001b[0;34m\u001b[0m\u001b[0;34m\u001b[0m\u001b[0m\n\u001b[0;32m--> 460\u001b[0;31m         \u001b[0mself\u001b[0m\u001b[0;34m.\u001b[0m\u001b[0mstep_action_calls\u001b[0m\u001b[0;34m(\u001b[0m\u001b[0mgrid\u001b[0m\u001b[0;34m,\u001b[0m \u001b[0mgen_variants\u001b[0m\u001b[0;34m,\u001b[0m \u001b[0mactions_log\u001b[0m\u001b[0;34m)\u001b[0m\u001b[0;34m\u001b[0m\u001b[0;34m\u001b[0m\u001b[0m\n\u001b[0m\u001b[1;32m    461\u001b[0m \u001b[0;34m\u001b[0m\u001b[0m\n\u001b[1;32m    462\u001b[0m \u001b[0;34m\u001b[0m\u001b[0m\n",
      "\u001b[0;32m<ipython-input-51-4c16b126e588>\u001b[0m in \u001b[0;36mstep_action_calls\u001b[0;34m(self, grid, gen_variants, actions_log)\u001b[0m\n\u001b[1;32m    442\u001b[0m                 \u001b[0mgen_variants\u001b[0m\u001b[0;34m,\u001b[0m \u001b[0mgen_variants_tmp\u001b[0m \u001b[0;34m=\u001b[0m \u001b[0mtee\u001b[0m\u001b[0;34m(\u001b[0m\u001b[0mgen_variants\u001b[0m\u001b[0;34m)\u001b[0m\u001b[0;34m\u001b[0m\u001b[0;34m\u001b[0m\u001b[0m\n\u001b[1;32m    443\u001b[0m                 \u001b[0mactions_log_tmp\u001b[0m \u001b[0;34m=\u001b[0m \u001b[0mactions_log\u001b[0m\u001b[0;34m.\u001b[0m\u001b[0mcopy\u001b[0m\u001b[0;34m(\u001b[0m\u001b[0;34m)\u001b[0m\u001b[0;34m\u001b[0m\u001b[0;34m\u001b[0m\u001b[0m\n\u001b[0;32m--> 444\u001b[0;31m                 \u001b[0mself\u001b[0m\u001b[0;34m.\u001b[0m\u001b[0mstep_action\u001b[0m\u001b[0;34m(\u001b[0m\u001b[0mgrid_tmp\u001b[0m\u001b[0;34m,\u001b[0m \u001b[0mgen_variants_tmp\u001b[0m\u001b[0;34m,\u001b[0m \u001b[0mactions_log_tmp\u001b[0m\u001b[0;34m,\u001b[0m \u001b[0maction_type\u001b[0m\u001b[0;34m)\u001b[0m\u001b[0;34m\u001b[0m\u001b[0;34m\u001b[0m\u001b[0m\n\u001b[0m\u001b[1;32m    445\u001b[0m \u001b[0;34m\u001b[0m\u001b[0m\n\u001b[1;32m    446\u001b[0m     \u001b[0;32mdef\u001b[0m \u001b[0mstep_action\u001b[0m\u001b[0;34m(\u001b[0m\u001b[0mself\u001b[0m\u001b[0;34m,\u001b[0m \u001b[0mgrid\u001b[0m\u001b[0;34m,\u001b[0m \u001b[0mgen_variants\u001b[0m\u001b[0;34m,\u001b[0m \u001b[0mactions_log\u001b[0m\u001b[0;34m,\u001b[0m \u001b[0maction_type\u001b[0m\u001b[0;34m)\u001b[0m\u001b[0;34m:\u001b[0m\u001b[0;34m\u001b[0m\u001b[0;34m\u001b[0m\u001b[0m\n",
      "\u001b[0;32m<ipython-input-51-4c16b126e588>\u001b[0m in \u001b[0;36mstep_action\u001b[0;34m(self, grid, gen_variants, actions_log, action_type)\u001b[0m\n\u001b[1;32m    449\u001b[0m             \u001b[0mgen_variants\u001b[0m\u001b[0;34m,\u001b[0m \u001b[0mgen_variants_tmp\u001b[0m \u001b[0;34m=\u001b[0m \u001b[0mtee\u001b[0m\u001b[0;34m(\u001b[0m\u001b[0mgen_variants\u001b[0m\u001b[0;34m)\u001b[0m\u001b[0;34m\u001b[0m\u001b[0;34m\u001b[0m\u001b[0m\n\u001b[1;32m    450\u001b[0m             \u001b[0mactions_log_tmp\u001b[0m \u001b[0;34m=\u001b[0m \u001b[0mactions_log\u001b[0m\u001b[0;34m.\u001b[0m\u001b[0mcopy\u001b[0m\u001b[0;34m(\u001b[0m\u001b[0;34m)\u001b[0m\u001b[0;34m\u001b[0m\u001b[0;34m\u001b[0m\u001b[0m\n\u001b[0;32m--> 451\u001b[0;31m             \u001b[0mself\u001b[0m\u001b[0;34m.\u001b[0m\u001b[0mstep_action_args\u001b[0m\u001b[0;34m(\u001b[0m\u001b[0mtmp_grid\u001b[0m\u001b[0;34m,\u001b[0m \u001b[0mgen_variants_tmp\u001b[0m\u001b[0;34m,\u001b[0m \u001b[0mactions_log_tmp\u001b[0m\u001b[0;34m,\u001b[0m \u001b[0maction_type\u001b[0m\u001b[0;34m,\u001b[0m \u001b[0margs\u001b[0m\u001b[0;34m)\u001b[0m\u001b[0;34m\u001b[0m\u001b[0;34m\u001b[0m\u001b[0m\n\u001b[0m\u001b[1;32m    452\u001b[0m \u001b[0;34m\u001b[0m\u001b[0m\n\u001b[1;32m    453\u001b[0m \u001b[0;34m\u001b[0m\u001b[0m\n",
      "\u001b[0;32m<ipython-input-51-4c16b126e588>\u001b[0m in \u001b[0;36mstep_action_args\u001b[0;34m(self, grid, gen_variants, actions_log, action_type, args)\u001b[0m\n\u001b[1;32m    458\u001b[0m \u001b[0;34m\u001b[0m\u001b[0m\n\u001b[1;32m    459\u001b[0m         \u001b[0;31m# And go further on action list\u001b[0m\u001b[0;34m\u001b[0m\u001b[0;34m\u001b[0m\u001b[0;34m\u001b[0m\u001b[0m\n\u001b[0;32m--> 460\u001b[0;31m         \u001b[0mself\u001b[0m\u001b[0;34m.\u001b[0m\u001b[0mstep_action_calls\u001b[0m\u001b[0;34m(\u001b[0m\u001b[0mgrid\u001b[0m\u001b[0;34m,\u001b[0m \u001b[0mgen_variants\u001b[0m\u001b[0;34m,\u001b[0m \u001b[0mactions_log\u001b[0m\u001b[0;34m)\u001b[0m\u001b[0;34m\u001b[0m\u001b[0;34m\u001b[0m\u001b[0m\n\u001b[0m\u001b[1;32m    461\u001b[0m \u001b[0;34m\u001b[0m\u001b[0m\n\u001b[1;32m    462\u001b[0m \u001b[0;34m\u001b[0m\u001b[0m\n",
      "\u001b[0;32m<ipython-input-51-4c16b126e588>\u001b[0m in \u001b[0;36mstep_action_calls\u001b[0;34m(self, grid, gen_variants, actions_log)\u001b[0m\n\u001b[1;32m    442\u001b[0m                 \u001b[0mgen_variants\u001b[0m\u001b[0;34m,\u001b[0m \u001b[0mgen_variants_tmp\u001b[0m \u001b[0;34m=\u001b[0m \u001b[0mtee\u001b[0m\u001b[0;34m(\u001b[0m\u001b[0mgen_variants\u001b[0m\u001b[0;34m)\u001b[0m\u001b[0;34m\u001b[0m\u001b[0;34m\u001b[0m\u001b[0m\n\u001b[1;32m    443\u001b[0m                 \u001b[0mactions_log_tmp\u001b[0m \u001b[0;34m=\u001b[0m \u001b[0mactions_log\u001b[0m\u001b[0;34m.\u001b[0m\u001b[0mcopy\u001b[0m\u001b[0;34m(\u001b[0m\u001b[0;34m)\u001b[0m\u001b[0;34m\u001b[0m\u001b[0;34m\u001b[0m\u001b[0m\n\u001b[0;32m--> 444\u001b[0;31m                 \u001b[0mself\u001b[0m\u001b[0;34m.\u001b[0m\u001b[0mstep_action\u001b[0m\u001b[0;34m(\u001b[0m\u001b[0mgrid_tmp\u001b[0m\u001b[0;34m,\u001b[0m \u001b[0mgen_variants_tmp\u001b[0m\u001b[0;34m,\u001b[0m \u001b[0mactions_log_tmp\u001b[0m\u001b[0;34m,\u001b[0m \u001b[0maction_type\u001b[0m\u001b[0;34m)\u001b[0m\u001b[0;34m\u001b[0m\u001b[0;34m\u001b[0m\u001b[0m\n\u001b[0m\u001b[1;32m    445\u001b[0m \u001b[0;34m\u001b[0m\u001b[0m\n\u001b[1;32m    446\u001b[0m     \u001b[0;32mdef\u001b[0m \u001b[0mstep_action\u001b[0m\u001b[0;34m(\u001b[0m\u001b[0mself\u001b[0m\u001b[0;34m,\u001b[0m \u001b[0mgrid\u001b[0m\u001b[0;34m,\u001b[0m \u001b[0mgen_variants\u001b[0m\u001b[0;34m,\u001b[0m \u001b[0mactions_log\u001b[0m\u001b[0;34m,\u001b[0m \u001b[0maction_type\u001b[0m\u001b[0;34m)\u001b[0m\u001b[0;34m:\u001b[0m\u001b[0;34m\u001b[0m\u001b[0;34m\u001b[0m\u001b[0m\n",
      "\u001b[0;32m<ipython-input-51-4c16b126e588>\u001b[0m in \u001b[0;36mstep_action\u001b[0;34m(self, grid, gen_variants, actions_log, action_type)\u001b[0m\n\u001b[1;32m    449\u001b[0m             \u001b[0mgen_variants\u001b[0m\u001b[0;34m,\u001b[0m \u001b[0mgen_variants_tmp\u001b[0m \u001b[0;34m=\u001b[0m \u001b[0mtee\u001b[0m\u001b[0;34m(\u001b[0m\u001b[0mgen_variants\u001b[0m\u001b[0;34m)\u001b[0m\u001b[0;34m\u001b[0m\u001b[0;34m\u001b[0m\u001b[0m\n\u001b[1;32m    450\u001b[0m             \u001b[0mactions_log_tmp\u001b[0m \u001b[0;34m=\u001b[0m \u001b[0mactions_log\u001b[0m\u001b[0;34m.\u001b[0m\u001b[0mcopy\u001b[0m\u001b[0;34m(\u001b[0m\u001b[0;34m)\u001b[0m\u001b[0;34m\u001b[0m\u001b[0;34m\u001b[0m\u001b[0m\n\u001b[0;32m--> 451\u001b[0;31m             \u001b[0mself\u001b[0m\u001b[0;34m.\u001b[0m\u001b[0mstep_action_args\u001b[0m\u001b[0;34m(\u001b[0m\u001b[0mtmp_grid\u001b[0m\u001b[0;34m,\u001b[0m \u001b[0mgen_variants_tmp\u001b[0m\u001b[0;34m,\u001b[0m \u001b[0mactions_log_tmp\u001b[0m\u001b[0;34m,\u001b[0m \u001b[0maction_type\u001b[0m\u001b[0;34m,\u001b[0m \u001b[0margs\u001b[0m\u001b[0;34m)\u001b[0m\u001b[0;34m\u001b[0m\u001b[0;34m\u001b[0m\u001b[0m\n\u001b[0m\u001b[1;32m    452\u001b[0m \u001b[0;34m\u001b[0m\u001b[0m\n\u001b[1;32m    453\u001b[0m \u001b[0;34m\u001b[0m\u001b[0m\n",
      "\u001b[0;32m<ipython-input-51-4c16b126e588>\u001b[0m in \u001b[0;36mstep_action_args\u001b[0;34m(self, grid, gen_variants, actions_log, action_type, args)\u001b[0m\n\u001b[1;32m    458\u001b[0m \u001b[0;34m\u001b[0m\u001b[0m\n\u001b[1;32m    459\u001b[0m         \u001b[0;31m# And go further on action list\u001b[0m\u001b[0;34m\u001b[0m\u001b[0;34m\u001b[0m\u001b[0;34m\u001b[0m\u001b[0m\n\u001b[0;32m--> 460\u001b[0;31m         \u001b[0mself\u001b[0m\u001b[0;34m.\u001b[0m\u001b[0mstep_action_calls\u001b[0m\u001b[0;34m(\u001b[0m\u001b[0mgrid\u001b[0m\u001b[0;34m,\u001b[0m \u001b[0mgen_variants\u001b[0m\u001b[0;34m,\u001b[0m \u001b[0mactions_log\u001b[0m\u001b[0;34m)\u001b[0m\u001b[0;34m\u001b[0m\u001b[0;34m\u001b[0m\u001b[0m\n\u001b[0m\u001b[1;32m    461\u001b[0m \u001b[0;34m\u001b[0m\u001b[0m\n\u001b[1;32m    462\u001b[0m \u001b[0;34m\u001b[0m\u001b[0m\n",
      "\u001b[0;32m<ipython-input-51-4c16b126e588>\u001b[0m in \u001b[0;36mstep_action_calls\u001b[0;34m(self, grid, gen_variants, actions_log)\u001b[0m\n\u001b[1;32m    442\u001b[0m                 \u001b[0mgen_variants\u001b[0m\u001b[0;34m,\u001b[0m \u001b[0mgen_variants_tmp\u001b[0m \u001b[0;34m=\u001b[0m \u001b[0mtee\u001b[0m\u001b[0;34m(\u001b[0m\u001b[0mgen_variants\u001b[0m\u001b[0;34m)\u001b[0m\u001b[0;34m\u001b[0m\u001b[0;34m\u001b[0m\u001b[0m\n\u001b[1;32m    443\u001b[0m                 \u001b[0mactions_log_tmp\u001b[0m \u001b[0;34m=\u001b[0m \u001b[0mactions_log\u001b[0m\u001b[0;34m.\u001b[0m\u001b[0mcopy\u001b[0m\u001b[0;34m(\u001b[0m\u001b[0;34m)\u001b[0m\u001b[0;34m\u001b[0m\u001b[0;34m\u001b[0m\u001b[0m\n\u001b[0;32m--> 444\u001b[0;31m                 \u001b[0mself\u001b[0m\u001b[0;34m.\u001b[0m\u001b[0mstep_action\u001b[0m\u001b[0;34m(\u001b[0m\u001b[0mgrid_tmp\u001b[0m\u001b[0;34m,\u001b[0m \u001b[0mgen_variants_tmp\u001b[0m\u001b[0;34m,\u001b[0m \u001b[0mactions_log_tmp\u001b[0m\u001b[0;34m,\u001b[0m \u001b[0maction_type\u001b[0m\u001b[0;34m)\u001b[0m\u001b[0;34m\u001b[0m\u001b[0;34m\u001b[0m\u001b[0m\n\u001b[0m\u001b[1;32m    445\u001b[0m \u001b[0;34m\u001b[0m\u001b[0m\n\u001b[1;32m    446\u001b[0m     \u001b[0;32mdef\u001b[0m \u001b[0mstep_action\u001b[0m\u001b[0;34m(\u001b[0m\u001b[0mself\u001b[0m\u001b[0;34m,\u001b[0m \u001b[0mgrid\u001b[0m\u001b[0;34m,\u001b[0m \u001b[0mgen_variants\u001b[0m\u001b[0;34m,\u001b[0m \u001b[0mactions_log\u001b[0m\u001b[0;34m,\u001b[0m \u001b[0maction_type\u001b[0m\u001b[0;34m)\u001b[0m\u001b[0;34m:\u001b[0m\u001b[0;34m\u001b[0m\u001b[0;34m\u001b[0m\u001b[0m\n",
      "\u001b[0;32m<ipython-input-51-4c16b126e588>\u001b[0m in \u001b[0;36mstep_action\u001b[0;34m(self, grid, gen_variants, actions_log, action_type)\u001b[0m\n\u001b[1;32m    449\u001b[0m             \u001b[0mgen_variants\u001b[0m\u001b[0;34m,\u001b[0m \u001b[0mgen_variants_tmp\u001b[0m \u001b[0;34m=\u001b[0m \u001b[0mtee\u001b[0m\u001b[0;34m(\u001b[0m\u001b[0mgen_variants\u001b[0m\u001b[0;34m)\u001b[0m\u001b[0;34m\u001b[0m\u001b[0;34m\u001b[0m\u001b[0m\n\u001b[1;32m    450\u001b[0m             \u001b[0mactions_log_tmp\u001b[0m \u001b[0;34m=\u001b[0m \u001b[0mactions_log\u001b[0m\u001b[0;34m.\u001b[0m\u001b[0mcopy\u001b[0m\u001b[0;34m(\u001b[0m\u001b[0;34m)\u001b[0m\u001b[0;34m\u001b[0m\u001b[0;34m\u001b[0m\u001b[0m\n\u001b[0;32m--> 451\u001b[0;31m             \u001b[0mself\u001b[0m\u001b[0;34m.\u001b[0m\u001b[0mstep_action_args\u001b[0m\u001b[0;34m(\u001b[0m\u001b[0mtmp_grid\u001b[0m\u001b[0;34m,\u001b[0m \u001b[0mgen_variants_tmp\u001b[0m\u001b[0;34m,\u001b[0m \u001b[0mactions_log_tmp\u001b[0m\u001b[0;34m,\u001b[0m \u001b[0maction_type\u001b[0m\u001b[0;34m,\u001b[0m \u001b[0margs\u001b[0m\u001b[0;34m)\u001b[0m\u001b[0;34m\u001b[0m\u001b[0;34m\u001b[0m\u001b[0m\n\u001b[0m\u001b[1;32m    452\u001b[0m \u001b[0;34m\u001b[0m\u001b[0m\n\u001b[1;32m    453\u001b[0m \u001b[0;34m\u001b[0m\u001b[0m\n",
      "\u001b[0;32m<ipython-input-51-4c16b126e588>\u001b[0m in \u001b[0;36mstep_action_args\u001b[0;34m(self, grid, gen_variants, actions_log, action_type, args)\u001b[0m\n\u001b[1;32m    458\u001b[0m \u001b[0;34m\u001b[0m\u001b[0m\n\u001b[1;32m    459\u001b[0m         \u001b[0;31m# And go further on action list\u001b[0m\u001b[0;34m\u001b[0m\u001b[0;34m\u001b[0m\u001b[0;34m\u001b[0m\u001b[0m\n\u001b[0;32m--> 460\u001b[0;31m         \u001b[0mself\u001b[0m\u001b[0;34m.\u001b[0m\u001b[0mstep_action_calls\u001b[0m\u001b[0;34m(\u001b[0m\u001b[0mgrid\u001b[0m\u001b[0;34m,\u001b[0m \u001b[0mgen_variants\u001b[0m\u001b[0;34m,\u001b[0m \u001b[0mactions_log\u001b[0m\u001b[0;34m)\u001b[0m\u001b[0;34m\u001b[0m\u001b[0;34m\u001b[0m\u001b[0m\n\u001b[0m\u001b[1;32m    461\u001b[0m \u001b[0;34m\u001b[0m\u001b[0m\n\u001b[1;32m    462\u001b[0m \u001b[0;34m\u001b[0m\u001b[0m\n",
      "\u001b[0;32m<ipython-input-51-4c16b126e588>\u001b[0m in \u001b[0;36mstep_action_calls\u001b[0;34m(self, grid, gen_variants, actions_log)\u001b[0m\n\u001b[1;32m    442\u001b[0m                 \u001b[0mgen_variants\u001b[0m\u001b[0;34m,\u001b[0m \u001b[0mgen_variants_tmp\u001b[0m \u001b[0;34m=\u001b[0m \u001b[0mtee\u001b[0m\u001b[0;34m(\u001b[0m\u001b[0mgen_variants\u001b[0m\u001b[0;34m)\u001b[0m\u001b[0;34m\u001b[0m\u001b[0;34m\u001b[0m\u001b[0m\n\u001b[1;32m    443\u001b[0m                 \u001b[0mactions_log_tmp\u001b[0m \u001b[0;34m=\u001b[0m \u001b[0mactions_log\u001b[0m\u001b[0;34m.\u001b[0m\u001b[0mcopy\u001b[0m\u001b[0;34m(\u001b[0m\u001b[0;34m)\u001b[0m\u001b[0;34m\u001b[0m\u001b[0;34m\u001b[0m\u001b[0m\n\u001b[0;32m--> 444\u001b[0;31m                 \u001b[0mself\u001b[0m\u001b[0;34m.\u001b[0m\u001b[0mstep_action\u001b[0m\u001b[0;34m(\u001b[0m\u001b[0mgrid_tmp\u001b[0m\u001b[0;34m,\u001b[0m \u001b[0mgen_variants_tmp\u001b[0m\u001b[0;34m,\u001b[0m \u001b[0mactions_log_tmp\u001b[0m\u001b[0;34m,\u001b[0m \u001b[0maction_type\u001b[0m\u001b[0;34m)\u001b[0m\u001b[0;34m\u001b[0m\u001b[0;34m\u001b[0m\u001b[0m\n\u001b[0m\u001b[1;32m    445\u001b[0m \u001b[0;34m\u001b[0m\u001b[0m\n\u001b[1;32m    446\u001b[0m     \u001b[0;32mdef\u001b[0m \u001b[0mstep_action\u001b[0m\u001b[0;34m(\u001b[0m\u001b[0mself\u001b[0m\u001b[0;34m,\u001b[0m \u001b[0mgrid\u001b[0m\u001b[0;34m,\u001b[0m \u001b[0mgen_variants\u001b[0m\u001b[0;34m,\u001b[0m \u001b[0mactions_log\u001b[0m\u001b[0;34m,\u001b[0m \u001b[0maction_type\u001b[0m\u001b[0;34m)\u001b[0m\u001b[0;34m:\u001b[0m\u001b[0;34m\u001b[0m\u001b[0;34m\u001b[0m\u001b[0m\n",
      "\u001b[0;32m<ipython-input-51-4c16b126e588>\u001b[0m in \u001b[0;36mstep_action\u001b[0;34m(self, grid, gen_variants, actions_log, action_type)\u001b[0m\n\u001b[1;32m    449\u001b[0m             \u001b[0mgen_variants\u001b[0m\u001b[0;34m,\u001b[0m \u001b[0mgen_variants_tmp\u001b[0m \u001b[0;34m=\u001b[0m \u001b[0mtee\u001b[0m\u001b[0;34m(\u001b[0m\u001b[0mgen_variants\u001b[0m\u001b[0;34m)\u001b[0m\u001b[0;34m\u001b[0m\u001b[0;34m\u001b[0m\u001b[0m\n\u001b[1;32m    450\u001b[0m             \u001b[0mactions_log_tmp\u001b[0m \u001b[0;34m=\u001b[0m \u001b[0mactions_log\u001b[0m\u001b[0;34m.\u001b[0m\u001b[0mcopy\u001b[0m\u001b[0;34m(\u001b[0m\u001b[0;34m)\u001b[0m\u001b[0;34m\u001b[0m\u001b[0;34m\u001b[0m\u001b[0m\n\u001b[0;32m--> 451\u001b[0;31m             \u001b[0mself\u001b[0m\u001b[0;34m.\u001b[0m\u001b[0mstep_action_args\u001b[0m\u001b[0;34m(\u001b[0m\u001b[0mtmp_grid\u001b[0m\u001b[0;34m,\u001b[0m \u001b[0mgen_variants_tmp\u001b[0m\u001b[0;34m,\u001b[0m \u001b[0mactions_log_tmp\u001b[0m\u001b[0;34m,\u001b[0m \u001b[0maction_type\u001b[0m\u001b[0;34m,\u001b[0m \u001b[0margs\u001b[0m\u001b[0;34m)\u001b[0m\u001b[0;34m\u001b[0m\u001b[0;34m\u001b[0m\u001b[0m\n\u001b[0m\u001b[1;32m    452\u001b[0m \u001b[0;34m\u001b[0m\u001b[0m\n\u001b[1;32m    453\u001b[0m \u001b[0;34m\u001b[0m\u001b[0m\n",
      "\u001b[0;32m<ipython-input-51-4c16b126e588>\u001b[0m in \u001b[0;36mstep_action_args\u001b[0;34m(self, grid, gen_variants, actions_log, action_type, args)\u001b[0m\n\u001b[1;32m    458\u001b[0m \u001b[0;34m\u001b[0m\u001b[0m\n\u001b[1;32m    459\u001b[0m         \u001b[0;31m# And go further on action list\u001b[0m\u001b[0;34m\u001b[0m\u001b[0;34m\u001b[0m\u001b[0;34m\u001b[0m\u001b[0m\n\u001b[0;32m--> 460\u001b[0;31m         \u001b[0mself\u001b[0m\u001b[0;34m.\u001b[0m\u001b[0mstep_action_calls\u001b[0m\u001b[0;34m(\u001b[0m\u001b[0mgrid\u001b[0m\u001b[0;34m,\u001b[0m \u001b[0mgen_variants\u001b[0m\u001b[0;34m,\u001b[0m \u001b[0mactions_log\u001b[0m\u001b[0;34m)\u001b[0m\u001b[0;34m\u001b[0m\u001b[0;34m\u001b[0m\u001b[0m\n\u001b[0m\u001b[1;32m    461\u001b[0m \u001b[0;34m\u001b[0m\u001b[0m\n\u001b[1;32m    462\u001b[0m \u001b[0;34m\u001b[0m\u001b[0m\n",
      "\u001b[0;32m<ipython-input-51-4c16b126e588>\u001b[0m in \u001b[0;36mstep_action_calls\u001b[0;34m(self, grid, gen_variants, actions_log)\u001b[0m\n\u001b[1;32m    425\u001b[0m         \u001b[0;32mif\u001b[0m \u001b[0;32mnot\u001b[0m \u001b[0mvariant\u001b[0m\u001b[0;34m:\u001b[0m\u001b[0;34m\u001b[0m\u001b[0;34m\u001b[0m\u001b[0m\n\u001b[1;32m    426\u001b[0m             \u001b[0;31m# Bottom of the graph\u001b[0m\u001b[0;34m\u001b[0m\u001b[0;34m\u001b[0m\u001b[0;34m\u001b[0m\u001b[0m\n\u001b[0;32m--> 427\u001b[0;31m             \u001b[0mres_img\u001b[0m \u001b[0;34m=\u001b[0m \u001b[0mgrid\u001b[0m\u001b[0;34m.\u001b[0m\u001b[0mplot\u001b[0m\u001b[0;34m(\u001b[0m\u001b[0;34m)\u001b[0m\u001b[0;34m\u001b[0m\u001b[0;34m\u001b[0m\u001b[0m\n\u001b[0m\u001b[1;32m    428\u001b[0m             \u001b[0mres_correct\u001b[0m \u001b[0;34m=\u001b[0m \u001b[0mnp\u001b[0m\u001b[0;34m.\u001b[0m\u001b[0mall\u001b[0m\u001b[0;34m(\u001b[0m\u001b[0mres_img\u001b[0m \u001b[0;34m==\u001b[0m \u001b[0mself\u001b[0m\u001b[0;34m.\u001b[0m\u001b[0moutput\u001b[0m\u001b[0;34m)\u001b[0m\u001b[0;34m\u001b[0m\u001b[0;34m\u001b[0m\u001b[0m\n\u001b[1;32m    429\u001b[0m             \u001b[0;32mif\u001b[0m \u001b[0mres_correct\u001b[0m\u001b[0;34m:\u001b[0m\u001b[0;34m\u001b[0m\u001b[0;34m\u001b[0m\u001b[0m\n",
      "\u001b[0;32m<ipython-input-51-4c16b126e588>\u001b[0m in \u001b[0;36mplot\u001b[0;34m(self)\u001b[0m\n\u001b[1;32m    270\u001b[0m         \u001b[0max\u001b[0m\u001b[0;34m.\u001b[0m\u001b[0mset_title\u001b[0m\u001b[0;34m(\u001b[0m\u001b[0mself\u001b[0m\u001b[0;34m.\u001b[0m\u001b[0mname\u001b[0m\u001b[0;34m)\u001b[0m\u001b[0;34m\u001b[0m\u001b[0;34m\u001b[0m\u001b[0m\n\u001b[1;32m    271\u001b[0m         \u001b[0mplt\u001b[0m\u001b[0;34m.\u001b[0m\u001b[0mtight_layout\u001b[0m\u001b[0;34m(\u001b[0m\u001b[0;34m)\u001b[0m\u001b[0;34m\u001b[0m\u001b[0;34m\u001b[0m\u001b[0m\n\u001b[0;32m--> 272\u001b[0;31m         \u001b[0mplt\u001b[0m\u001b[0;34m.\u001b[0m\u001b[0mshow\u001b[0m\u001b[0;34m(\u001b[0m\u001b[0;34m)\u001b[0m\u001b[0;34m\u001b[0m\u001b[0;34m\u001b[0m\u001b[0m\n\u001b[0m\u001b[1;32m    273\u001b[0m         \u001b[0;32mreturn\u001b[0m \u001b[0mimg\u001b[0m\u001b[0;34m\u001b[0m\u001b[0;34m\u001b[0m\u001b[0m\n\u001b[1;32m    274\u001b[0m \u001b[0;34m\u001b[0m\u001b[0m\n",
      "\u001b[0;32m~/.conda/envs/kaggle-arc/lib/python3.6/site-packages/matplotlib/pyplot.py\u001b[0m in \u001b[0;36mshow\u001b[0;34m(*args, **kw)\u001b[0m\n\u001b[1;32m    267\u001b[0m     \"\"\"\n\u001b[1;32m    268\u001b[0m     \u001b[0;32mglobal\u001b[0m \u001b[0m_show\u001b[0m\u001b[0;34m\u001b[0m\u001b[0;34m\u001b[0m\u001b[0m\n\u001b[0;32m--> 269\u001b[0;31m     \u001b[0;32mreturn\u001b[0m \u001b[0m_show\u001b[0m\u001b[0;34m(\u001b[0m\u001b[0;34m*\u001b[0m\u001b[0margs\u001b[0m\u001b[0;34m,\u001b[0m \u001b[0;34m**\u001b[0m\u001b[0mkw\u001b[0m\u001b[0;34m)\u001b[0m\u001b[0;34m\u001b[0m\u001b[0;34m\u001b[0m\u001b[0m\n\u001b[0m\u001b[1;32m    270\u001b[0m \u001b[0;34m\u001b[0m\u001b[0m\n\u001b[1;32m    271\u001b[0m \u001b[0;34m\u001b[0m\u001b[0m\n",
      "\u001b[0;32m~/.conda/envs/kaggle-arc/lib/python3.6/site-packages/ipykernel/pylab/backend_inline.py\u001b[0m in \u001b[0;36mshow\u001b[0;34m(close, block)\u001b[0m\n\u001b[1;32m     41\u001b[0m             display(\n\u001b[1;32m     42\u001b[0m                 \u001b[0mfigure_manager\u001b[0m\u001b[0;34m.\u001b[0m\u001b[0mcanvas\u001b[0m\u001b[0;34m.\u001b[0m\u001b[0mfigure\u001b[0m\u001b[0;34m,\u001b[0m\u001b[0;34m\u001b[0m\u001b[0;34m\u001b[0m\u001b[0m\n\u001b[0;32m---> 43\u001b[0;31m                 \u001b[0mmetadata\u001b[0m\u001b[0;34m=\u001b[0m\u001b[0m_fetch_figure_metadata\u001b[0m\u001b[0;34m(\u001b[0m\u001b[0mfigure_manager\u001b[0m\u001b[0;34m.\u001b[0m\u001b[0mcanvas\u001b[0m\u001b[0;34m.\u001b[0m\u001b[0mfigure\u001b[0m\u001b[0;34m)\u001b[0m\u001b[0;34m\u001b[0m\u001b[0;34m\u001b[0m\u001b[0m\n\u001b[0m\u001b[1;32m     44\u001b[0m             )\n\u001b[1;32m     45\u001b[0m     \u001b[0;32mfinally\u001b[0m\u001b[0;34m:\u001b[0m\u001b[0;34m\u001b[0m\u001b[0;34m\u001b[0m\u001b[0m\n",
      "\u001b[0;32m~/.conda/envs/kaggle-arc/lib/python3.6/site-packages/IPython/core/display.py\u001b[0m in \u001b[0;36mdisplay\u001b[0;34m(include, exclude, metadata, transient, display_id, *objs, **kwargs)\u001b[0m\n\u001b[1;32m    311\u001b[0m             \u001b[0mpublish_display_data\u001b[0m\u001b[0;34m(\u001b[0m\u001b[0mdata\u001b[0m\u001b[0;34m=\u001b[0m\u001b[0mobj\u001b[0m\u001b[0;34m,\u001b[0m \u001b[0mmetadata\u001b[0m\u001b[0;34m=\u001b[0m\u001b[0mmetadata\u001b[0m\u001b[0;34m,\u001b[0m \u001b[0;34m**\u001b[0m\u001b[0mkwargs\u001b[0m\u001b[0;34m)\u001b[0m\u001b[0;34m\u001b[0m\u001b[0;34m\u001b[0m\u001b[0m\n\u001b[1;32m    312\u001b[0m         \u001b[0;32melse\u001b[0m\u001b[0;34m:\u001b[0m\u001b[0;34m\u001b[0m\u001b[0;34m\u001b[0m\u001b[0m\n\u001b[0;32m--> 313\u001b[0;31m             \u001b[0mformat_dict\u001b[0m\u001b[0;34m,\u001b[0m \u001b[0mmd_dict\u001b[0m \u001b[0;34m=\u001b[0m \u001b[0mformat\u001b[0m\u001b[0;34m(\u001b[0m\u001b[0mobj\u001b[0m\u001b[0;34m,\u001b[0m \u001b[0minclude\u001b[0m\u001b[0;34m=\u001b[0m\u001b[0minclude\u001b[0m\u001b[0;34m,\u001b[0m \u001b[0mexclude\u001b[0m\u001b[0;34m=\u001b[0m\u001b[0mexclude\u001b[0m\u001b[0;34m)\u001b[0m\u001b[0;34m\u001b[0m\u001b[0;34m\u001b[0m\u001b[0m\n\u001b[0m\u001b[1;32m    314\u001b[0m             \u001b[0;32mif\u001b[0m \u001b[0;32mnot\u001b[0m \u001b[0mformat_dict\u001b[0m\u001b[0;34m:\u001b[0m\u001b[0;34m\u001b[0m\u001b[0;34m\u001b[0m\u001b[0m\n\u001b[1;32m    315\u001b[0m                 \u001b[0;31m# nothing to display (e.g. _ipython_display_ took over)\u001b[0m\u001b[0;34m\u001b[0m\u001b[0;34m\u001b[0m\u001b[0;34m\u001b[0m\u001b[0m\n",
      "\u001b[0;32m~/.conda/envs/kaggle-arc/lib/python3.6/site-packages/IPython/core/formatters.py\u001b[0m in \u001b[0;36mformat\u001b[0;34m(self, obj, include, exclude)\u001b[0m\n\u001b[1;32m    178\u001b[0m             \u001b[0mmd\u001b[0m \u001b[0;34m=\u001b[0m \u001b[0;32mNone\u001b[0m\u001b[0;34m\u001b[0m\u001b[0;34m\u001b[0m\u001b[0m\n\u001b[1;32m    179\u001b[0m             \u001b[0;32mtry\u001b[0m\u001b[0;34m:\u001b[0m\u001b[0;34m\u001b[0m\u001b[0;34m\u001b[0m\u001b[0m\n\u001b[0;32m--> 180\u001b[0;31m                 \u001b[0mdata\u001b[0m \u001b[0;34m=\u001b[0m \u001b[0mformatter\u001b[0m\u001b[0;34m(\u001b[0m\u001b[0mobj\u001b[0m\u001b[0;34m)\u001b[0m\u001b[0;34m\u001b[0m\u001b[0;34m\u001b[0m\u001b[0m\n\u001b[0m\u001b[1;32m    181\u001b[0m             \u001b[0;32mexcept\u001b[0m\u001b[0;34m:\u001b[0m\u001b[0;34m\u001b[0m\u001b[0;34m\u001b[0m\u001b[0m\n\u001b[1;32m    182\u001b[0m                 \u001b[0;31m# FIXME: log the exception\u001b[0m\u001b[0;34m\u001b[0m\u001b[0;34m\u001b[0m\u001b[0;34m\u001b[0m\u001b[0m\n",
      "\u001b[0;32m</Users/a18220706/.conda/envs/kaggle-arc/lib/python3.6/site-packages/decorator.py:decorator-gen-9>\u001b[0m in \u001b[0;36m__call__\u001b[0;34m(self, obj)\u001b[0m\n",
      "\u001b[0;32m~/.conda/envs/kaggle-arc/lib/python3.6/site-packages/IPython/core/formatters.py\u001b[0m in \u001b[0;36mcatch_format_error\u001b[0;34m(method, self, *args, **kwargs)\u001b[0m\n\u001b[1;32m    222\u001b[0m     \u001b[0;34m\"\"\"show traceback on failed format call\"\"\"\u001b[0m\u001b[0;34m\u001b[0m\u001b[0;34m\u001b[0m\u001b[0m\n\u001b[1;32m    223\u001b[0m     \u001b[0;32mtry\u001b[0m\u001b[0;34m:\u001b[0m\u001b[0;34m\u001b[0m\u001b[0;34m\u001b[0m\u001b[0m\n\u001b[0;32m--> 224\u001b[0;31m         \u001b[0mr\u001b[0m \u001b[0;34m=\u001b[0m \u001b[0mmethod\u001b[0m\u001b[0;34m(\u001b[0m\u001b[0mself\u001b[0m\u001b[0;34m,\u001b[0m \u001b[0;34m*\u001b[0m\u001b[0margs\u001b[0m\u001b[0;34m,\u001b[0m \u001b[0;34m**\u001b[0m\u001b[0mkwargs\u001b[0m\u001b[0;34m)\u001b[0m\u001b[0;34m\u001b[0m\u001b[0;34m\u001b[0m\u001b[0m\n\u001b[0m\u001b[1;32m    225\u001b[0m     \u001b[0;32mexcept\u001b[0m \u001b[0mNotImplementedError\u001b[0m\u001b[0;34m:\u001b[0m\u001b[0;34m\u001b[0m\u001b[0;34m\u001b[0m\u001b[0m\n\u001b[1;32m    226\u001b[0m         \u001b[0;31m# don't warn on NotImplementedErrors\u001b[0m\u001b[0;34m\u001b[0m\u001b[0;34m\u001b[0m\u001b[0;34m\u001b[0m\u001b[0m\n",
      "\u001b[0;32m~/.conda/envs/kaggle-arc/lib/python3.6/site-packages/IPython/core/formatters.py\u001b[0m in \u001b[0;36m__call__\u001b[0;34m(self, obj)\u001b[0m\n\u001b[1;32m    339\u001b[0m                 \u001b[0;32mpass\u001b[0m\u001b[0;34m\u001b[0m\u001b[0;34m\u001b[0m\u001b[0m\n\u001b[1;32m    340\u001b[0m             \u001b[0;32melse\u001b[0m\u001b[0;34m:\u001b[0m\u001b[0;34m\u001b[0m\u001b[0;34m\u001b[0m\u001b[0m\n\u001b[0;32m--> 341\u001b[0;31m                 \u001b[0;32mreturn\u001b[0m \u001b[0mprinter\u001b[0m\u001b[0;34m(\u001b[0m\u001b[0mobj\u001b[0m\u001b[0;34m)\u001b[0m\u001b[0;34m\u001b[0m\u001b[0;34m\u001b[0m\u001b[0m\n\u001b[0m\u001b[1;32m    342\u001b[0m             \u001b[0;31m# Finally look for special method names\u001b[0m\u001b[0;34m\u001b[0m\u001b[0;34m\u001b[0m\u001b[0;34m\u001b[0m\u001b[0m\n\u001b[1;32m    343\u001b[0m             \u001b[0mmethod\u001b[0m \u001b[0;34m=\u001b[0m \u001b[0mget_real_method\u001b[0m\u001b[0;34m(\u001b[0m\u001b[0mobj\u001b[0m\u001b[0;34m,\u001b[0m \u001b[0mself\u001b[0m\u001b[0;34m.\u001b[0m\u001b[0mprint_method\u001b[0m\u001b[0;34m)\u001b[0m\u001b[0;34m\u001b[0m\u001b[0;34m\u001b[0m\u001b[0m\n",
      "\u001b[0;32m~/.conda/envs/kaggle-arc/lib/python3.6/site-packages/IPython/core/pylabtools.py\u001b[0m in \u001b[0;36m<lambda>\u001b[0;34m(fig)\u001b[0m\n\u001b[1;32m    246\u001b[0m \u001b[0;34m\u001b[0m\u001b[0m\n\u001b[1;32m    247\u001b[0m     \u001b[0;32mif\u001b[0m \u001b[0;34m'png'\u001b[0m \u001b[0;32min\u001b[0m \u001b[0mformats\u001b[0m\u001b[0;34m:\u001b[0m\u001b[0;34m\u001b[0m\u001b[0;34m\u001b[0m\u001b[0m\n\u001b[0;32m--> 248\u001b[0;31m         \u001b[0mpng_formatter\u001b[0m\u001b[0;34m.\u001b[0m\u001b[0mfor_type\u001b[0m\u001b[0;34m(\u001b[0m\u001b[0mFigure\u001b[0m\u001b[0;34m,\u001b[0m \u001b[0;32mlambda\u001b[0m \u001b[0mfig\u001b[0m\u001b[0;34m:\u001b[0m \u001b[0mprint_figure\u001b[0m\u001b[0;34m(\u001b[0m\u001b[0mfig\u001b[0m\u001b[0;34m,\u001b[0m \u001b[0;34m'png'\u001b[0m\u001b[0;34m,\u001b[0m \u001b[0;34m**\u001b[0m\u001b[0mkwargs\u001b[0m\u001b[0;34m)\u001b[0m\u001b[0;34m)\u001b[0m\u001b[0;34m\u001b[0m\u001b[0;34m\u001b[0m\u001b[0m\n\u001b[0m\u001b[1;32m    249\u001b[0m     \u001b[0;32mif\u001b[0m \u001b[0;34m'retina'\u001b[0m \u001b[0;32min\u001b[0m \u001b[0mformats\u001b[0m \u001b[0;32mor\u001b[0m \u001b[0;34m'png2x'\u001b[0m \u001b[0;32min\u001b[0m \u001b[0mformats\u001b[0m\u001b[0;34m:\u001b[0m\u001b[0;34m\u001b[0m\u001b[0;34m\u001b[0m\u001b[0m\n\u001b[1;32m    250\u001b[0m         \u001b[0mpng_formatter\u001b[0m\u001b[0;34m.\u001b[0m\u001b[0mfor_type\u001b[0m\u001b[0;34m(\u001b[0m\u001b[0mFigure\u001b[0m\u001b[0;34m,\u001b[0m \u001b[0;32mlambda\u001b[0m \u001b[0mfig\u001b[0m\u001b[0;34m:\u001b[0m \u001b[0mretina_figure\u001b[0m\u001b[0;34m(\u001b[0m\u001b[0mfig\u001b[0m\u001b[0;34m,\u001b[0m \u001b[0;34m**\u001b[0m\u001b[0mkwargs\u001b[0m\u001b[0;34m)\u001b[0m\u001b[0;34m)\u001b[0m\u001b[0;34m\u001b[0m\u001b[0;34m\u001b[0m\u001b[0m\n",
      "\u001b[0;32m~/.conda/envs/kaggle-arc/lib/python3.6/site-packages/IPython/core/pylabtools.py\u001b[0m in \u001b[0;36mprint_figure\u001b[0;34m(fig, fmt, bbox_inches, **kwargs)\u001b[0m\n\u001b[1;32m    130\u001b[0m         \u001b[0mFigureCanvasBase\u001b[0m\u001b[0;34m(\u001b[0m\u001b[0mfig\u001b[0m\u001b[0;34m)\u001b[0m\u001b[0;34m\u001b[0m\u001b[0;34m\u001b[0m\u001b[0m\n\u001b[1;32m    131\u001b[0m \u001b[0;34m\u001b[0m\u001b[0m\n\u001b[0;32m--> 132\u001b[0;31m     \u001b[0mfig\u001b[0m\u001b[0;34m.\u001b[0m\u001b[0mcanvas\u001b[0m\u001b[0;34m.\u001b[0m\u001b[0mprint_figure\u001b[0m\u001b[0;34m(\u001b[0m\u001b[0mbytes_io\u001b[0m\u001b[0;34m,\u001b[0m \u001b[0;34m**\u001b[0m\u001b[0mkw\u001b[0m\u001b[0;34m)\u001b[0m\u001b[0;34m\u001b[0m\u001b[0;34m\u001b[0m\u001b[0m\n\u001b[0m\u001b[1;32m    133\u001b[0m     \u001b[0mdata\u001b[0m \u001b[0;34m=\u001b[0m \u001b[0mbytes_io\u001b[0m\u001b[0;34m.\u001b[0m\u001b[0mgetvalue\u001b[0m\u001b[0;34m(\u001b[0m\u001b[0;34m)\u001b[0m\u001b[0;34m\u001b[0m\u001b[0;34m\u001b[0m\u001b[0m\n\u001b[1;32m    134\u001b[0m     \u001b[0;32mif\u001b[0m \u001b[0mfmt\u001b[0m \u001b[0;34m==\u001b[0m \u001b[0;34m'svg'\u001b[0m\u001b[0;34m:\u001b[0m\u001b[0;34m\u001b[0m\u001b[0;34m\u001b[0m\u001b[0m\n",
      "\u001b[0;32m~/.conda/envs/kaggle-arc/lib/python3.6/site-packages/matplotlib/backend_bases.py\u001b[0m in \u001b[0;36mprint_figure\u001b[0;34m(self, filename, dpi, facecolor, edgecolor, orientation, format, bbox_inches, **kwargs)\u001b[0m\n\u001b[1;32m   2063\u001b[0m                         \u001b[0morientation\u001b[0m\u001b[0;34m=\u001b[0m\u001b[0morientation\u001b[0m\u001b[0;34m,\u001b[0m\u001b[0;34m\u001b[0m\u001b[0;34m\u001b[0m\u001b[0m\n\u001b[1;32m   2064\u001b[0m                         \u001b[0mdryrun\u001b[0m\u001b[0;34m=\u001b[0m\u001b[0;32mTrue\u001b[0m\u001b[0;34m,\u001b[0m\u001b[0;34m\u001b[0m\u001b[0;34m\u001b[0m\u001b[0m\n\u001b[0;32m-> 2065\u001b[0;31m                         **kwargs)\n\u001b[0m\u001b[1;32m   2066\u001b[0m                     \u001b[0mrenderer\u001b[0m \u001b[0;34m=\u001b[0m \u001b[0mself\u001b[0m\u001b[0;34m.\u001b[0m\u001b[0mfigure\u001b[0m\u001b[0;34m.\u001b[0m\u001b[0m_cachedRenderer\u001b[0m\u001b[0;34m\u001b[0m\u001b[0;34m\u001b[0m\u001b[0m\n\u001b[1;32m   2067\u001b[0m                     \u001b[0mbbox_artists\u001b[0m \u001b[0;34m=\u001b[0m \u001b[0mkwargs\u001b[0m\u001b[0;34m.\u001b[0m\u001b[0mpop\u001b[0m\u001b[0;34m(\u001b[0m\u001b[0;34m\"bbox_extra_artists\"\u001b[0m\u001b[0;34m,\u001b[0m \u001b[0;32mNone\u001b[0m\u001b[0;34m)\u001b[0m\u001b[0;34m\u001b[0m\u001b[0;34m\u001b[0m\u001b[0m\n",
      "\u001b[0;32m~/.conda/envs/kaggle-arc/lib/python3.6/site-packages/matplotlib/backends/backend_agg.py\u001b[0m in \u001b[0;36mprint_png\u001b[0;34m(self, filename_or_obj, metadata, pil_kwargs, *args, **kwargs)\u001b[0m\n\u001b[1;32m    525\u001b[0m \u001b[0;34m\u001b[0m\u001b[0m\n\u001b[1;32m    526\u001b[0m         \u001b[0;32melse\u001b[0m\u001b[0;34m:\u001b[0m\u001b[0;34m\u001b[0m\u001b[0;34m\u001b[0m\u001b[0m\n\u001b[0;32m--> 527\u001b[0;31m             \u001b[0mFigureCanvasAgg\u001b[0m\u001b[0;34m.\u001b[0m\u001b[0mdraw\u001b[0m\u001b[0;34m(\u001b[0m\u001b[0mself\u001b[0m\u001b[0;34m)\u001b[0m\u001b[0;34m\u001b[0m\u001b[0;34m\u001b[0m\u001b[0m\n\u001b[0m\u001b[1;32m    528\u001b[0m             \u001b[0mrenderer\u001b[0m \u001b[0;34m=\u001b[0m \u001b[0mself\u001b[0m\u001b[0;34m.\u001b[0m\u001b[0mget_renderer\u001b[0m\u001b[0;34m(\u001b[0m\u001b[0;34m)\u001b[0m\u001b[0;34m\u001b[0m\u001b[0;34m\u001b[0m\u001b[0m\n\u001b[1;32m    529\u001b[0m             \u001b[0;32mwith\u001b[0m \u001b[0mcbook\u001b[0m\u001b[0;34m.\u001b[0m\u001b[0m_setattr_cm\u001b[0m\u001b[0;34m(\u001b[0m\u001b[0mrenderer\u001b[0m\u001b[0;34m,\u001b[0m \u001b[0mdpi\u001b[0m\u001b[0;34m=\u001b[0m\u001b[0mself\u001b[0m\u001b[0;34m.\u001b[0m\u001b[0mfigure\u001b[0m\u001b[0;34m.\u001b[0m\u001b[0mdpi\u001b[0m\u001b[0;34m)\u001b[0m\u001b[0;34m,\u001b[0m\u001b[0;31m \u001b[0m\u001b[0;31m\\\u001b[0m\u001b[0;34m\u001b[0m\u001b[0;34m\u001b[0m\u001b[0m\n",
      "\u001b[0;32m~/.conda/envs/kaggle-arc/lib/python3.6/site-packages/matplotlib/backends/backend_agg.py\u001b[0m in \u001b[0;36mdraw\u001b[0;34m(self)\u001b[0m\n\u001b[1;32m    386\u001b[0m         \u001b[0mself\u001b[0m\u001b[0;34m.\u001b[0m\u001b[0mrenderer\u001b[0m \u001b[0;34m=\u001b[0m \u001b[0mself\u001b[0m\u001b[0;34m.\u001b[0m\u001b[0mget_renderer\u001b[0m\u001b[0;34m(\u001b[0m\u001b[0mcleared\u001b[0m\u001b[0;34m=\u001b[0m\u001b[0;32mTrue\u001b[0m\u001b[0;34m)\u001b[0m\u001b[0;34m\u001b[0m\u001b[0;34m\u001b[0m\u001b[0m\n\u001b[1;32m    387\u001b[0m         \u001b[0;32mwith\u001b[0m \u001b[0mRendererAgg\u001b[0m\u001b[0;34m.\u001b[0m\u001b[0mlock\u001b[0m\u001b[0;34m:\u001b[0m\u001b[0;34m\u001b[0m\u001b[0;34m\u001b[0m\u001b[0m\n\u001b[0;32m--> 388\u001b[0;31m             \u001b[0mself\u001b[0m\u001b[0;34m.\u001b[0m\u001b[0mfigure\u001b[0m\u001b[0;34m.\u001b[0m\u001b[0mdraw\u001b[0m\u001b[0;34m(\u001b[0m\u001b[0mself\u001b[0m\u001b[0;34m.\u001b[0m\u001b[0mrenderer\u001b[0m\u001b[0;34m)\u001b[0m\u001b[0;34m\u001b[0m\u001b[0;34m\u001b[0m\u001b[0m\n\u001b[0m\u001b[1;32m    389\u001b[0m             \u001b[0;31m# A GUI class may be need to update a window using this draw, so\u001b[0m\u001b[0;34m\u001b[0m\u001b[0;34m\u001b[0m\u001b[0;34m\u001b[0m\u001b[0m\n\u001b[1;32m    390\u001b[0m             \u001b[0;31m# don't forget to call the superclass.\u001b[0m\u001b[0;34m\u001b[0m\u001b[0;34m\u001b[0m\u001b[0;34m\u001b[0m\u001b[0m\n",
      "\u001b[0;32m~/.conda/envs/kaggle-arc/lib/python3.6/site-packages/matplotlib/artist.py\u001b[0m in \u001b[0;36mdraw_wrapper\u001b[0;34m(artist, renderer, *args, **kwargs)\u001b[0m\n\u001b[1;32m     36\u001b[0m                 \u001b[0mrenderer\u001b[0m\u001b[0;34m.\u001b[0m\u001b[0mstart_filter\u001b[0m\u001b[0;34m(\u001b[0m\u001b[0;34m)\u001b[0m\u001b[0;34m\u001b[0m\u001b[0;34m\u001b[0m\u001b[0m\n\u001b[1;32m     37\u001b[0m \u001b[0;34m\u001b[0m\u001b[0m\n\u001b[0;32m---> 38\u001b[0;31m             \u001b[0;32mreturn\u001b[0m \u001b[0mdraw\u001b[0m\u001b[0;34m(\u001b[0m\u001b[0martist\u001b[0m\u001b[0;34m,\u001b[0m \u001b[0mrenderer\u001b[0m\u001b[0;34m,\u001b[0m \u001b[0;34m*\u001b[0m\u001b[0margs\u001b[0m\u001b[0;34m,\u001b[0m \u001b[0;34m**\u001b[0m\u001b[0mkwargs\u001b[0m\u001b[0;34m)\u001b[0m\u001b[0;34m\u001b[0m\u001b[0;34m\u001b[0m\u001b[0m\n\u001b[0m\u001b[1;32m     39\u001b[0m         \u001b[0;32mfinally\u001b[0m\u001b[0;34m:\u001b[0m\u001b[0;34m\u001b[0m\u001b[0;34m\u001b[0m\u001b[0m\n\u001b[1;32m     40\u001b[0m             \u001b[0;32mif\u001b[0m \u001b[0martist\u001b[0m\u001b[0;34m.\u001b[0m\u001b[0mget_agg_filter\u001b[0m\u001b[0;34m(\u001b[0m\u001b[0;34m)\u001b[0m \u001b[0;32mis\u001b[0m \u001b[0;32mnot\u001b[0m \u001b[0;32mNone\u001b[0m\u001b[0;34m:\u001b[0m\u001b[0;34m\u001b[0m\u001b[0;34m\u001b[0m\u001b[0m\n",
      "\u001b[0;32m~/.conda/envs/kaggle-arc/lib/python3.6/site-packages/matplotlib/figure.py\u001b[0m in \u001b[0;36mdraw\u001b[0;34m(self, renderer)\u001b[0m\n\u001b[1;32m   1707\u001b[0m             \u001b[0mself\u001b[0m\u001b[0;34m.\u001b[0m\u001b[0mpatch\u001b[0m\u001b[0;34m.\u001b[0m\u001b[0mdraw\u001b[0m\u001b[0;34m(\u001b[0m\u001b[0mrenderer\u001b[0m\u001b[0;34m)\u001b[0m\u001b[0;34m\u001b[0m\u001b[0;34m\u001b[0m\u001b[0m\n\u001b[1;32m   1708\u001b[0m             mimage._draw_list_compositing_images(\n\u001b[0;32m-> 1709\u001b[0;31m                 renderer, self, artists, self.suppressComposite)\n\u001b[0m\u001b[1;32m   1710\u001b[0m \u001b[0;34m\u001b[0m\u001b[0m\n\u001b[1;32m   1711\u001b[0m             \u001b[0mrenderer\u001b[0m\u001b[0;34m.\u001b[0m\u001b[0mclose_group\u001b[0m\u001b[0;34m(\u001b[0m\u001b[0;34m'figure'\u001b[0m\u001b[0;34m)\u001b[0m\u001b[0;34m\u001b[0m\u001b[0;34m\u001b[0m\u001b[0m\n",
      "\u001b[0;32m~/.conda/envs/kaggle-arc/lib/python3.6/site-packages/matplotlib/image.py\u001b[0m in \u001b[0;36m_draw_list_compositing_images\u001b[0;34m(renderer, parent, artists, suppress_composite)\u001b[0m\n\u001b[1;32m    133\u001b[0m     \u001b[0;32mif\u001b[0m \u001b[0mnot_composite\u001b[0m \u001b[0;32mor\u001b[0m \u001b[0;32mnot\u001b[0m \u001b[0mhas_images\u001b[0m\u001b[0;34m:\u001b[0m\u001b[0;34m\u001b[0m\u001b[0;34m\u001b[0m\u001b[0m\n\u001b[1;32m    134\u001b[0m         \u001b[0;32mfor\u001b[0m \u001b[0ma\u001b[0m \u001b[0;32min\u001b[0m \u001b[0martists\u001b[0m\u001b[0;34m:\u001b[0m\u001b[0;34m\u001b[0m\u001b[0;34m\u001b[0m\u001b[0m\n\u001b[0;32m--> 135\u001b[0;31m             \u001b[0ma\u001b[0m\u001b[0;34m.\u001b[0m\u001b[0mdraw\u001b[0m\u001b[0;34m(\u001b[0m\u001b[0mrenderer\u001b[0m\u001b[0;34m)\u001b[0m\u001b[0;34m\u001b[0m\u001b[0;34m\u001b[0m\u001b[0m\n\u001b[0m\u001b[1;32m    136\u001b[0m     \u001b[0;32melse\u001b[0m\u001b[0;34m:\u001b[0m\u001b[0;34m\u001b[0m\u001b[0;34m\u001b[0m\u001b[0m\n\u001b[1;32m    137\u001b[0m         \u001b[0;31m# Composite any adjacent images together\u001b[0m\u001b[0;34m\u001b[0m\u001b[0;34m\u001b[0m\u001b[0;34m\u001b[0m\u001b[0m\n",
      "\u001b[0;32m~/.conda/envs/kaggle-arc/lib/python3.6/site-packages/matplotlib/artist.py\u001b[0m in \u001b[0;36mdraw_wrapper\u001b[0;34m(artist, renderer, *args, **kwargs)\u001b[0m\n\u001b[1;32m     36\u001b[0m                 \u001b[0mrenderer\u001b[0m\u001b[0;34m.\u001b[0m\u001b[0mstart_filter\u001b[0m\u001b[0;34m(\u001b[0m\u001b[0;34m)\u001b[0m\u001b[0;34m\u001b[0m\u001b[0;34m\u001b[0m\u001b[0m\n\u001b[1;32m     37\u001b[0m \u001b[0;34m\u001b[0m\u001b[0m\n\u001b[0;32m---> 38\u001b[0;31m             \u001b[0;32mreturn\u001b[0m \u001b[0mdraw\u001b[0m\u001b[0;34m(\u001b[0m\u001b[0martist\u001b[0m\u001b[0;34m,\u001b[0m \u001b[0mrenderer\u001b[0m\u001b[0;34m,\u001b[0m \u001b[0;34m*\u001b[0m\u001b[0margs\u001b[0m\u001b[0;34m,\u001b[0m \u001b[0;34m**\u001b[0m\u001b[0mkwargs\u001b[0m\u001b[0;34m)\u001b[0m\u001b[0;34m\u001b[0m\u001b[0;34m\u001b[0m\u001b[0m\n\u001b[0m\u001b[1;32m     39\u001b[0m         \u001b[0;32mfinally\u001b[0m\u001b[0;34m:\u001b[0m\u001b[0;34m\u001b[0m\u001b[0;34m\u001b[0m\u001b[0m\n\u001b[1;32m     40\u001b[0m             \u001b[0;32mif\u001b[0m \u001b[0martist\u001b[0m\u001b[0;34m.\u001b[0m\u001b[0mget_agg_filter\u001b[0m\u001b[0;34m(\u001b[0m\u001b[0;34m)\u001b[0m \u001b[0;32mis\u001b[0m \u001b[0;32mnot\u001b[0m \u001b[0;32mNone\u001b[0m\u001b[0;34m:\u001b[0m\u001b[0;34m\u001b[0m\u001b[0;34m\u001b[0m\u001b[0m\n",
      "\u001b[0;32m~/.conda/envs/kaggle-arc/lib/python3.6/site-packages/matplotlib/axes/_base.py\u001b[0m in \u001b[0;36mdraw\u001b[0;34m(self, renderer, inframe)\u001b[0m\n\u001b[1;32m   2645\u001b[0m             \u001b[0mrenderer\u001b[0m\u001b[0;34m.\u001b[0m\u001b[0mstop_rasterizing\u001b[0m\u001b[0;34m(\u001b[0m\u001b[0;34m)\u001b[0m\u001b[0;34m\u001b[0m\u001b[0;34m\u001b[0m\u001b[0m\n\u001b[1;32m   2646\u001b[0m \u001b[0;34m\u001b[0m\u001b[0m\n\u001b[0;32m-> 2647\u001b[0;31m         \u001b[0mmimage\u001b[0m\u001b[0;34m.\u001b[0m\u001b[0m_draw_list_compositing_images\u001b[0m\u001b[0;34m(\u001b[0m\u001b[0mrenderer\u001b[0m\u001b[0;34m,\u001b[0m \u001b[0mself\u001b[0m\u001b[0;34m,\u001b[0m \u001b[0martists\u001b[0m\u001b[0;34m)\u001b[0m\u001b[0;34m\u001b[0m\u001b[0;34m\u001b[0m\u001b[0m\n\u001b[0m\u001b[1;32m   2648\u001b[0m \u001b[0;34m\u001b[0m\u001b[0m\n\u001b[1;32m   2649\u001b[0m         \u001b[0mrenderer\u001b[0m\u001b[0;34m.\u001b[0m\u001b[0mclose_group\u001b[0m\u001b[0;34m(\u001b[0m\u001b[0;34m'axes'\u001b[0m\u001b[0;34m)\u001b[0m\u001b[0;34m\u001b[0m\u001b[0;34m\u001b[0m\u001b[0m\n",
      "\u001b[0;32m~/.conda/envs/kaggle-arc/lib/python3.6/site-packages/matplotlib/image.py\u001b[0m in \u001b[0;36m_draw_list_compositing_images\u001b[0;34m(renderer, parent, artists, suppress_composite)\u001b[0m\n\u001b[1;32m    133\u001b[0m     \u001b[0;32mif\u001b[0m \u001b[0mnot_composite\u001b[0m \u001b[0;32mor\u001b[0m \u001b[0;32mnot\u001b[0m \u001b[0mhas_images\u001b[0m\u001b[0;34m:\u001b[0m\u001b[0;34m\u001b[0m\u001b[0;34m\u001b[0m\u001b[0m\n\u001b[1;32m    134\u001b[0m         \u001b[0;32mfor\u001b[0m \u001b[0ma\u001b[0m \u001b[0;32min\u001b[0m \u001b[0martists\u001b[0m\u001b[0;34m:\u001b[0m\u001b[0;34m\u001b[0m\u001b[0;34m\u001b[0m\u001b[0m\n\u001b[0;32m--> 135\u001b[0;31m             \u001b[0ma\u001b[0m\u001b[0;34m.\u001b[0m\u001b[0mdraw\u001b[0m\u001b[0;34m(\u001b[0m\u001b[0mrenderer\u001b[0m\u001b[0;34m)\u001b[0m\u001b[0;34m\u001b[0m\u001b[0;34m\u001b[0m\u001b[0m\n\u001b[0m\u001b[1;32m    136\u001b[0m     \u001b[0;32melse\u001b[0m\u001b[0;34m:\u001b[0m\u001b[0;34m\u001b[0m\u001b[0;34m\u001b[0m\u001b[0m\n\u001b[1;32m    137\u001b[0m         \u001b[0;31m# Composite any adjacent images together\u001b[0m\u001b[0;34m\u001b[0m\u001b[0;34m\u001b[0m\u001b[0;34m\u001b[0m\u001b[0m\n",
      "\u001b[0;32m~/.conda/envs/kaggle-arc/lib/python3.6/site-packages/matplotlib/artist.py\u001b[0m in \u001b[0;36mdraw_wrapper\u001b[0;34m(artist, renderer, *args, **kwargs)\u001b[0m\n\u001b[1;32m     36\u001b[0m                 \u001b[0mrenderer\u001b[0m\u001b[0;34m.\u001b[0m\u001b[0mstart_filter\u001b[0m\u001b[0;34m(\u001b[0m\u001b[0;34m)\u001b[0m\u001b[0;34m\u001b[0m\u001b[0;34m\u001b[0m\u001b[0m\n\u001b[1;32m     37\u001b[0m \u001b[0;34m\u001b[0m\u001b[0m\n\u001b[0;32m---> 38\u001b[0;31m             \u001b[0;32mreturn\u001b[0m \u001b[0mdraw\u001b[0m\u001b[0;34m(\u001b[0m\u001b[0martist\u001b[0m\u001b[0;34m,\u001b[0m \u001b[0mrenderer\u001b[0m\u001b[0;34m,\u001b[0m \u001b[0;34m*\u001b[0m\u001b[0margs\u001b[0m\u001b[0;34m,\u001b[0m \u001b[0;34m**\u001b[0m\u001b[0mkwargs\u001b[0m\u001b[0;34m)\u001b[0m\u001b[0;34m\u001b[0m\u001b[0;34m\u001b[0m\u001b[0m\n\u001b[0m\u001b[1;32m     39\u001b[0m         \u001b[0;32mfinally\u001b[0m\u001b[0;34m:\u001b[0m\u001b[0;34m\u001b[0m\u001b[0;34m\u001b[0m\u001b[0m\n\u001b[1;32m     40\u001b[0m             \u001b[0;32mif\u001b[0m \u001b[0martist\u001b[0m\u001b[0;34m.\u001b[0m\u001b[0mget_agg_filter\u001b[0m\u001b[0;34m(\u001b[0m\u001b[0;34m)\u001b[0m \u001b[0;32mis\u001b[0m \u001b[0;32mnot\u001b[0m \u001b[0;32mNone\u001b[0m\u001b[0;34m:\u001b[0m\u001b[0;34m\u001b[0m\u001b[0;34m\u001b[0m\u001b[0m\n",
      "\u001b[0;32m~/.conda/envs/kaggle-arc/lib/python3.6/site-packages/matplotlib/axis.py\u001b[0m in \u001b[0;36mdraw\u001b[0;34m(self, renderer, *args, **kwargs)\u001b[0m\n\u001b[1;32m   1201\u001b[0m         \u001b[0mrenderer\u001b[0m\u001b[0;34m.\u001b[0m\u001b[0mopen_group\u001b[0m\u001b[0;34m(\u001b[0m\u001b[0m__name__\u001b[0m\u001b[0;34m)\u001b[0m\u001b[0;34m\u001b[0m\u001b[0;34m\u001b[0m\u001b[0m\n\u001b[1;32m   1202\u001b[0m \u001b[0;34m\u001b[0m\u001b[0m\n\u001b[0;32m-> 1203\u001b[0;31m         \u001b[0mticks_to_draw\u001b[0m \u001b[0;34m=\u001b[0m \u001b[0mself\u001b[0m\u001b[0;34m.\u001b[0m\u001b[0m_update_ticks\u001b[0m\u001b[0;34m(\u001b[0m\u001b[0;34m)\u001b[0m\u001b[0;34m\u001b[0m\u001b[0;34m\u001b[0m\u001b[0m\n\u001b[0m\u001b[1;32m   1204\u001b[0m         ticklabelBoxes, ticklabelBoxes2 = self._get_tick_bboxes(ticks_to_draw,\n\u001b[1;32m   1205\u001b[0m                                                                 renderer)\n",
      "\u001b[0;32m~/.conda/envs/kaggle-arc/lib/python3.6/site-packages/matplotlib/axis.py\u001b[0m in \u001b[0;36m_update_ticks\u001b[0;34m(self)\u001b[0m\n\u001b[1;32m   1134\u001b[0m         \u001b[0;32mfor\u001b[0m \u001b[0mtick\u001b[0m \u001b[0;32min\u001b[0m \u001b[0mticks\u001b[0m\u001b[0;34m:\u001b[0m\u001b[0;34m\u001b[0m\u001b[0;34m\u001b[0m\u001b[0m\n\u001b[1;32m   1135\u001b[0m             \u001b[0;32mtry\u001b[0m\u001b[0;34m:\u001b[0m\u001b[0;34m\u001b[0m\u001b[0;34m\u001b[0m\u001b[0m\n\u001b[0;32m-> 1136\u001b[0;31m                 \u001b[0mloc_t\u001b[0m \u001b[0;34m=\u001b[0m \u001b[0mself\u001b[0m\u001b[0;34m.\u001b[0m\u001b[0mget_transform\u001b[0m\u001b[0;34m(\u001b[0m\u001b[0;34m)\u001b[0m\u001b[0;34m.\u001b[0m\u001b[0mtransform\u001b[0m\u001b[0;34m(\u001b[0m\u001b[0mtick\u001b[0m\u001b[0;34m.\u001b[0m\u001b[0mget_loc\u001b[0m\u001b[0;34m(\u001b[0m\u001b[0;34m)\u001b[0m\u001b[0;34m)\u001b[0m\u001b[0;34m\u001b[0m\u001b[0;34m\u001b[0m\u001b[0m\n\u001b[0m\u001b[1;32m   1137\u001b[0m             \u001b[0;32mexcept\u001b[0m \u001b[0mAssertionError\u001b[0m\u001b[0;34m:\u001b[0m\u001b[0;34m\u001b[0m\u001b[0;34m\u001b[0m\u001b[0m\n\u001b[1;32m   1138\u001b[0m                 \u001b[0;31m# transforms.transform doesn't allow masked values but\u001b[0m\u001b[0;34m\u001b[0m\u001b[0;34m\u001b[0m\u001b[0;34m\u001b[0m\u001b[0m\n",
      "\u001b[0;32m~/.conda/envs/kaggle-arc/lib/python3.6/site-packages/matplotlib/axis.py\u001b[0m in \u001b[0;36mget_transform\u001b[0;34m(self)\u001b[0m\n\u001b[1;32m    791\u001b[0m \u001b[0;34m\u001b[0m\u001b[0m\n\u001b[1;32m    792\u001b[0m     \u001b[0;32mdef\u001b[0m \u001b[0mget_transform\u001b[0m\u001b[0;34m(\u001b[0m\u001b[0mself\u001b[0m\u001b[0;34m)\u001b[0m\u001b[0;34m:\u001b[0m\u001b[0;34m\u001b[0m\u001b[0;34m\u001b[0m\u001b[0m\n\u001b[0;32m--> 793\u001b[0;31m         \u001b[0;32mreturn\u001b[0m \u001b[0mself\u001b[0m\u001b[0;34m.\u001b[0m\u001b[0m_scale\u001b[0m\u001b[0;34m.\u001b[0m\u001b[0mget_transform\u001b[0m\u001b[0;34m(\u001b[0m\u001b[0;34m)\u001b[0m\u001b[0;34m\u001b[0m\u001b[0;34m\u001b[0m\u001b[0m\n\u001b[0m\u001b[1;32m    794\u001b[0m \u001b[0;34m\u001b[0m\u001b[0m\n\u001b[1;32m    795\u001b[0m     \u001b[0;32mdef\u001b[0m \u001b[0mget_scale\u001b[0m\u001b[0;34m(\u001b[0m\u001b[0mself\u001b[0m\u001b[0;34m)\u001b[0m\u001b[0;34m:\u001b[0m\u001b[0;34m\u001b[0m\u001b[0;34m\u001b[0m\u001b[0m\n",
      "\u001b[0;32m~/.conda/envs/kaggle-arc/lib/python3.6/site-packages/matplotlib/scale.py\u001b[0m in \u001b[0;36mget_transform\u001b[0;34m(self)\u001b[0m\n\u001b[1;32m    104\u001b[0m         \u001b[0;34m:\u001b[0m\u001b[0;32mclass\u001b[0m\u001b[0;34m:\u001b[0m\u001b[0;31m`\u001b[0m\u001b[0;34m~\u001b[0m\u001b[0mmatplotlib\u001b[0m\u001b[0;34m.\u001b[0m\u001b[0mtransforms\u001b[0m\u001b[0;34m.\u001b[0m\u001b[0mIdentityTransform\u001b[0m\u001b[0;31m`\u001b[0m\u001b[0;34m.\u001b[0m\u001b[0;34m\u001b[0m\u001b[0;34m\u001b[0m\u001b[0m\n\u001b[1;32m    105\u001b[0m         \"\"\"\n\u001b[0;32m--> 106\u001b[0;31m         \u001b[0;32mreturn\u001b[0m \u001b[0mIdentityTransform\u001b[0m\u001b[0;34m(\u001b[0m\u001b[0;34m)\u001b[0m\u001b[0;34m\u001b[0m\u001b[0;34m\u001b[0m\u001b[0m\n\u001b[0m\u001b[1;32m    107\u001b[0m \u001b[0;34m\u001b[0m\u001b[0m\n\u001b[1;32m    108\u001b[0m \u001b[0;34m\u001b[0m\u001b[0m\n",
      "\u001b[0;32m~/.conda/envs/kaggle-arc/lib/python3.6/site-packages/matplotlib/transforms.py\u001b[0m in \u001b[0;36m__init__\u001b[0;34m(self, *args, **kwargs)\u001b[0m\n\u001b[1;32m   1681\u001b[0m     \u001b[0mis_affine\u001b[0m \u001b[0;34m=\u001b[0m \u001b[0;32mTrue\u001b[0m\u001b[0;34m\u001b[0m\u001b[0;34m\u001b[0m\u001b[0m\n\u001b[1;32m   1682\u001b[0m \u001b[0;34m\u001b[0m\u001b[0m\n\u001b[0;32m-> 1683\u001b[0;31m     \u001b[0;32mdef\u001b[0m \u001b[0m__init__\u001b[0m\u001b[0;34m(\u001b[0m\u001b[0mself\u001b[0m\u001b[0;34m,\u001b[0m \u001b[0;34m*\u001b[0m\u001b[0margs\u001b[0m\u001b[0;34m,\u001b[0m \u001b[0;34m**\u001b[0m\u001b[0mkwargs\u001b[0m\u001b[0;34m)\u001b[0m\u001b[0;34m:\u001b[0m\u001b[0;34m\u001b[0m\u001b[0;34m\u001b[0m\u001b[0m\n\u001b[0m\u001b[1;32m   1684\u001b[0m         \u001b[0mTransform\u001b[0m\u001b[0;34m.\u001b[0m\u001b[0m__init__\u001b[0m\u001b[0;34m(\u001b[0m\u001b[0mself\u001b[0m\u001b[0;34m,\u001b[0m \u001b[0;34m*\u001b[0m\u001b[0margs\u001b[0m\u001b[0;34m,\u001b[0m \u001b[0;34m**\u001b[0m\u001b[0mkwargs\u001b[0m\u001b[0;34m)\u001b[0m\u001b[0;34m\u001b[0m\u001b[0;34m\u001b[0m\u001b[0m\n\u001b[1;32m   1685\u001b[0m         \u001b[0mself\u001b[0m\u001b[0;34m.\u001b[0m\u001b[0m_inverted\u001b[0m \u001b[0;34m=\u001b[0m \u001b[0;32mNone\u001b[0m\u001b[0;34m\u001b[0m\u001b[0;34m\u001b[0m\u001b[0m\n",
      "\u001b[0;31mKeyboardInterrupt\u001b[0m: "
     ],
     "ename": "KeyboardInterrupt",
     "evalue": "",
     "output_type": "error"
    }
   ],
   "source": [
    "from enum import Enum\n",
    "\n",
    "class EnumWithNames(Enum):\n",
    "    \n",
    "    @classmethod\n",
    "    def from_str(cls, name):        \n",
    "        return cls.name_to_val[name]\n",
    "    \n",
    "    @classmethod\n",
    "    def init_enum(cls):\n",
    "        cls.name_to_val = { value.name.lower(): value for value in cls }\n",
    "\n",
    "class ObjectDetectionMethod(EnumWithNames):\n",
    "    BY_COLOR = 0\n",
    "    BY_ISOLATION = 1\n",
    "    BY_COLOR_AND_ISOLATION = 2\n",
    "    \n",
    "ObjectDetectionMethod.init_enum()\n",
    "    \n",
    "\n",
    "class DetectedObject:\n",
    "    def __init__(self, img, inx, pos):\n",
    "        self.img = img\n",
    "        self.inx = inx # the original index of the identified objects (io)\n",
    "        self.pos = np.array(pos)        \n",
    "        self.height = img.shape[0] # height of io\n",
    "        self.width = img.shape[1] # width of io\n",
    "        self.shape = np.array(img.shape)\n",
    "        # count of non-background pixels\n",
    "        self.pixel_count = img[img != BACKGROUND_COLOR].shape[0]\n",
    "        # overall square cells count\n",
    "        self.size = img.size\n",
    "        nc, c = np.unique(img, return_counts = True)\n",
    "        # number of unique colors\n",
    "        self.unique_colors = nc\n",
    "        # the dominating color\n",
    "        self.color = nc[np.argmax(c)]\n",
    "        \n",
    "    # attributes to sort objects\n",
    "    def attrs(self):\n",
    "        return {\n",
    "            'color': self.color,\n",
    "            'size': self.height * self.width,\n",
    "            'pos_y': self.pos[0],\n",
    "            'pos_x': self.pos[1],\n",
    "            'pixel_count': self.pixel_count,\n",
    "            'height': self.height,\n",
    "            'width': self.width\n",
    "            #TODO: number of shared sides with other objects\n",
    "        }\n",
    "        \n",
    "    def change_color(self, color):\n",
    "        self.color = color\n",
    "        print('change_color img befor:', self.img)\n",
    "        self.img[self.img != BACKGROUND_COLOR] = color\n",
    "        print('change_color img after:', self.img)\n",
    "        \n",
    "    def move(self, pos):\n",
    "        self.pos = pos\n",
    "        \n",
    "    def move_till(self, pos, direction):\n",
    "        if direction == MoveDirection.UP:\n",
    "            self.pos[0] = pos\n",
    "        elif direction == MoveDirection.DOWN:\n",
    "            self.pos[0] = pos - self.height\n",
    "        elif direction == MoveDirection.LEFT:\n",
    "            self.pos[1] = pos\n",
    "        elif direction == MoveDirection.RIGHT:\n",
    "            self.pos[1] = pos - self.width\n",
    "        else:\n",
    "            raise RuntimeError('Wrong MoveDirection')\n",
    "        \n",
    "    def move_to(self, obj, target):\n",
    "        assert target == MoveTarget.CENTERED, 'target should be CENTERED'\n",
    "        self.pos = (obj.pos + obj.shape / 2 - self.shape / 2).astype(int)\n",
    "        print('move to self.pos', self.pos)\n",
    "\n",
    "        \n",
    "class TargetObject(EnumWithNames):\n",
    "    ALL = 0\n",
    "    TOP = 1\n",
    "    BOTTOM = 2\n",
    "    \n",
    "    @staticmethod\n",
    "    def get_objects(objects, target_object):\n",
    "        if target_object == TargetObject.ALL:\n",
    "            return objects\n",
    "        if target_object == TargetObject.TOP:\n",
    "            return [objects[-1]]\n",
    "        if target_object == TargetObject.BOTTOM:\n",
    "            return [objects[0]]\n",
    "        raise RuntimeError(f'Wrong target object {target_object}')\n",
    "    \n",
    "TargetObject.init_enum()\n",
    "\n",
    "\n",
    "class MoveDirection(EnumWithNames):\n",
    "    UP = 0\n",
    "    DOWN = 1\n",
    "    RIGHT = 2\n",
    "    LEFT = 3\n",
    "    TO_TOP_OBJECT = 4\n",
    "    \n",
    "MoveDirection.init_enum()\n",
    "\n",
    "\n",
    "class MoveTarget(EnumWithNames):\n",
    "    TILL_EDGE = 0\n",
    "    CENTERED = 1\n",
    "    \n",
    "MoveTarget.init_enum()\n",
    "\n",
    "\n",
    "class TargetColor(EnumWithNames):\n",
    "    COLOR0 = 0,\n",
    "    COLOR1 = 1,\n",
    "    COLOR2 = 2,\n",
    "    COLOR3 = 3,\n",
    "    COLOR4 = 4,\n",
    "    COLOR5 = 5,\n",
    "    COLOR6 = 6,\n",
    "    COLOR7 = 7,\n",
    "    COLOR8 = 8,\n",
    "    COLOR9 = 9,\n",
    "    COLOR10 = 10,\n",
    "    TOP_OBJECT = 11,\n",
    "    BOTTOM_OBJECT = 12\n",
    "    \n",
    "    @staticmethod\n",
    "    def to_color(target_color, objects):\n",
    "        if target_color == TargetColor.TOP_OBJECT:\n",
    "            return objects[-1].color\n",
    "        if target_color == TargetColor.BOTTOM_OBJECT:\n",
    "            return objects[0].color\n",
    "        color = target_color.value[0]\n",
    "        assert color >= 0\n",
    "        assert color < len(cmap.colors)\n",
    "        return color\n",
    "\n",
    "TargetColor.init_enum() \n",
    "\n",
    "\n",
    "class SortOrder(EnumWithNames):\n",
    "    NORMAL = 0\n",
    "    REVERSE = 1\n",
    "\n",
    "SortOrder.init_enum()\n",
    "\n",
    "\n",
    "class ObjectParam(EnumWithNames):\n",
    "    COLOR = 0\n",
    "    SIZE = 1\n",
    "    POS_X = 2\n",
    "    POS_Y = 3\n",
    "    PIXEL_COUNT = 4\n",
    "    HEIGHT = 5\n",
    "    WIDTH = 6\n",
    "    \n",
    "ObjectParam.init_enum()\n",
    "\n",
    "\n",
    "class ResizeGridType(EnumWithNames):\n",
    "    CUT_TO_OBJECTS = 0\n",
    "    \n",
    "ResizeGridType.init_enum()\n",
    "\n",
    "\n",
    "class Utils:\n",
    "    @staticmethod\n",
    "    def crop(img, min, max):\n",
    "        return img[min[0]:max[0], min[1]:max[1]]\n",
    "    \n",
    "    @staticmethod\n",
    "    def slices(min, max):\n",
    "        return (slice(min[0],max[0]), slice(min[1],max[1]))\n",
    "        \n",
    "class OutputGrid:\n",
    "    def __init__(self, name, shape, background_color, identified_objects):\n",
    "        self.name = name\n",
    "        self.shape = shape\n",
    "        self.objects = []\n",
    "        self.background_color = background_color\n",
    "        self.identified_objects = identified_objects\n",
    "        \n",
    "    def increment_name(self, name=None):\n",
    "        tokens = self.name.split('|')\n",
    "        if not tokens:\n",
    "            return\n",
    "        try:\n",
    "            index = int(tokens[-1])\n",
    "        except Exception:\n",
    "            index = 0\n",
    "        if name:\n",
    "            self.name = '|'.join(tokens[:-1]) + ' | ' + name\n",
    "        else:\n",
    "            self.name = '|'.join(tokens[:-1]) + ' | ' + str(index + 1)\n",
    "        \n",
    "    def add_obj(self, detection_method, target_object):\n",
    "        assert detection_method in self.identified_objects, f'Wrong detection_method {detection_method}'\n",
    "        group = self.identified_objects[detection_method]\n",
    "        objects = TargetObject.get_objects(group, target_object)\n",
    "        self.objects += objects\n",
    "        \n",
    "    def sort(self, attr, sort_order):\n",
    "        self.objects.sort(key=lambda x: x.attrs()[attr.name.lower()], reverse=(sort_order==SortOrder.REVERSE))\n",
    "        \n",
    "    def set_back(self, background_color):\n",
    "        self.background_color = TargetColor.to_color(background_color, self.objects)\n",
    "        \n",
    "    def get_target_objects(self, target_object):\n",
    "        return TargetObject.get_objects(self.objects, target_object)\n",
    "        \n",
    "    def set_obj_clr(self, target_object, target_color):\n",
    "        return\n",
    "        color = TargetColor.to_color(target_color, self.objects)\n",
    "        print('set_obj_clr:', color)\n",
    "        objects = self.get_target_objects(target_object)\n",
    "        for obj in objects:\n",
    "            obj.change_color(color)\n",
    "            \n",
    "    def mv_obj(self, target_object, move_direction, move_target):\n",
    "        objects = self.get_target_objects(target_object)\n",
    "        \n",
    "        for obj in objects:\n",
    "            self.move_object(obj, move_direction, move_target)\n",
    "            \n",
    "    def get_edge(self, direction):\n",
    "        if direction == MoveDirection.UP:\n",
    "            return 0\n",
    "        elif direction == MoveDirection.DOWN:\n",
    "            return self.shape[0]\n",
    "        elif direction == MoveDirection.LEFT:\n",
    "            return 0\n",
    "        elif direction == MoveDirection.RIGHT:\n",
    "            return self.shape[1]\n",
    "        else:\n",
    "            raise RuntimeError(f'Wrong MoveDirection {direction}')\n",
    "\n",
    "    def move_object(self, obj, direction, target):\n",
    "        if direction in { MoveDirection.UP, MoveDirection.DOWN, MoveDirection.LEFT, MoveDirection.RIGHT }:\n",
    "            assert target == MoveTarget.TILL_EDGE, 'target should be TILL_EDGE'\n",
    "            obj.move_till(self.get_edge(direction), direction)\n",
    "        elif direction == MoveDirection.TO_TOP_OBJECT:\n",
    "            obj.move_to(self.get_target_objects(TargetObject.TOP)[0], target)\n",
    "        else:\n",
    "            raise RuntimeError(f'Unknown direction {direction}')\n",
    "        \n",
    "    def plot(self):\n",
    "        img = np.full(self.shape, self.background_color)\n",
    "        for obj in self.objects:\n",
    "            # draw only part object inside grid\n",
    "            delta_min = np.maximum(-obj.pos, np.zeros(2)).astype(int)\n",
    "            obj_pos = obj.pos + delta_min\n",
    "            delta_max = np.maximum(obj.pos + obj.shape - self.shape, np.zeros(2)).astype(int)\n",
    "            obj_img = Utils.crop(obj.img, delta_min, obj.shape - delta_max)\n",
    "            img_crop = Utils.crop(img, obj_pos, obj_pos + obj_img.shape)\n",
    "            # not filling background color\n",
    "            no_back_mask = obj_img != BACKGROUND_COLOR\n",
    "            img_crop[no_back_mask] = obj_img[no_back_mask]\n",
    "            img[Utils.slices(obj_pos, obj_pos + obj_img.shape)] = img_crop\n",
    "        \n",
    "        fig, ax = plt.subplots()\n",
    "        plt.figure(figsize=(5, 5), dpi=200)\n",
    "        ax.imshow(img, cmap=cmap, norm=norm)\n",
    "        ax.grid(True, which='both',color='lightgrey', linewidth=0.5)\n",
    "        ax.set_yticks([x-0.5 for x in range(1+len(img))])\n",
    "        ax.set_xticks([x-0.5 for x in range(1+len(img[0]))])\n",
    "        ax.set_xticklabels([])\n",
    "        ax.set_yticklabels([])\n",
    "        ax.set_title(self.name)\n",
    "        plt.tight_layout()\n",
    "        plt.show()\n",
    "        return img\n",
    "        \n",
    "    def resize_grid(self, type):\n",
    "        assert type == ResizeGridType.CUT_TO_OBJECTS, f'Wrong ResizeGridType: {type}'\n",
    "        delta_min = self.shape\n",
    "        delta_max = np.zeros(2)\n",
    "        if not self.objects:\n",
    "            # no objects, skip resizing grid\n",
    "            return\n",
    "        for obj in self.objects:\n",
    "            delta_min = np.minimum(obj.pos, delta_min).astype(int)\n",
    "            delta_max = np.maximum(obj.pos + obj.shape, delta_max).astype(int)\n",
    "        delta_max = np.minimum(self.shape, delta_max).astype(int)\n",
    "        self.shape = delta_max - delta_min\n",
    "        assert np.all(self.shape > 0), 'shape should be positive'\n",
    "        # update objects position\n",
    "        for obj in self.objects:\n",
    "            obj.pos -= delta_min\n",
    "            \n",
    "    @staticmethod\n",
    "    def get_background(image):\n",
    "        # if image contains 0 \n",
    "        if 0 in image:\n",
    "          background = 0\n",
    "        # else use the most frequent pixel color\n",
    "        else: \n",
    "          unique_colors, counts = np.unique(image, return_counts=True)\n",
    "          background = unique_colors[np.argmax(counts)]\n",
    "        return background\n",
    "\n",
    "\n",
    "class ActionType(EnumWithNames):\n",
    "    SET_BACK = 0\n",
    "    ADD_OBJ = 1\n",
    "    MV_OBJ = 2\n",
    "    SET_OBJ_CLR = 3\n",
    "    SORT = 4\n",
    "    RESIZE_GRID = 5\n",
    "    \n",
    "ActionType.init_enum()\n",
    "\n",
    "\n",
    "ACTIONS_ARGUMENT_TYPES = {\n",
    "    ActionType.SET_BACK: (TargetColor, ),\n",
    "    ActionType.ADD_OBJ: (ObjectDetectionMethod, TargetObject),\n",
    "    ActionType.MV_OBJ: (TargetObject, MoveDirection, MoveTarget),\n",
    "    ActionType.SET_OBJ_CLR: (TargetObject, TargetColor),\n",
    "    ActionType.SORT: (ObjectParam, SortOrder),\n",
    "    ActionType.RESIZE_GRID: (ResizeGridType, )\n",
    "}\n",
    "\n",
    "\n",
    "class Action:\n",
    "    def __init__(self, type, target):\n",
    "        self.type = type\n",
    "        self.target = target\n",
    "        \n",
    "    def __call__(self, grid):\n",
    "        method = getattr(grid, self.type.name.lower())\n",
    "        method(*self.target)\n",
    "        \n",
    "    def __str__(self):\n",
    "        return f'{self.type} {self.target}'\n",
    "\n",
    "\n",
    "class ArgsGenerator:\n",
    "    def __init__(self, action_type):\n",
    "        self.args_type = list(ACTIONS_ARGUMENT_TYPES[action_type])\n",
    "        self.args_variants = [[arg_val for arg_val in arg_type] for arg_type in self.args_type]\n",
    "        \n",
    "    def __iter__(self):\n",
    "        self.args = [0] * len(self.args_type)\n",
    "        self.arg_i = len(self.args_type) - 1\n",
    "        self.args[self.arg_i] = -1\n",
    "        return self\n",
    "    \n",
    "    def __next__(self):\n",
    "        self.args[self.arg_i] += 1\n",
    "        if self.args[self.arg_i] >=  len(self.args_variants[self.arg_i]):\n",
    "            self.args[self.arg_i] = 0\n",
    "            self.arg_i -= 1\n",
    "            if self.arg_i < 0:\n",
    "                raise StopIteration\n",
    "            return next(self)\n",
    "\n",
    "        self.arg_i = len(self.args) - 1\n",
    "        return [self.args_variants[arg_i][var_i] for arg_i, var_i in enumerate(self.args)]\n",
    "\n",
    "\n",
    "GENERATOR_VARIANTS = [\n",
    "    (ActionType.SET_BACK, (0, 1)),\n",
    "    (ActionType.ADD_OBJ, (1, 1)),\n",
    "    (ActionType.SORT, (0, 1)),\n",
    "    (ActionType.MV_OBJ, (0, 1)),\n",
    "    (ActionType.SORT, (0, 1)),\n",
    "    (ActionType.SET_OBJ_CLR, (0, 1)),\n",
    "    (ActionType.RESIZE_GRID, (0, 1))\n",
    "]\n",
    "\n",
    "\n",
    "class DSLGenerator:\n",
    "    def __init__(self, train):\n",
    "        self.train = train\n",
    "    \n",
    "    def generate(self, arc):\n",
    "        suitable_dsl = None\n",
    "        for train_pair in self.train:\n",
    "            input = np.array(train_pair['input'])\n",
    "            self.output = np.array(train_pair['output'])\n",
    "            \n",
    "            if suitable_dsl is None:\n",
    "                suitable_dsl = self.find_suitable_dsl(arc, input)\n",
    "            \n",
    "            if not suitable_dsl:\n",
    "                break\n",
    "            suitable_dsl = self.filter_suitable_dsls(input, self.output, suitable_dsl)\n",
    "            \n",
    "        if suitable_dsl is None:\n",
    "            suitable_dsl = []\n",
    "        return suitable_dsl\n",
    "                \n",
    "    def filter_suitable_dsls(self, input, output, dsls):\n",
    "        suitable_dsl = []\n",
    "        for dsl in dsls:\n",
    "            self.evaluate_dsl(dsl, input)\n",
    "            if np.all(input == output):\n",
    "                suitable_dsl += dsl\n",
    "        print(f'filter_suitable_dsls: from {len(dsls)} to {len(suitable_dsl)}')\n",
    "        return suitable_dsl\n",
    "        \n",
    "    def evaluate_dsl(self, dsl, grid):\n",
    "        action = Action(dsl[0], dsl[1])\n",
    "        action(grid)\n",
    "            \n",
    "    def find_suitable_dsl(self, arc, input):\n",
    "\n",
    "        background = OutputGrid.get_background(input)\n",
    "\n",
    "        for object_detection_method in ObjectDetectionMethod:\n",
    "            arc.identify_object(input, object_detection_method)\n",
    "\n",
    "        grid = OutputGrid(f'train | start', input.shape, background, arc.identified_objects)\n",
    "        \n",
    "        self.results = []\n",
    "        self.variants_checked = 0\n",
    "        action_logs = []\n",
    "        self.step_action_calls(grid, iter(GENERATOR_VARIANTS), action_logs)\n",
    "        return self.results\n",
    "        \n",
    "        \n",
    "    def step_action_calls(self, grid, gen_variants, actions_log):\n",
    "        variant = next(gen_variants, None)\n",
    "        if not variant:\n",
    "            # Bottom of the graph\n",
    "            res_img = grid.plot()\n",
    "            res_correct = np.all(res_img == self.output)\n",
    "            if res_correct:\n",
    "                print('found suitable dsl:', actions_log)\n",
    "                self.results += actions_log\n",
    "            else:\n",
    "                print('checked dsl:', actions_log)\n",
    "            self.variants_checked += 1\n",
    "            print('variants_checked:', self.variants_checked)\n",
    "            return\n",
    "        \n",
    "        action_type, calls_range = variant\n",
    "        for calls_n in range(calls_range[0], calls_range[1] + 1):\n",
    "            for i in range(calls_n):\n",
    "                grid_tmp = copy.deepcopy(grid)\n",
    "                gen_variants, gen_variants_tmp = tee(gen_variants)\n",
    "                actions_log_tmp = actions_log.copy()\n",
    "                self.step_action(grid_tmp, gen_variants_tmp, actions_log_tmp, action_type)\n",
    "         \n",
    "    def step_action(self, grid, gen_variants, actions_log, action_type):\n",
    "        for args in ArgsGenerator(action_type):\n",
    "            tmp_grid = copy.deepcopy(grid)\n",
    "            gen_variants, gen_variants_tmp = tee(gen_variants)\n",
    "            actions_log_tmp = actions_log.copy()\n",
    "            self.step_action_args(tmp_grid, gen_variants_tmp, actions_log_tmp, action_type, args)\n",
    "            \n",
    "            \n",
    "            \n",
    "    def step_action_args(self, grid, gen_variants, actions_log, action_type, args):\n",
    "        Action(action_type, args)(grid)\n",
    "        actions_log += (action_type, args)\n",
    "        \n",
    "        # And go further on action list\n",
    "        self.step_action_calls(grid, gen_variants, actions_log)\n",
    "\n",
    "\n",
    "class ExpressionParser:\n",
    "    ACTIONS_DELIMITER = ';'\n",
    "    ARGUMENTS_DELIMITER = ','\n",
    "    \n",
    "    def __init__(self, exp):\n",
    "        self.exp = exp\n",
    "        self.actions = []\n",
    "        self.actions_str = []\n",
    "        self.parse()\n",
    "        \n",
    "    def __call__(self, grid, plot_each_action=False):\n",
    "        assert len(self.actions_str) == len(self.actions), f'{len(self.actions_str)} != {len(self.actions)}'\n",
    "        for action_str, action in zip(self.actions_str, self.actions):\n",
    "            print(f'running action: {action_str} {action}')\n",
    "            action(grid)\n",
    "            grid.increment_name(action_str)\n",
    "            if plot_each_action:\n",
    "                grid.plot()\n",
    "        \n",
    "        return grid            \n",
    "        \n",
    "    def parse(self):\n",
    "        actions_str = [x.strip() for x in self.exp.split(self.ACTIONS_DELIMITER)]\n",
    "        self.actions_str = actions_str\n",
    "        for action_str in actions_str:\n",
    "            self.actions.append(self.parse_action(action_str))\n",
    "        \n",
    "    def parse_action(self, action_str):\n",
    "        scope_o = action_str.find('(')\n",
    "        action_name_str = action_str\n",
    "        if scope_o != -1:\n",
    "            action_name_str = action_str[:scope_o].strip()\n",
    "        action_type = ActionType.from_str(action_name_str)\n",
    "        \n",
    "        arg_values = None\n",
    "        if scope_o != -1:\n",
    "            scope_c = action_str.find(')', scope_o)\n",
    "            assert scope_c != -1, \"Wrong expression, no closing scope\"\n",
    "            arguments_one_str = action_str[scope_o+1:scope_c]\n",
    "            arg_values = self.parse_arguments(arguments_one_str, action_type)\n",
    "        return Action(action_type, arg_values)\n",
    "                \n",
    "                \n",
    "    def parse_arguments(self, arguments_one_str, action_type):\n",
    "        arguments_str = [x.strip() for x in arguments_one_str.split(self.ARGUMENTS_DELIMITER)]\n",
    "        assert action_type in ACTIONS_ARGUMENT_TYPES, f'Wrong action type: {action_type}'\n",
    "        arguments = ACTIONS_ARGUMENT_TYPES[action_type]\n",
    "        arguments_list = list(arguments)\n",
    "        assert len(arguments_list) == len(arguments_str),\\\n",
    "            f'Wrong arguments number {len(arguments_list)} != {len(arguments_str)},' \\\n",
    "            f' for action {action_type.name}, arguments_list {arguments_list},' \\\n",
    "            f' arguments_str {arguments_str}'\n",
    "        arg_values = []\n",
    "        for arg_type, arg_str in zip(arguments_list, arguments_str):\n",
    "            arg_value = arg_type.from_str(arg_str)\n",
    "            arg_values.append(arg_value)\n",
    "        return tuple(arg_values)\n",
    "        \n",
    "\n",
    "class ARCSolver:\n",
    "    def __init__(self, task_num):\n",
    "        self.task_num = task_num\n",
    "        # initialize objects-related things\n",
    "        self.identified_objects = {}\n",
    "        \n",
    "    def reset(self):\n",
    "        self.identified_objects = {}\n",
    "        \n",
    "    \n",
    "    def plot_one(self, task, ax, i, train_or_test, input_or_output):\n",
    "        input_matrix = task[train_or_test][i][input_or_output]\n",
    "        ax.imshow(input_matrix, cmap=cmap, norm=norm)\n",
    "        ax.grid(True,which='both',color='lightgrey', linewidth=0.5)    \n",
    "        ax.set_yticks([x-0.5 for x in range(1+len(input_matrix))])\n",
    "        ax.set_xticks([x-0.5 for x in range(1+len(input_matrix[0]))])     \n",
    "        ax.set_xticklabels([])\n",
    "        ax.set_yticklabels([])\n",
    "        ax.set_title(train_or_test + ' '+input_or_output)\n",
    "        \n",
    "    \n",
    "    def plot_task(self):\n",
    "        \"\"\"\n",
    "        Plots the first train and test pairs of a specified task,\n",
    "        using same color scheme as the ARC app\n",
    "        \"\"\"    \n",
    "        task = train_tasks[self.task_num]\n",
    "        name = train_tasks.keys()[self.task_num]\n",
    "        print('task:', name)\n",
    "        num_train = len(task['train'])\n",
    "        fig, axs = plt.subplots(2, num_train, figsize=(3*num_train,3*2))\n",
    "        for i in range(num_train):     \n",
    "            self.plot_one(task, axs[0,i],i,'train','input')\n",
    "            self.plot_one(task, axs[1,i],i,'train','output')        \n",
    "        plt.tight_layout()\n",
    "        plt.show()        \n",
    "            \n",
    "        num_test = len(task['test'])\n",
    "        fig, axs = plt.subplots(2, num_test, figsize=(3*num_test,3*2))\n",
    "        if num_test==1: \n",
    "            self.plot_one(task, axs[0],0,'test','input')\n",
    "            self.plot_one(task, axs[1],0,'test','output')     \n",
    "        else:\n",
    "            for i in range(num_test):      \n",
    "                self.plot_one(task, axs[0,i],i,'test','input')\n",
    "                self.plot_one(task, axs[1,i],i,'test','output')  \n",
    "        plt.tight_layout()\n",
    "        plt.show() \n",
    "        \n",
    "    \n",
    "    def plot_identified_objects(self, identified_objects, title = 'objects'):\n",
    "        # do not plot anything in the following situations\n",
    "        if len(identified_objects) == 0:\n",
    "            print('No objects were identified.')\n",
    "            return\n",
    "        # if len(identified_objects) > 10:\n",
    "        #     print('Way too many objects (>10). Not gonna plot them.')\n",
    "        #     return\n",
    "        \n",
    "        fig, axs = plt.subplots(1, len(identified_objects) + 1, figsize = (8,2))\n",
    "        for i in range(len(identified_objects) + 1):\n",
    "            if i == 0:\n",
    "                axs[0].text(0.5, 0.5, title, horizontalalignment = 'center', verticalalignment = 'center', fontsize = 15)\n",
    "                axs[0].get_xaxis().set_visible(False)\n",
    "                axs[0].get_yaxis().set_visible(False)\n",
    "                axs[0].axis('off')\n",
    "            else:\n",
    "                obj = identified_objects[i-1]\n",
    "                axs[i].imshow(obj.img, cmap = cmap, norm = norm)\n",
    "                axs[i].axis('off')\n",
    "                axs[i].set_title('object{}'.format(i))\n",
    "        plt.tight_layout()\n",
    "        plt.show()\n",
    "    \n",
    "    \n",
    "    def check_pairs(self, inx_pairs, this_pair, return_inx = False):\n",
    "        # check if this_pair is in inx_pairs\n",
    "        match = []\n",
    "        for pair in inx_pairs:\n",
    "          if pair[0] == this_pair[0] and pair[1] == this_pair[1]:\n",
    "            match.append(True)\n",
    "          else:\n",
    "            match.append(False)\n",
    "        if return_inx:\n",
    "          return any(match), np.where(match)\n",
    "        else:\n",
    "          return any(match)\n",
    "    \n",
    "    \n",
    "    def check_neighbors(self, all_pairs, this_pair, objectness, this_object):\n",
    "        # all_pairs: an array of index pairs for all nonzero/colored pixels\n",
    "        # this_pair: the index pair whose neighbors will be checked\n",
    "        # objectness: an array with the shape of original image, storage for how much objectness has been identified\n",
    "        # this_object: the current object we are looking at\n",
    "        row_inx = this_pair[0]\n",
    "        col_inx = this_pair[1]\n",
    "        objectness[row_inx, col_inx] = this_object\n",
    "        # find if any neighboring pixels contain color\n",
    "        if self.check_pairs(all_pairs, [row_inx-1, col_inx-1]): # up-left\n",
    "          objectness[row_inx-1, col_inx-1] = this_object\n",
    "        if self.check_pairs(all_pairs, [row_inx-1, col_inx]): # up\n",
    "          objectness[row_inx-1, col_inx] = this_object \n",
    "        if self.check_pairs(all_pairs, [row_inx-1, col_inx+1]): # up-right\n",
    "          objectness[row_inx-1, col_inx+1] = this_object\n",
    "        if self.check_pairs(all_pairs, [row_inx, col_inx-1]): # left\n",
    "          objectness[row_inx, col_inx-1] = this_object\n",
    "        if self.check_pairs(all_pairs, [row_inx, col_inx+1]): # right\n",
    "          objectness[row_inx, col_inx+1] = this_object\n",
    "        if self.check_pairs(all_pairs, [row_inx+1, col_inx-1]): # down-left\n",
    "          objectness[row_inx+1, col_inx-1] = this_object\n",
    "        if self.check_pairs(all_pairs, [row_inx+1, col_inx]): # down\n",
    "          objectness[row_inx+1, col_inx] = this_object\n",
    "        if self.check_pairs(all_pairs, [row_inx+1, col_inx+1]): # down-right\n",
    "          objectness[row_inx+1, col_inx+1] = this_object\n",
    "        return objectness\n",
    "    \n",
    "    \n",
    "    def identify_object_by_color(self, true_image, background = 0):\n",
    "        # identify object by the color only \n",
    "        unique_colors = np.unique(true_image)\n",
    "        identified_objects = []\n",
    "        for i, color in enumerate(unique_colors):\n",
    "          image = np.copy(true_image) # make a copy from original first\n",
    "          if color == background: \n",
    "            continue\n",
    "          image[image != color] = BACKGROUND_COLOR\n",
    "          inx = np.where(image == color)\n",
    "          pos = np.min(inx[0]), np.min(inx[1])\n",
    "          img = image[np.min(inx[0]):np.max(inx[0])+1, np.min(inx[1]):np.max(inx[1])+1]\n",
    "          obj = DetectedObject(img, len(identified_objects), pos)\n",
    "          # append the object attributes\n",
    "          identified_objects.append(obj)\n",
    "        return identified_objects\n",
    "    \n",
    "    \n",
    "    def identify_object_by_isolation(self, image, background = 0):\n",
    "        # identify all objects by physical isolation on the given image\n",
    "        all_pairs = np.array(np.where(image != background)).T\n",
    "        objectness = np.zeros(image.shape)\n",
    "        identified_objects = []\n",
    "        this_object = 1\n",
    "        while len(all_pairs) >= 1:\n",
    "          init_pair = all_pairs[0] # start with the first pair\n",
    "          objectness = self.check_neighbors(all_pairs, init_pair, objectness, this_object)\n",
    "          # get a list of index pairs whose neghbors haven't been checked\n",
    "          unchecked_pairs = np.array(np.where(objectness == this_object)).T\n",
    "          checked_pairs = np.zeros((0,2)) \n",
    "          # check all the index pairs in the expanding unchecked_pairs untill all have been checked\n",
    "          while len(unchecked_pairs) != 0:\n",
    "            this_pair = unchecked_pairs[0]\n",
    "            objectness = self.check_neighbors(all_pairs, this_pair, objectness, this_object)\n",
    "            # append the checked_pairs\n",
    "            checked_pairs = np.vstack((checked_pairs, this_pair))\n",
    "            # get all index pairs for the currently identified object\n",
    "            current_object_pairs = np.array(np.where(objectness == this_object)).T\n",
    "            # delete the checked pairs from current object pairs\n",
    "            checked_inx = []\n",
    "            for pair in checked_pairs:\n",
    "              _, inx = self.check_pairs(current_object_pairs, pair, return_inx = True)\n",
    "              checked_inx.append(inx[0][0])\n",
    "            unchecked_pairs = np.delete(current_object_pairs, checked_inx, axis = 0)\n",
    "    \n",
    "          # store this object to identified_objects\n",
    "          current_object_pairs = np.array(np.where(objectness == this_object)).T\n",
    "          cop = current_object_pairs.T\n",
    "          pos = np.min(cop[0]), np.min(cop[1])\n",
    "          img = image[np.min(cop[0]):np.max(cop[0])+1, np.min(cop[1]):np.max(cop[1])+1]\n",
    "          img[img == background] = BACKGROUND_COLOR\n",
    "          # delete the current object pairs from all_pairs \n",
    "          cop_inx = []\n",
    "          for pair in current_object_pairs:\n",
    "            _, this_cop_inx = self.check_pairs(all_pairs, pair, return_inx = True)\n",
    "            cop_inx.append(this_cop_inx[0][0])\n",
    "          all_pairs = np.delete(all_pairs, cop_inx, axis = 0)\n",
    "          # append the object attributes\n",
    "          obj = DetectedObject(img, len(identified_objects), pos)\n",
    "          identified_objects.append(obj)          \n",
    "          # start identifying a new object\n",
    "          this_object += 1\n",
    "        return identified_objects\n",
    "    \n",
    "    \n",
    "    def identify_object_by_color_isolation(self, true_image, background = 0):\n",
    "        # identify objects first by color then by physical isolation\n",
    "        unique_colors = np.unique(true_image)\n",
    "        for i, color in enumerate(unique_colors):\n",
    "          image = np.copy(true_image) # make a copy from the original first\n",
    "          if color == background:\n",
    "            continue\n",
    "          # identify objects by isolation in this color only \n",
    "          image[image != color] = BACKGROUND_COLOR\n",
    "          return self.identify_object_by_isolation(image, background = BACKGROUND_COLOR)\n",
    "    \n",
    "    \n",
    "    def identify_object(self, image, method):\n",
    "        # a wrapper of different methods\n",
    "        # in the future method can be a parameter to be learned\n",
    "        # 1 = by_color, 2 = by_isolation, 3 = by_color_isolation\n",
    "        background = OutputGrid.get_background(image)\n",
    "        res = None\n",
    "        if method == ObjectDetectionMethod.BY_COLOR:\n",
    "            res = self.identify_object_by_color(image, background)\n",
    "        elif method == ObjectDetectionMethod.BY_ISOLATION:\n",
    "            res = self.identify_object_by_isolation(image, background)\n",
    "        elif method == ObjectDetectionMethod.BY_COLOR_AND_ISOLATION:\n",
    "            res = self.identify_object_by_color_isolation(image, background)\n",
    "        else:\n",
    "            raise RuntimeError('Wrong ObjectDetectionMethod')\n",
    "        self.identified_objects[method] = res\n",
    "        \n",
    "        \n",
    "    # def solve(self):\n",
    "    #     self.plot_task()\n",
    "    #     # select an image for object identification\n",
    "    #     # WE USE TRAIN INPUT\n",
    "    #     image = np.array(train_tasks[task_num]['train'][0]['input'])\n",
    "    #     background = OutputGrid.get_background(image)\n",
    "    # \n",
    "    #     for object_detection_method in ObjectDetectionMethod:\n",
    "    #         self.identify_object(image, object_detection_method)\n",
    "    #         self.plot_identified_objects(arc.identified_objects[object_detection_method], title = object_detection_method.name)\n",
    "    #         \n",
    "    #     grid0 = OutputGrid('grid 0', image.shape, background)\n",
    "    #     for obj in self.identified_objects[ObjectDetectionMethod.BY_COLOR]:\n",
    "    #         grid0.add_obj(obj)\n",
    "    #     grid0.plot()\n",
    "    #     \n",
    "    #     exp_example = \"add_obj(all); mv_obj(all, down, till_edge); mv_obj(all, right, till_edge)\"\n",
    "    # \n",
    "    #     expression = ExpressionParser(exp_example)\n",
    "    #     expression()\n",
    "\n",
    "\n",
    "\n",
    "# randomly select 20 task numbers\n",
    "TASK_NUM = np.random.randint(1,400, size = 20)\n",
    "TASK_NUM = [1]\n",
    "for task_num in TASK_NUM:\n",
    "    arc = ARCSolver(task_num)\n",
    "\n",
    "    # arc.plot_task()\n",
    "    # \n",
    "    # exp_example = \"add_obj(by_color, all); sort(size, normal); mv_obj(top, down, till_edge); \" \\\n",
    "    #               \"mv_obj(top, right, till_edge); mv_obj(all, to_top_object, centered);\" \\\n",
    "    #               \"resize_grid(cut_to_objects)\"\n",
    "    # expression = ExpressionParser(exp_example)\n",
    "\n",
    "    generator = DSLGenerator(train_tasks[task_num]['train'])\n",
    "    dsls = generator.generate(arc)\n",
    "    print('results dsls:', dsls)\n",
    "\n",
    "\n",
    "    # for train_i, train_input in enumerate(train_tasks[task_num]['train']):\n",
    "\n",
    "        # # select an image for object identification\n",
    "        # image = np.array(train_input['input'])\n",
    "        # background = arc.get_background(image)\n",
    "        # \n",
    "        # for object_detection_method in ObjectDetectionMethod:\n",
    "        #     arc.identify_object(image, object_detection_method)\n",
    "        #     # arc.plot_identified_objects(arc.identified_objects[object_detection_method], title = object_detection_method.name)\n",
    "        # \n",
    "        # grid0 = OutputGrid(f'train {train_i} | start', image.shape, background, arc.identified_objects)\n",
    "        # \n",
    "        # grid1 = expression(grid0, plot_each_action=False)\n",
    "        # res_img = grid1.plot()\n",
    "        # res_correct = np.all(res_img == train_input['output'])\n",
    "        # print('Result correct:', res_correct)\n"
   ],
   "metadata": {
    "collapsed": false,
    "pycharm": {
     "name": "#%%\n",
     "is_executing": false
    }
   }
  },
  {
   "cell_type": "code",
   "execution_count": 17,
   "outputs": [
    {
     "name": "stdout",
     "text": [
      "[<TargetObject.ALL: 0>, <MoveDirection.UP: 0>, <MoveTarget.TILL_EDGE: 0>]\n[<TargetObject.ALL: 0>, <MoveDirection.UP: 0>, <MoveTarget.CENTERED: 1>]\n[<TargetObject.ALL: 0>, <MoveDirection.DOWN: 1>, <MoveTarget.TILL_EDGE: 0>]\n[<TargetObject.ALL: 0>, <MoveDirection.DOWN: 1>, <MoveTarget.CENTERED: 1>]\n[<TargetObject.ALL: 0>, <MoveDirection.RIGHT: 2>, <MoveTarget.TILL_EDGE: 0>]\n[<TargetObject.ALL: 0>, <MoveDirection.RIGHT: 2>, <MoveTarget.CENTERED: 1>]\n[<TargetObject.ALL: 0>, <MoveDirection.LEFT: 3>, <MoveTarget.TILL_EDGE: 0>]\n[<TargetObject.ALL: 0>, <MoveDirection.LEFT: 3>, <MoveTarget.CENTERED: 1>]\n[<TargetObject.ALL: 0>, <MoveDirection.TO_TOP_OBJECT: 4>, <MoveTarget.TILL_EDGE: 0>]\n[<TargetObject.ALL: 0>, <MoveDirection.TO_TOP_OBJECT: 4>, <MoveTarget.CENTERED: 1>]\n[<TargetObject.TOP: 1>, <MoveDirection.UP: 0>, <MoveTarget.TILL_EDGE: 0>]\n[<TargetObject.TOP: 1>, <MoveDirection.UP: 0>, <MoveTarget.CENTERED: 1>]\n[<TargetObject.TOP: 1>, <MoveDirection.DOWN: 1>, <MoveTarget.TILL_EDGE: 0>]\n[<TargetObject.TOP: 1>, <MoveDirection.DOWN: 1>, <MoveTarget.CENTERED: 1>]\n[<TargetObject.TOP: 1>, <MoveDirection.RIGHT: 2>, <MoveTarget.TILL_EDGE: 0>]\n[<TargetObject.TOP: 1>, <MoveDirection.RIGHT: 2>, <MoveTarget.CENTERED: 1>]\n[<TargetObject.TOP: 1>, <MoveDirection.LEFT: 3>, <MoveTarget.TILL_EDGE: 0>]\n[<TargetObject.TOP: 1>, <MoveDirection.LEFT: 3>, <MoveTarget.CENTERED: 1>]\n[<TargetObject.TOP: 1>, <MoveDirection.TO_TOP_OBJECT: 4>, <MoveTarget.TILL_EDGE: 0>]\n[<TargetObject.TOP: 1>, <MoveDirection.TO_TOP_OBJECT: 4>, <MoveTarget.CENTERED: 1>]\n[<TargetObject.BOTTOM: 2>, <MoveDirection.UP: 0>, <MoveTarget.TILL_EDGE: 0>]\n[<TargetObject.BOTTOM: 2>, <MoveDirection.UP: 0>, <MoveTarget.CENTERED: 1>]\n[<TargetObject.BOTTOM: 2>, <MoveDirection.DOWN: 1>, <MoveTarget.TILL_EDGE: 0>]\n[<TargetObject.BOTTOM: 2>, <MoveDirection.DOWN: 1>, <MoveTarget.CENTERED: 1>]\n[<TargetObject.BOTTOM: 2>, <MoveDirection.RIGHT: 2>, <MoveTarget.TILL_EDGE: 0>]\n[<TargetObject.BOTTOM: 2>, <MoveDirection.RIGHT: 2>, <MoveTarget.CENTERED: 1>]\n[<TargetObject.BOTTOM: 2>, <MoveDirection.LEFT: 3>, <MoveTarget.TILL_EDGE: 0>]\n[<TargetObject.BOTTOM: 2>, <MoveDirection.LEFT: 3>, <MoveTarget.CENTERED: 1>]\n[<TargetObject.BOTTOM: 2>, <MoveDirection.TO_TOP_OBJECT: 4>, <MoveTarget.TILL_EDGE: 0>]\n[<TargetObject.BOTTOM: 2>, <MoveDirection.TO_TOP_OBJECT: 4>, <MoveTarget.CENTERED: 1>]\n"
     ],
     "output_type": "stream"
    }
   ],
   "source": [
    "for args in ArgsGenerator(ActionType.MV_OBJ):\n",
    "    print(args)"
   ],
   "metadata": {
    "collapsed": false,
    "pycharm": {
     "name": "#%%\n",
     "is_executing": false
    }
   }
  },
  {
   "cell_type": "code",
   "execution_count": 51,
   "outputs": [],
   "source": [
    "a = np.diag((1, 2, 3))\n",
    "a\n"
   ],
   "metadata": {
    "collapsed": false,
    "pycharm": {
     "name": "#%%\n",
     "is_executing": false
    }
   }
  },
  {
   "cell_type": "code",
   "execution_count": 56,
   "outputs": [],
   "source": [
    "a[((0,2), 1)]"
   ],
   "metadata": {
    "collapsed": false,
    "pycharm": {
     "name": "#%%\n",
     "is_executing": false
    }
   }
  },
  {
   "cell_type": "code",
   "execution_count": 62,
   "outputs": [],
   "source": [
    "slice(1,4)"
   ],
   "metadata": {
    "collapsed": false,
    "pycharm": {
     "name": "#%%\n",
     "is_executing": false
    }
   }
  },
  {
   "cell_type": "code",
   "execution_count": 18,
   "outputs": [],
   "source": [
    "[0] * 2"
   ],
   "metadata": {
    "collapsed": false,
    "pycharm": {
     "name": "#%%\n",
     "is_executing": false
    }
   }
  },
  {
   "cell_type": "code",
   "execution_count": 31,
   "outputs": [
    {
     "data": {
      "text/plain": "[0]"
     },
     "metadata": {},
     "output_type": "execute_result",
     "execution_count": 31
    }
   ],
   "source": [
    "a = (0, 1)\n",
    "[b for b in range(*a)]"
   ],
   "metadata": {
    "collapsed": false,
    "pycharm": {
     "name": "#%%\n",
     "is_executing": false
    }
   }
  },
  {
   "cell_type": "code",
   "execution_count": 5,
   "outputs": [
    {
     "data": {
      "text/plain": "<list_iterator at 0x1a2ac5c240>"
     },
     "metadata": {},
     "output_type": "execute_result",
     "execution_count": 5
    }
   ],
   "source": [
    "a = iter(GENERATOR_VARIANTS)\n",
    "a"
   ],
   "metadata": {
    "collapsed": false,
    "pycharm": {
     "name": "#%%\n",
     "is_executing": false
    }
   }
  },
  {
   "cell_type": "code",
   "execution_count": 8,
   "outputs": [
    {
     "data": {
      "text/plain": "(<ActionType.ADD_OBJ: 1>, (1, 1))"
     },
     "metadata": {},
     "output_type": "execute_result",
     "execution_count": 8
    }
   ],
   "source": [
    "next(a)"
   ],
   "metadata": {
    "collapsed": false,
    "pycharm": {
     "name": "#%%\n",
     "is_executing": false
    }
   }
  },
  {
   "cell_type": "code",
   "execution_count": 35,
   "outputs": [
    {
     "data": {
      "text/plain": "'#0074D9'"
     },
     "metadata": {},
     "output_type": "execute_result",
     "execution_count": 35
    }
   ],
   "source": [
    "TargetColor.to_color(TargetColor.COLOR1, [])"
   ],
   "metadata": {
    "collapsed": false,
    "pycharm": {
     "name": "#%%\n",
     "is_executing": false
    }
   }
  },
  {
   "cell_type": "code",
   "execution_count": 33,
   "outputs": [
    {
     "data": {
      "text/plain": "['#000000',\n '#0074D9',\n '#FF4136',\n '#2ECC40',\n '#FFDC00',\n '#AAAAAA',\n '#F012BE',\n '#FF851B',\n '#7FDBFF',\n '#870C25',\n '#004d00']"
     },
     "metadata": {},
     "output_type": "execute_result",
     "execution_count": 33
    }
   ],
   "source": [
    "cmap.colors"
   ],
   "metadata": {
    "collapsed": false,
    "pycharm": {
     "name": "#%%\n",
     "is_executing": false
    }
   }
  },
  {
   "cell_type": "code",
   "execution_count": null,
   "outputs": [],
   "source": [
    "\n"
   ],
   "metadata": {
    "collapsed": false,
    "pycharm": {
     "name": "#%%\n"
    }
   }
  }
 ],
 "metadata": {
  "language_info": {
   "codemirror_mode": {
    "name": "ipython",
    "version": 2
   },
   "file_extension": ".py",
   "mimetype": "text/x-python",
   "name": "python",
   "nbconvert_exporter": "python",
   "pygments_lexer": "ipython2",
   "version": "2.7.6"
  },
  "kernelspec": {
   "name": "python3",
   "language": "python",
   "display_name": "Python 3"
  },
  "pycharm": {
   "stem_cell": {
    "cell_type": "raw",
    "source": [],
    "metadata": {
     "collapsed": false
    }
   }
  }
 },
 "nbformat": 4,
 "nbformat_minor": 0
}